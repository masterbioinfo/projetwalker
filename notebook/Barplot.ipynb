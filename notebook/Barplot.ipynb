{
 "cells": [
  {
   "cell_type": "code",
   "execution_count": 21,
   "metadata": {
    "extensions": {
     "jupyter_dashboards": {
      "version": 1,
      "views": {
       "grid_default": {
        "col": 0,
        "height": 4,
        "hidden": true,
        "row": 0,
        "width": 4
       },
       "report_default": {}
      }
     }
    }
   },
   "outputs": [
    {
     "data": {
      "text/html": [
       "<script>requirejs.config({paths: { 'plotly': ['https://cdn.plot.ly/plotly-latest.min']},});if(!window.Plotly) {{require(['plotly'],function(plotly) {window.Plotly=plotly;});}}</script>"
      ],
      "text/vnd.plotly.v1+html": [
       "<script>requirejs.config({paths: { 'plotly': ['https://cdn.plot.ly/plotly-latest.min']},});if(!window.Plotly) {{require(['plotly'],function(plotly) {window.Plotly=plotly;});}}</script>"
      ]
     },
     "metadata": {},
     "output_type": "display_data"
    }
   ],
   "source": [
    "import plotly.offline as plt\n",
    "from plotly import tools\n",
    "import plotly.graph_objs as go\n",
    "from plotly.graph_objs import Scatter, Layout\n",
    "from plotly.graph_objs.graph_objs import Bar, Data\n",
    "from ipywidgets import *\n",
    "import ipywidgets as widgets\n",
    "\n",
    "plt.init_notebook_mode(connected=True)\n"
   ]
  },
  {
   "cell_type": "code",
   "execution_count": 22,
   "metadata": {
    "extensions": {
     "jupyter_dashboards": {
      "version": 1,
      "views": {
       "grid_default": {
        "col": null,
        "height": 35,
        "hidden": false,
        "row": 0,
        "width": null
       },
       "report_default": {}
      }
     }
    }
   },
   "outputs": [
    {
     "data": {
      "application/vnd.jupyter.widget-view+json": {
       "model_id": "57e32adf44424864a4959a1572791afa",
       "version_major": 2,
       "version_minor": 0
      },
      "text/plain": [
       "A Jupyter Widget"
      ]
     },
     "metadata": {},
     "output_type": "display_data"
    }
   ],
   "source": [
    "stepList=[[[130,131,132,133,134,135],[1.0,1.1,1.2,1.5,0.3, 1.9]], [[130,131,132,133,134,135], [1.1,1.5,1.0,0.2,1.3,1.8]]]\n",
    "\n",
    "slider_cuttoff = widgets.FloatSlider(max=5, step=0.001, orientation=\"horizontal\")\n",
    "\n",
    "textfloat_cuttoff = BoundedFloatText(max=5, min=0, step=0.001)\n",
    "#display(textfloat_cuttoff,slider_cuttoff)\n",
    "\n",
    "mylink = widgets.jslink((textfloat_cuttoff, 'value'), (slider_cuttoff, 'value'))\n",
    "\n",
    "class MultiHist(object):\n",
    "    \"\"\"Class for showing stacked histograms using plotly\"\"\"\n",
    "    def __init__(self):\n",
    "        self.x=[chr(carac) for carac in range(1,100)]*10\n",
    "        self.y=[[0.01*num for num in range(1,100)]]*10\n",
    "        self.color=[['']*100]*10\n",
    "        self.layout=None      \n",
    "        \n",
    "    def update(self, slider, textbox):\n",
    "        \"\"\"This function updates the cutoff value when it is modified by 1 of the 2 types of widget\"\"\"\n",
    "        fig = tools.make_subplots(rows=len(self.y), cols=1, print_grid=False)\n",
    "        for stepNumber,step in enumerate(self.y):\n",
    "            for index,elm in enumerate(step):\n",
    "                if elm > slider:\n",
    "                    self.color[stepNumber][index]='rgb(255,128,0)'\n",
    "                else:\n",
    "                    self.color[stepNumber][index]='rgb(0,128,255)'\n",
    "            trace1 = go.Bar(\n",
    "                    x=self.x[stepNumber],\n",
    "                    y=self.y[stepNumber],\n",
    "                    marker=dict(\n",
    "                        color=self.color[stepNumber]),\n",
    "                    name='Step '+str(stepNumber+1),\n",
    "                )\n",
    "            data = [trace1]\n",
    "            fig.append_trace(trace1, stepNumber+1, 1)\n",
    "            fig['layout'].update(title='Titration step 1 to '+str(len(self.y)),shapes=[\n",
    "                                    {\n",
    "                                        'type': 'line',\n",
    "                                        'xref': 'paper',\n",
    "                                        'x0':-1,\n",
    "                                        'y0': slider, # use absolute value or variable here\n",
    "                                        'x1':len(step),\n",
    "                                        'y1': slider, # ditto\n",
    "                                        'xref':\"x\",\n",
    "                                        'yref':\"y\",\n",
    "                                        'line': {\n",
    "                                            'color': 'rgb(255,0,0)',\n",
    "                                            'width': 2,\n",
    "                                            'dash':'dashdot',\n",
    "                                        },\n",
    "                                    },\n",
    "                                ]*len(self.y),showlegend=False,\n",
    "                                    annotations=[{\n",
    "                                            'x':-1,\n",
    "                                            'y':2,\n",
    "                                            'xref':'x',\n",
    "                                            'yref':'y',\n",
    "                                            'text':'max=5',\n",
    "                                            'showarrow':False,\n",
    "                                            'font':{\n",
    "                                                'family':'Courier New, monospace',\n",
    "                                                'size':11,\n",
    "                                                'color':'#ffffff'\n",
    "                                            },\n",
    "                                            \n",
    "                                            'bordercolor':'rgb(255,255,255)',\n",
    "                                            'borderwidth':2,\n",
    "                                            'borderpad':4,\n",
    "                                            'bgcolor':'rgb(0,0,0)',\n",
    "                                            'opacity':0.7\n",
    "                                    }\n",
    "                                    ]*len(self.y)+[{\n",
    "                                            'xref': 'paper',\n",
    "                                            'yref': 'paper',\n",
    "                                            'x': 0,\n",
    "                                            'xanchor': 'right',\n",
    "                                            'y': 1,\n",
    "                                            'yanchor': 'bottom',\n",
    "                                            'text': 'Chemical shift intensity',\n",
    "                                            'showarrow': False\n",
    "                                          }, {\n",
    "                                            'xref': 'paper',\n",
    "                                            'yref': 'paper',\n",
    "                                            'x': 1,\n",
    "                                            'xanchor': 'left',\n",
    "                                            'y': 0,\n",
    "                                            'yanchor': 'top',\n",
    "                                            'text': 'Amino acid number',\n",
    "                                            'showarrow': False\n",
    "                                          }],\n",
    "                                    width=1000,\n",
    "                                    height=1000,\n",
    "                                    margin=go.Margin(\n",
    "                                        l=200,\n",
    "                                        r=200,\n",
    "                                        b=100,\n",
    "                                        t=100,\n",
    "                                        pad=4\n",
    "    )\n",
    "                )\n",
    "            \n",
    "        for index,step in enumerate(self.y):\n",
    "            fig['layout']['shapes'][index]['xref']=\"x\"+str(index+1)\n",
    "            fig['layout']['shapes'][index]['yref']=\"y\"+str(index+1)\n",
    "            fig['layout']['annotations'][index]['xref']=\"x\"+str(index+1)\n",
    "            fig['layout']['annotations'][index]['yref']=\"y\"+str(index+1)\n",
    "            #fig['layout']['annotations'][index]['y']=5*(index+1)\n",
    "            fig['layout']['annotations'][index]['text']=\"Step \" +str(index+1)\n",
    "        plt.iplot(fig)\n",
    "\n",
    "h=MultiHist()      \n",
    "widgets.interactive(h.update, slider=slider_cuttoff, textbox=textfloat_cuttoff)"
   ]
  },
  {
   "cell_type": "code",
   "execution_count": null,
   "metadata": {
    "collapsed": true,
    "extensions": {
     "jupyter_dashboards": {
      "version": 1,
      "views": {
       "grid_default": {
        "hidden": true
       },
       "report_default": {}
      }
     }
    }
   },
   "outputs": [],
   "source": []
  }
 ],
 "metadata": {
  "extensions": {
   "jupyter_dashboards": {
    "activeView": "grid_default",
    "version": 1,
    "views": {
     "grid_default": {
      "cellMargin": 10,
      "defaultCellHeight": 20,
      "maxColumns": 12,
      "name": "grid",
      "type": "grid"
     },
     "report_default": {
      "name": "report",
      "type": "report"
     }
    }
   }
  },
  "kernelspec": {
   "display_name": "Python 3",
   "language": "python",
   "name": "python3"
  },
  "language_info": {
   "codemirror_mode": {
    "name": "ipython",
    "version": 3
   },
   "file_extension": ".py",
   "mimetype": "text/x-python",
   "name": "python",
   "nbconvert_exporter": "python",
   "pygments_lexer": "ipython3",
   "version": "3.6.3"
  }
 },
 "nbformat": 4,
 "nbformat_minor": 2
}
