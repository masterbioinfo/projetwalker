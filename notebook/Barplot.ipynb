{
 "cells": [
  {
   "cell_type": "code",
   "execution_count": 9,
   "metadata": {
    "extensions": {
     "jupyter_dashboards": {
      "version": 1,
      "views": {
       "grid_default": {
        "col": 0,
        "height": 4,
        "hidden": true,
        "row": 0,
        "width": 4
       },
       "report_default": {}
      }
     }
    }
   },
   "outputs": [
    {
     "data": {
      "text/html": [
       "<script>requirejs.config({paths: { 'plotly': ['https://cdn.plot.ly/plotly-latest.min']},});if(!window.Plotly) {{require(['plotly'],function(plotly) {window.Plotly=plotly;});}}</script>"
      ],
      "text/vnd.plotly.v1+html": [
       "<script>requirejs.config({paths: { 'plotly': ['https://cdn.plot.ly/plotly-latest.min']},});if(!window.Plotly) {{require(['plotly'],function(plotly) {window.Plotly=plotly;});}}</script>"
      ]
     },
     "metadata": {},
     "output_type": "display_data"
    }
   ],
   "source": [
    "import plotly.offline as plt\n",
    "from plotly import tools\n",
    "import plotly.graph_objs as go\n",
    "from plotly.graph_objs import Layout\n",
    "from plotly.graph_objs.graph_objs import Bar\n",
    "from ipywidgets import *\n",
    "import ipywidgets as widgets\n",
    "\n",
    "plt.init_notebook_mode(connected=True)\n"
   ]
  },
  {
   "cell_type": "code",
   "execution_count": 10,
   "metadata": {
    "collapsed": true,
    "extensions": {
     "jupyter_dashboards": {
      "version": 1,
      "views": {
       "grid_default": {
        "col": null,
        "height": 35,
        "hidden": false,
        "row": 0,
        "width": null
       },
       "report_default": {}
      }
     }
    }
   },
   "outputs": [],
   "source": [
    "\n",
    "class MultiHist(object):\n",
    "    \"\"\"Class for showing stacked or single histograms using plotly\"\"\"\n",
    "    def __init__(self, titration):\n",
    "        \"\"\"Define attributs.\n",
    "        argument 'titration' is a two dimensions list (should be a titration object from shiftome after developpement)\"\"\"\n",
    "        self.titration=titration\n",
    "        self.x=self.titration[0]#list of abscissa (dimension equal to the number of plots)\n",
    "        self.y=self.titration[1]#ordinates (dimension equal to the number of plots)\n",
    "        self.slider=widgets.FloatSlider(max=5, step=0.001, orientation=\"horizontal\") #widget modifying cutoff as a slider\n",
    "        self.textfloat=BoundedFloatText(max=5, min=0, step=0.001) # widget modifying cutoff as a text box\n",
    "        self.link=widgets.jslink((self.textfloat, 'value'), (self.slider, 'value')) # link between slider and text box\n",
    "        self.stepSelector=widgets.Dropdown(options=['All']+[index+1 for index,step in enumerate(self.titration[0])],\n",
    "                                           value='All',description='Step:',disabled=False,) # widget for selecting 'All' or one step\n",
    "\n",
    "        \n",
    "    def updateAttr(self, stepInt):\n",
    "        \"\"\"Changes attributs x and y coordinates.\n",
    "        argument 'stepInt' is either a string or an integer representing 'All' one step\"\"\"\n",
    "        if stepInt == 'All':\n",
    "            self.x=self.titration[0]\n",
    "            self.y=self.titration[1]\n",
    "        else:\n",
    "            self.x=[self.titration[0][stepInt-1]]\n",
    "            self.y=[self.titration[1][stepInt-1]]\n",
    "       \n",
    "        \n",
    "    def updateHist(self,stepInt, slider, textbox, ):\n",
    "        \"\"\"Method for tracing stacked or single histogram in one or more subplots.\n",
    "        Creates one or more histogram with personalized parameters such as color bars and annotations regarding cutoff value.\n",
    "        Defines a layout in which a \n",
    "        cutoff line is traced and a global legend and y scale for all subplots.\n",
    "        argument 'stepInt' is either a string or an integer representing 'All or one step.\n",
    "        argument 'slider' and 'textbox' are float numbers representing the same cutoff value.\"\"\"\n",
    "        self.updateAttr(stepInt=stepInt) #updates attributs\n",
    "        fig = tools.make_subplots(rows=len(self.y), cols=1, print_grid=False) # one-column stacked histograms\n",
    "        ##global plot parameters\n",
    "        fig['layout'].update(title='Titration step 1 to '+str(len(self.y)),shapes=[ \n",
    "                                    {\n",
    "                                        'type': 'line',\n",
    "                                        'x0':-1, #x position of the cutoff line\n",
    "                                        'y0': slider,\n",
    "                                        'x1':len(self.y[0]),\n",
    "                                        'y1': slider,\n",
    "                                        'xref':\"x\", #plot number\n",
    "                                        'yref':\"y\",\n",
    "                                        'line': {\n",
    "                                            'color': 'rgb(255,0,0)',\n",
    "                                            'width': 1,\n",
    "                                            'dash':'dashdot',\n",
    "                                        },\n",
    "                                    },\n",
    "                                ]*len(self.y),showlegend=False,\n",
    "                                    annotations=[{\n",
    "                                            'x':-1, #x position of the annotation\n",
    "                                            'y':2,\n",
    "                                            'xref':'x', #plot number\n",
    "                                            'yref':'y',\n",
    "                                            'text':'max=5',\n",
    "                                            'showarrow':False,\n",
    "                                            'font':{\n",
    "                                                'family':'Courier New, monospace',\n",
    "                                                'size':11,\n",
    "                                                'color':'#ffffff'\n",
    "                                            },\n",
    "                                            \n",
    "                                            'bordercolor':'rgb(255,255,255)',\n",
    "                                            'borderwidth':2,\n",
    "                                            'borderpad':4,\n",
    "                                            'bgcolor':'rgb(0,0,0)',\n",
    "                                            'opacity':0.7\n",
    "                                    }\n",
    "                                    ]*len(self.y)+[{\n",
    "                                            'xref': 'paper', #plot number\n",
    "                                            'yref': 'paper',\n",
    "                                            'x': 0, #x poition of x ax legend\n",
    "                                            'xanchor': 'right',\n",
    "                                            'y': 1,\n",
    "                                            'yanchor': 'bottom',\n",
    "                                            'text': 'Chemical shift intensity',\n",
    "                                            'showarrow': False,\n",
    "                                            'font':{'size':16,},\n",
    "                                          }, {\n",
    "                                            'xref': 'paper',\n",
    "                                            'yref': 'paper',\n",
    "                                            'x': 1,\n",
    "                                            'xanchor': 'left',\n",
    "                                            'y': 0,\n",
    "                                            'yanchor': 'top',\n",
    "                                            'text': 'Amino acid number',\n",
    "                                            'showarrow': False,\n",
    "                                            'font':{'size':16,}\n",
    "                                          }],\n",
    "                                    width=1000, #width of plotly interface\n",
    "                                    height=1000,\n",
    "                                    margin=go.Margin(\n",
    "                                        l=200,\n",
    "                                        r=200,\n",
    "                                        b=100,\n",
    "                                        t=100,\n",
    "                                        pad=4\n",
    "    )\n",
    "                )\n",
    "        ##\n",
    "        ##personalized plot parameters\n",
    "        for stepIndex,step in enumerate(self.y):\n",
    "            color=[] #color list for all bars\n",
    "            for index,elm in enumerate(step):\n",
    "                if elm > slider:\n",
    "                    color.append('rgb(255,128,0)')\n",
    "                else:\n",
    "                    color.append('rgb(0,128,255)')\n",
    "            trace1 = go.Bar(\n",
    "                    x=self.x[stepIndex],\n",
    "                    y=self.y[stepIndex],\n",
    "                    marker=dict(\n",
    "                        color=color),\n",
    "                    name='Step '+str(stepIndex+1),\n",
    "                )\n",
    "            fig.append_trace(trace1, stepIndex+1, 1)\n",
    "            fig['layout']['shapes'][stepIndex]['xref']=\"x\"+str(stepIndex+1) #cutoff line affectation\n",
    "            fig['layout']['shapes'][stepIndex]['yref']=\"y\"+str(stepIndex+1)\n",
    "            fig['layout']['annotations'][stepIndex]['xref']=\"x\"+str(stepIndex+1) #annotation affectation\n",
    "            fig['layout']['annotations'][stepIndex]['yref']=\"y\"+str(stepIndex+1)\n",
    "            fig['layout']['annotations'][stepIndex]['x']=(len(self.x[stepIndex]))/2 #annotation :middle plot position\n",
    "            fig['layout']['annotations'][stepIndex]['y']=1.5*max(self.y[-1])#annotation :top plot position\n",
    "            fig['layout']['annotations'][stepIndex]['text']=\"Step \" +str(stepIndex+1)\n",
    "            fig['layout']['yaxis'+str(stepIndex+1)].update(range=[0,1.8*max(self.y[-1])])#harmonized y scale for all subplots\n",
    "        ##one step histogram specicifc parmameters\n",
    "        if stepInt != 'All': \n",
    "            fig['layout'].update(xaxis={'showline':True, 'showgrid':True,'zeroline':True}, \n",
    "                                 yaxis={'range':[0,max(self.y[stepIndex])],'showline':True,'zeroline':False}) #show x and y axes\n",
    "            fig['layout']['annotations']=[] #delete annotation\n",
    "            fig['layout']['title']=\"Titration step \"+str(stepInt)\n",
    "        ##\n",
    "        ##\n",
    "        plt.iplot(fig)\n",
    "\n"
   ]
  },
  {
   "cell_type": "code",
   "execution_count": 11,
   "metadata": {
    "extensions": {
     "jupyter_dashboards": {
      "version": 1,
      "views": {
       "grid_default": {
        "hidden": true
       },
       "report_default": {}
      }
     }
    }
   },
   "outputs": [
    {
     "data": {
      "application/vnd.jupyter.widget-view+json": {
       "model_id": "c98bbe8fb93745e8b1dde2d047b57b3d",
       "version_major": 2,
       "version_minor": 0
      },
      "text/plain": [
       "A Jupyter Widget"
      ]
     },
     "metadata": {},
     "output_type": "display_data"
    }
   ],
   "source": [
    "titrationExample=[[[chr(carac) for carac in range(1,100)]]*9,\n",
    "[[0.01*num for num in range(1,100)],\n",
    "  [0.02*num for num in range(1,100)], \n",
    "  [0.03*num for num in range(1,100)], \n",
    "  [0.04*num for num in range(1,100)],\n",
    "  [0.05*num for num in range(1,100)], \n",
    "  [0.06*num for num in range(1,100)],\n",
    "  [0.07*num for num in range(1,100)], \n",
    "  [0.08*num for num in range(1,100)],\n",
    "  [0.09*num for num in range(1,100)]]]\n",
    "h=MultiHist(titrationExample)\n",
    "widgets.interactive(h.updateHist, stepInt=h.stepSelector, slider=h.slider, textbox=h.textfloat, )"
   ]
  },
  {
   "cell_type": "code",
   "execution_count": null,
   "metadata": {
    "collapsed": true
   },
   "outputs": [],
   "source": []
  }
 ],
 "metadata": {
  "extensions": {
   "jupyter_dashboards": {
    "activeView": "grid_default",
    "version": 1,
    "views": {
     "grid_default": {
      "cellMargin": 10,
      "defaultCellHeight": 20,
      "maxColumns": 12,
      "name": "grid",
      "type": "grid"
     },
     "report_default": {
      "name": "report",
      "type": "report"
     }
    }
   }
  },
  "kernelspec": {
   "display_name": "Python 3",
   "language": "python",
   "name": "python3"
  },
  "language_info": {
   "codemirror_mode": {
    "name": "ipython",
    "version": 3
   },
   "file_extension": ".py",
   "mimetype": "text/x-python",
   "name": "python",
   "nbconvert_exporter": "python",
   "pygments_lexer": "ipython3",
   "version": "3.6.3"
  }
 },
 "nbformat": 4,
 "nbformat_minor": 2
}
