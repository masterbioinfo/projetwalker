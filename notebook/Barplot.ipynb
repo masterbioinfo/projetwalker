{
 "cells": [
  {
   "cell_type": "code",
   "execution_count": 1,
   "metadata": {
    "extensions": {
     "jupyter_dashboards": {
      "version": 1,
      "views": {
       "grid_default": {
        "col": 0,
        "height": 4,
        "hidden": true,
        "row": 0,
        "width": 4
       },
       "report_default": {}
      }
     }
    }
   },
   "outputs": [
    {
     "data": {
      "text/html": [
       "<script>requirejs.config({paths: { 'plotly': ['https://cdn.plot.ly/plotly-latest.min']},});if(!window.Plotly) {{require(['plotly'],function(plotly) {window.Plotly=plotly;});}}</script>"
      ],
      "text/vnd.plotly.v1+html": [
       "<script>requirejs.config({paths: { 'plotly': ['https://cdn.plot.ly/plotly-latest.min']},});if(!window.Plotly) {{require(['plotly'],function(plotly) {window.Plotly=plotly;});}}</script>"
      ]
     },
     "metadata": {},
     "output_type": "display_data"
    }
   ],
   "source": [
    "import plotly.offline as plt\n",
    "from plotly import tools\n",
    "import plotly.graph_objs as go\n",
    "from plotly.graph_objs import Layout\n",
    "from plotly.graph_objs.graph_objs import Bar\n",
    "from ipywidgets import *\n",
    "import ipywidgets as widgets\n",
    "\n",
    "plt.init_notebook_mode(connected=True)\n"
   ]
  },
  {
   "cell_type": "code",
   "execution_count": 12,
   "metadata": {
    "extensions": {
     "jupyter_dashboards": {
      "version": 1,
      "views": {
       "grid_default": {
        "col": null,
        "height": 35,
        "hidden": false,
        "row": 0,
        "width": null
       },
       "report_default": {}
      }
     }
    }
   },
   "outputs": [],
   "source": [
    "stepList=[[[130,131,132,133,134,135],[1.0,1.1,1.2,1.5,0.3, 1.9]], [[130,131,132,133,134,135], [1.1,1.5,1.0,0.2,1.3,1.8]]]\n",
    "xStep=[[chr(carac) for carac in range(1,100)]]*10\n",
    "yStep=[[0.01*num for num in range(1,100)]]*10\n",
    "slider_cuttoff = widgets.FloatSlider(max=5, step=0.001, orientation=\"horizontal\")\n",
    "\n",
    "textfloat_cuttoff = BoundedFloatText(max=5, min=0, step=0.001)\n",
    "stepSelector=widgets.Dropdown(options=['All']+[index+1 for index,step in enumerate(xStep)],value='All',description='Step:',disabled=False,)\n",
    "\n",
    "mylink = widgets.jslink((textfloat_cuttoff, 'value'), (slider_cuttoff, 'value'))\n",
    "\n",
    "class MultiHist(object):\n",
    "    \"\"\"Class for showing stacked histograms using plotly\"\"\"\n",
    "    def __init__(self, step=None):\n",
    "        xStep=None\n",
    "        yStep=None\n",
    "        self.x=xStep\n",
    "        self.y=yStep\n",
    "        self.layout=None\n",
    "        \n",
    "    def updateAttr(self, stepInt):\n",
    "        xStep=[[chr(carac) for carac in range(1,100)]]*10\n",
    "        yStep=[[0.01*num for num in range(1,100)], \n",
    "               [0.02*num for num in range(1,100)], \n",
    "               [0.03*num for num in range(1,100)], \n",
    "               [0.04*num for num in range(1,100)],\n",
    "               [0.05*num for num in range(1,100)], \n",
    "               [0.06*num for num in range(1,100)],\n",
    "               [0.07*num for num in range(1,100)], \n",
    "               [0.08*num for num in range(1,100)],\n",
    "               [0.09*num for num in range(1,100)], \n",
    "               [0.1*num for num in range(1,100)]]\n",
    "        if stepInt == 'All':\n",
    "            self.x=xStep\n",
    "            self.y=yStep\n",
    "        else:\n",
    "            self.x=[xStep[stepInt-1]]\n",
    "            self.y=[yStep[stepInt-1]]\n",
    "       \n",
    "        \n",
    "    def updateHist(self,stepInt, slider, textbox, ):\n",
    "        \"\"\"This function updates the cutoff value when it is modified by 1 of the 2 types of widget\"\"\"\n",
    "        self.updateAttr(stepInt=stepInt)\n",
    "        fig = tools.make_subplots(rows=len(self.y), cols=1, print_grid=False)\n",
    "        fig['layout'].update(title='Titration step 1 to '+str(len(self.y)),shapes=[\n",
    "                                    {\n",
    "                                        'type': 'line',\n",
    "                                        'xref': 'paper',\n",
    "                                        'x0':-1,\n",
    "                                        'y0': slider, # use absolute value or variable here\n",
    "                                        'x1':len(self.y[0]),\n",
    "                                        'y1': slider, # ditto\n",
    "                                        'xref':\"x\",\n",
    "                                        'yref':\"y\",\n",
    "                                        'line': {\n",
    "                                            'color': 'rgb(255,0,0)',\n",
    "                                            'width': 2,\n",
    "                                            'dash':'dashdot',\n",
    "                                        },\n",
    "                                    },\n",
    "                                ]*len(self.y),showlegend=False,\n",
    "                                    annotations=[{\n",
    "                                            'x':-1,\n",
    "                                            'y':2,\n",
    "                                            'xref':'x',\n",
    "                                            'yref':'y',\n",
    "                                            'text':'max=5',\n",
    "                                            'showarrow':False,\n",
    "                                            'font':{\n",
    "                                                'family':'Courier New, monospace',\n",
    "                                                'size':11,\n",
    "                                                'color':'#ffffff'\n",
    "                                            },\n",
    "                                            \n",
    "                                            'bordercolor':'rgb(255,255,255)',\n",
    "                                            'borderwidth':2,\n",
    "                                            'borderpad':4,\n",
    "                                            'bgcolor':'rgb(0,0,0)',\n",
    "                                            'opacity':0.7\n",
    "                                    }\n",
    "                                    ]*len(self.y)+[{\n",
    "                                            'xref': 'paper',\n",
    "                                            'yref': 'paper',\n",
    "                                            'x': 0,\n",
    "                                            'xanchor': 'right',\n",
    "                                            'y': 1,\n",
    "                                            'yanchor': 'bottom',\n",
    "                                            'text': 'Chemical shift intensity',\n",
    "                                            'showarrow': False\n",
    "                                          }, {\n",
    "                                            'xref': 'paper',\n",
    "                                            'yref': 'paper',\n",
    "                                            'x': 1,\n",
    "                                            'xanchor': 'left',\n",
    "                                            'y': 0,\n",
    "                                            'yanchor': 'top',\n",
    "                                            'text': 'Amino acid number',\n",
    "                                            'showarrow': False\n",
    "                                          }],\n",
    "                                    width=1000,\n",
    "                                    height=1000,\n",
    "                                    margin=go.Margin(\n",
    "                                        l=200,\n",
    "                                        r=200,\n",
    "                                        b=100,\n",
    "                                        t=100,\n",
    "                                        pad=4\n",
    "    )\n",
    "                )\n",
    "        \n",
    "        for stepIndex,step in enumerate(self.y):\n",
    "            color=[]\n",
    "            for index,elm in enumerate(step):\n",
    "                if elm > slider:\n",
    "                    color.append('rgb(255,128,0)')\n",
    "                else:\n",
    "                    color.append('rgb(0,128,255)')\n",
    "            trace1 = go.Bar(\n",
    "                    x=self.x[stepIndex],\n",
    "                    y=self.y[stepIndex],\n",
    "                    marker=dict(\n",
    "                        color=color),\n",
    "                    name='Step '+str(stepIndex+1),\n",
    "                )\n",
    "            fig.append_trace(trace1, stepIndex+1, 1)\n",
    "            fig['layout']['shapes'][stepIndex]['xref']=\"x\"+str(stepIndex+1)\n",
    "            fig['layout']['shapes'][stepIndex]['yref']=\"y\"+str(stepIndex+1)\n",
    "            fig['layout']['annotations'][stepIndex]['xref']=\"x\"+str(stepIndex+1)\n",
    "            fig['layout']['annotations'][stepIndex]['yref']=\"y\"+str(stepIndex+1)\n",
    "            fig['layout']['annotations'][stepIndex]['y']=1.2*max(self.y[stepIndex])\n",
    "            fig['layout']['annotations'][stepIndex]['text']=\"Step \" +str(stepIndex+1)\n",
    "        if stepInt != 'All':\n",
    "            fig['layout']['annotations'][stepIndex]['text']=\"Step \" +str(stepInt)\n",
    "            fig['layout']['title']=\"Titration step \"+str(stepInt)\n",
    "        plt.iplot(fig)\n",
    "\n",
    "\n",
    "h=MultiHist()\n"
   ]
  },
  {
   "cell_type": "code",
   "execution_count": 13,
   "metadata": {
    "extensions": {
     "jupyter_dashboards": {
      "version": 1,
      "views": {
       "grid_default": {
        "hidden": true
       },
       "report_default": {}
      }
     }
    }
   },
   "outputs": [
    {
     "data": {
      "application/vnd.jupyter.widget-view+json": {
       "model_id": "61b71ad0338e4eceb0297d9476ab7c31",
       "version_major": 2,
       "version_minor": 0
      },
      "text/plain": [
       "A Jupyter Widget"
      ]
     },
     "metadata": {},
     "output_type": "display_data"
    }
   ],
   "source": [
    "widgets.interactive(h.updateHist, stepInt=stepSelector, slider=slider_cuttoff, textbox=textfloat_cuttoff, )"
   ]
  },
  {
   "cell_type": "code",
   "execution_count": null,
   "metadata": {
    "collapsed": true
   },
   "outputs": [],
   "source": []
  }
 ],
 "metadata": {
  "extensions": {
   "jupyter_dashboards": {
    "activeView": "grid_default",
    "version": 1,
    "views": {
     "grid_default": {
      "cellMargin": 10,
      "defaultCellHeight": 20,
      "maxColumns": 12,
      "name": "grid",
      "type": "grid"
     },
     "report_default": {
      "name": "report",
      "type": "report"
     }
    }
   }
  },
  "kernelspec": {
   "display_name": "Python 3",
   "language": "python",
   "name": "python3"
  },
  "language_info": {
   "codemirror_mode": {
    "name": "ipython",
    "version": 3
   },
   "file_extension": ".py",
   "mimetype": "text/x-python",
   "name": "python",
   "nbconvert_exporter": "python",
   "pygments_lexer": "ipython3",
   "version": "3.6.3"
  }
 },
 "nbformat": 4,
 "nbformat_minor": 2
}
