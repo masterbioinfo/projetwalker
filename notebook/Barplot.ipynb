{
 "cells": [
  {
   "cell_type": "code",
   "execution_count": 1,
   "metadata": {
    "extensions": {
     "jupyter_dashboards": {
      "version": 1,
      "views": {
       "grid_default": {
        "col": 0,
        "height": 4,
        "hidden": true,
        "row": 0,
        "width": 4
       },
       "report_default": {}
      }
     }
    }
   },
   "outputs": [
    {
     "data": {
      "text/html": [
       "<script>requirejs.config({paths: { 'plotly': ['https://cdn.plot.ly/plotly-latest.min']},});if(!window.Plotly) {{require(['plotly'],function(plotly) {window.Plotly=plotly;});}}</script>"
      ],
      "text/vnd.plotly.v1+html": [
       "<script>requirejs.config({paths: { 'plotly': ['https://cdn.plot.ly/plotly-latest.min']},});if(!window.Plotly) {{require(['plotly'],function(plotly) {window.Plotly=plotly;});}}</script>"
      ]
     },
     "metadata": {},
     "output_type": "display_data"
    }
   ],
   "source": [
    "import plotly.offline as plt\n",
    "from plotly import tools\n",
    "import plotly.graph_objs as go\n",
    "from plotly.graph_objs import Scatter, Layout\n",
    "from plotly.graph_objs.graph_objs import Bar, Data\n",
    "from ipywidgets import *\n",
    "import ipywidgets as widgets\n",
    "from IPython.display import clear_output\n",
    "plt.init_notebook_mode(connected=True)\n"
   ]
  },
  {
   "cell_type": "code",
   "execution_count": 5,
   "metadata": {
    "extensions": {
     "jupyter_dashboards": {
      "version": 1,
      "views": {
       "grid_default": {
        "col": null,
        "height": 21,
        "hidden": false,
        "row": 0,
        "width": null
       },
       "report_default": {}
      }
     }
    }
   },
   "outputs": [
    {
     "data": {
      "application/vnd.jupyter.widget-view+json": {
       "model_id": "54964e66fe5f4521ad12c21785d9cf44",
       "version_major": 2,
       "version_minor": 0
      },
      "text/plain": [
       "A Jupyter Widget"
      ]
     },
     "metadata": {},
     "output_type": "display_data"
    }
   ],
   "source": [
    "stepList=[[[130,131,132,133,134,135],[1.0,1.1,1.2,1.5,0.3, 1.9]], [[130,131,132,133,134,135], [1.1,1.5,1.0,0.2,1.3,1.8]]]\n",
    "\n",
    "slider_cuttoff = widgets.FloatSlider(max=5, step=0.001, orientation=\"horizontal\")\n",
    "\n",
    "textfloat_cuttoff = BoundedFloatText(max=5, min=0, step=0.001)\n",
    "#display(textfloat_cuttoff,slider_cuttoff)\n",
    "\n",
    "mylink = widgets.jslink((textfloat_cuttoff, 'value'), (slider_cuttoff, 'value'))\n",
    "\n",
    "class MultiHist(object):\n",
    "    \"\"\"Class for showing stacked histograms using plotly\"\"\"\n",
    "    def __init__(self):\n",
    "        self.x=[[chr(carac) for carac in range(1,600)], [chr(carac) for carac in range(1,600)], [chr(carac) for carac in range(1,600)]]\n",
    "        self.y=[[0.1*num for num in range(1,600)], [0.2*num for num in range(1,600)], [0.4*num for num in range(1,600)]]\n",
    "        self.color=[[10]*len(self.y[0]),[5]*len(self.y[1]), [15]*len(self.y[2])]\n",
    "        self.layout=None        \n",
    "        \n",
    "    def update(self, slider, textbox):\n",
    "        \"\"\"This function updates the cutoff value when it is modified by 1 of the 2 types of widget\"\"\"\n",
    "        fig = tools.make_subplots(rows=len(self.y), cols=1, print_grid=False)\n",
    "        data = []\n",
    "        x=self.x\n",
    "        y=self.y\n",
    "        for stepNumber,step in enumerate(self.y):\n",
    "            for index,elm in enumerate(step):\n",
    "                if elm > slider:\n",
    "                    self.color[stepNumber][index]=[18]\n",
    "                else:\n",
    "                    self.color[stepNumber][index]='rgba(204,204,204,1)'\n",
    "            trace1 = go.Bar(\n",
    "                    x=self.x[stepNumber],\n",
    "                    y=self.y[stepNumber],\n",
    "                    marker=dict(\n",
    "                        color=self.color[stepNumber]),\n",
    "                )\n",
    "            data = [trace1]\n",
    "            fig.append_trace(trace1, stepNumber+1, 1)\n",
    "            fig['layout'].update(title='Titration step 1 to '+str(len(self.y)),shapes=[\n",
    "                                    {\n",
    "                                        'type': 'line',\n",
    "                                        'xref': 'paper',\n",
    "                                        'x0':-1,\n",
    "                                        'y0': slider, # use absolute value or variable here\n",
    "                                        'x1':len(step),\n",
    "                                        'y1': slider, # ditto\n",
    "                                        'xref':\"x\",\n",
    "                                        'yref':\"y\",\n",
    "                                        'line': {\n",
    "                                            'color': 'rgb(50, 171, 96)',\n",
    "                                            'width': 2,\n",
    "\n",
    "                                        },\n",
    "                                    },\n",
    "                                ]*len(self.y)\n",
    "                )\n",
    "            \n",
    "        for index,step in enumerate(self.y):\n",
    "            fig['layout']['shapes'][index]['xref']=\"x\"+str(index+1)\n",
    "            fig['layout']['shapes'][index]['yref']=\"y\"+str(index+1)\n",
    "        plt.iplot(fig)\n",
    "\n",
    "h=MultiHist()      \n",
    "widgets.interactive(h.update, slider=slider_cuttoff, textbox=textfloat_cuttoff)"
   ]
  },
  {
   "cell_type": "code",
   "execution_count": 48,
   "metadata": {
    "extensions": {
     "jupyter_dashboards": {
      "version": 1,
      "views": {
       "grid_default": {
        "col": 0,
        "height": 4,
        "hidden": true,
        "row": 4,
        "width": 4
       },
       "report_default": {}
      }
     }
    }
   },
   "outputs": [
    {
     "name": "stdout",
     "output_type": "stream",
     "text": [
      "This is the format of your plot grid:\n",
      "[ (1,1) x1,y1 ]  [ (1,2) x2,y2 ]\n",
      "\n"
     ]
    },
    {
     "ename": "NameError",
     "evalue": "name 'Marker' is not defined",
     "output_type": "error",
     "traceback": [
      "\u001b[0;31m---------------------------------------------------------------------------\u001b[0m",
      "\u001b[0;31mNameError\u001b[0m                                 Traceback (most recent call last)",
      "\u001b[0;32m<ipython-input-48-7e67a21c58a2>\u001b[0m in \u001b[0;36m<module>\u001b[0;34m()\u001b[0m\n\u001b[1;32m      3\u001b[0m \u001b[0mfig\u001b[0m \u001b[0;34m=\u001b[0m \u001b[0mtools\u001b[0m\u001b[0;34m.\u001b[0m\u001b[0mmake_subplots\u001b[0m\u001b[0;34m(\u001b[0m\u001b[0mrows\u001b[0m\u001b[0;34m=\u001b[0m\u001b[0mround\u001b[0m\u001b[0;34m(\u001b[0m\u001b[0mlen\u001b[0m\u001b[0;34m(\u001b[0m\u001b[0mstepList\u001b[0m\u001b[0;34m)\u001b[0m\u001b[0;34m/\u001b[0m\u001b[0;36m2\u001b[0m\u001b[0;34m)\u001b[0m\u001b[0;34m,\u001b[0m \u001b[0mcols\u001b[0m\u001b[0;34m=\u001b[0m\u001b[0;36m2\u001b[0m\u001b[0;34m)\u001b[0m\u001b[0;34m\u001b[0m\u001b[0m\n\u001b[1;32m      4\u001b[0m \u001b[0;32mfor\u001b[0m \u001b[0mindex\u001b[0m\u001b[0;34m,\u001b[0m\u001b[0melm\u001b[0m \u001b[0;32min\u001b[0m \u001b[0menumerate\u001b[0m\u001b[0;34m(\u001b[0m\u001b[0mstepList\u001b[0m\u001b[0;34m)\u001b[0m\u001b[0;34m:\u001b[0m\u001b[0;34m\u001b[0m\u001b[0m\n\u001b[0;32m----> 5\u001b[0;31m     trace= go.Scatter(x=[aminoacid for aminoacid in elm[0]], y=[intensity for intensity in elm[1]], marker=Marker(\n\u001b[0m\u001b[1;32m      6\u001b[0m             \u001b[0msize\u001b[0m\u001b[0;34m=\u001b[0m\u001b[0;36m16\u001b[0m\u001b[0;34m,\u001b[0m\u001b[0;34m\u001b[0m\u001b[0m\n\u001b[1;32m      7\u001b[0m             \u001b[0mcmax\u001b[0m\u001b[0;34m=\u001b[0m\u001b[0;36m39\u001b[0m\u001b[0;34m,\u001b[0m\u001b[0;34m\u001b[0m\u001b[0m\n",
      "\u001b[0;31mNameError\u001b[0m: name 'Marker' is not defined"
     ]
    }
   ],
   "source": [
    "stepList=[[[130,131,132,133,134,135],[1.0,1.1,1.2,1.5,0.3]], [[130,131,132,133,134,135], [1.1,1.5,1.0,0.2,1.3,1.8]]]\n",
    "\n",
    "fig = tools.make_subplots(rows=round(len(stepList)/2), cols=2)\n",
    "for index,elm in enumerate(stepList):\n",
    "    trace= go.Scatter(x=[aminoacid for aminoacid in elm[0]], y=[intensity for intensity in elm[1]], marker=Marker(\n",
    "            size=16,\n",
    "            cmax=39,\n",
    "            cmin=0,\n",
    "            color=[0, 1, 2, 3, 4, 5, 6, 7, 8, 9, 10, 11, 12, 13, 14, 15, 16, 17, 18, 19,]))\n",
    "    fig.append_trace(trace, 1, index+1 )\n",
    "\n",
    "fig['layout'].update(height=600, width=600, title='Multiple Subplots' +\n",
    "                                                  ' with Titles')\n",
    "\n",
    "plt.iplot(fig, filename='make-subplots-multiple-with-titles')"
   ]
  },
  {
   "cell_type": "code",
   "execution_count": null,
   "metadata": {
    "collapsed": true,
    "extensions": {
     "jupyter_dashboards": {
      "version": 1,
      "views": {
       "grid_default": {
        "hidden": true
       },
       "report_default": {}
      }
     }
    }
   },
   "outputs": [],
   "source": []
  }
 ],
 "metadata": {
  "extensions": {
   "jupyter_dashboards": {
    "activeView": "grid_default",
    "version": 1,
    "views": {
     "grid_default": {
      "cellMargin": 10,
      "defaultCellHeight": 20,
      "maxColumns": 12,
      "name": "grid",
      "type": "grid"
     },
     "report_default": {
      "name": "report",
      "type": "report"
     }
    }
   }
  },
  "kernelspec": {
   "display_name": "Python 3",
   "language": "python",
   "name": "python3"
  },
  "language_info": {
   "codemirror_mode": {
    "name": "ipython",
    "version": 3
   },
   "file_extension": ".py",
   "mimetype": "text/x-python",
   "name": "python",
   "nbconvert_exporter": "python",
   "pygments_lexer": "ipython3",
   "version": "3.6.3"
  }
 },
 "nbformat": 4,
 "nbformat_minor": 2
}
