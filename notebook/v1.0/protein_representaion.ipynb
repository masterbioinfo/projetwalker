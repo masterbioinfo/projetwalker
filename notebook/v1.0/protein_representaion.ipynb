{
 "cells": [
  {
   "cell_type": "code",
   "execution_count": 5,
   "metadata": {},
   "outputs": [
    {
     "data": {
      "application/vnd.jupyter.widget-view+json": {
       "model_id": "3c1ee1202eb94f54b16752dcea27d775",
       "version_major": 2,
       "version_minor": 0
      },
      "text/html": [
       "<p>Failed to display Jupyter Widget of type <code>Box</code>.</p>\n",
       "<p>\n",
       "  If you're reading this message in Jupyter Notebook or JupyterLab, it may mean\n",
       "  that the widgets JavaScript is still loading. If this message persists, it\n",
       "  likely means that the widgets JavaScript library is either not installed or\n",
       "  not enabled. See the <a href=\"https://ipywidgets.readthedocs.io/en/stable/user_install.html\">Jupyter\n",
       "  Widgets Documentation</a> for setup instructions.\n",
       "</p>\n",
       "<p>\n",
       "  If you're reading this message in another notebook frontend (for example, a static\n",
       "  rendering on GitHub or <a href=\"https://nbviewer.jupyter.org/\">NBViewer</a>),\n",
       "  it may mean that your frontend doesn't currently support widgets.\n",
       "</p>\n"
      ],
      "text/plain": [
       "Box(children=(Box(children=(Label(value=''), ToggleButton(value=False, description='Upload files', tooltip='Upload all files in the new study')), layout=Layout(display='flex', flex='flex_shrink', flex_flow='column', justify_content='space-between')), Box(children=(Label(value=''), Textarea(value='Files load', layout=Layout(display='flex', flex='flex_shrink', flex_flow='column', justify_content='space-between'), placeholder='Type something'))), Box(children=(Label(value=''), Dropdown(description='Select step', options=('Step 0', 'Step 1', 'Step 2', 'Step 3', 'Step 4', 'Step 5', 'Step 6', 'Step 7', 'Step 8', 'Step 9', 'Step 10', 'All steps'), value='Step 0')), layout=Layout(display='flex', flex='flex_shrink', flex_flow='column', justify_content='space-between')), Box(children=(Label(value=''), ColorPicker(value='#FFA810', concise=True, description='Step color')), layout=Layout(display='flex', flex='flex_shrink', flex_flow='row', height='15%', justify_content='center')), Box(children=(Label(value=''), ToggleButton(value=False, description='Validate', icon='check', tooltip='Validate plot and cutoff choice')), layout=Layout(display='flex', flex='flex_shrink', flex_flow='column', justify_content='space-between')), Box(children=(Label(value=''), ToggleButton(value=False, description='Save job', tooltip='Save the current job')), layout=Layout(display='flex', flex='flex_shrink', flex_flow='column', justify_content='space-between')), Box(children=(Label(value=''), ToggleButton(value=False, description='Load job', tooltip='Load an older job')), layout=Layout(display='flex', flex='flex_shrink', flex_flow='column', justify_content='space-between')), Box(children=(Label(value=''), ToggleButton(value=False, description='Save image', tooltip='Save plot image')), layout=Layout(display='flex', flex='flex_shrink', flex_flow='column', justify_content='space-between'))), layout=Layout(align_items='flex-end', border='solid 0px', display='flex', flex_flow='column', height='100%', justify_content='space-between', margin='0px 0px 0px 0px', width='100%'))"
      ]
     },
     "metadata": {},
     "output_type": "display_data"
    }
   ],
   "source": [
    "from ipywidgets import Layout, Button, Box, FloatText, Textarea, Dropdown, Label, IntSlider\n",
    "from __future__ import print_function\n",
    "from ipywidgets import interact, interactive, fixed, interact_manual\n",
    "import ipywidgets as widgets\n",
    "import os\n",
    "\n",
    "\n",
    "class Titration(object):\n",
    "    \n",
    "    def __init__(self, checkPlot, plotName, plotValue):\n",
    "        self.checkPlot = checkPlot\n",
    "        self.plotName = plotName\n",
    "        self.plotValue = plotValue\n",
    "\n",
    "plotList = list()\n",
    "i = 0\n",
    "while i <= 10 : \n",
    "    plot = Titration(False, \"Step {0}\".format(i), i)\n",
    "    plotList.append(plot)\n",
    "    i += 1\n",
    "    \n",
    "plot = Titration(False, \"All steps\", \"all\")\n",
    "plotList.append(plot) \n",
    "\n",
    "stepList=list()\n",
    "for plot in plotList:\n",
    "    stepList.append(plot.plotName)\n",
    "\n",
    "#Affichage\n",
    "form_item_layout = Layout(\n",
    "    display='flex',\n",
    "    flex='flex_shrink',\n",
    "    flex_flow='column',\n",
    "    justify_content='space-between',\n",
    ")\n",
    "\n",
    "form_item_color = Layout(\n",
    "    display='flex',\n",
    "    flex='flex_shrink',\n",
    "    flex_flow='row',\n",
    "    height = '15%',\n",
    "    justify_content='center',\n",
    ")\n",
    "\n",
    "form_items1 = [\n",
    "    Box([Label(value=''),\n",
    "        widgets.ToggleButton(value=False, description='Upload files', disabled=False, button_style='', \n",
    "        tooltip='Upload all files in the new study')], layout=form_item_layout),\n",
    "    Box([Label(value=''),\n",
    "        widgets.Textarea(value='Files load', placeholder='Type something', description='', disabled=False, \n",
    "        layout= form_item_layout)]),\n",
    "    Box([Label(value=''),\n",
    "        widgets.Dropdown(options= stepList,\n",
    "        value=plotList[0].plotName, description='Select step', disabled=False,\n",
    "        tooltip='Select a step')], layout=form_item_layout),\n",
    "    Box([Label(value=''),\n",
    "        widgets.ColorPicker(concise=True, description='Step color', value='#FFA810', disabled=False,\n",
    "        tooltip='Affect a color to a step')],layout=form_item_color),\n",
    "    Box([Label(value=''),\n",
    "        widgets.ToggleButton(value=False, description='Validate', disabled=False, button_style='', \n",
    "        tooltip='Validate plot and cutoff choice', icon='check')], layout=form_item_layout),\n",
    "    Box([Label(value=''),\n",
    "        widgets.ToggleButton(value=False, description='Save job', disabled=False, button_style='', \n",
    "        tooltip='Save the current job')], layout=form_item_layout),\n",
    "    Box([Label(value=''),\n",
    "        widgets.ToggleButton(value=False, description='Load job', disabled=False, button_style='', \n",
    "        tooltip='Load an older job')], layout=form_item_layout),\n",
    "    Box([Label(value=''),\n",
    "        widgets.ToggleButton(value=False, description='Save image', disabled=False, button_style='', \n",
    "        tooltip='Save plot image')], layout=form_item_layout)\n",
    "    ]\n",
    "\n",
    "form1 = Box(form_items1, layout=Layout(\n",
    "    display='flex',\n",
    "    flex_flow='column',\n",
    "    justify_content='space-between',\n",
    "    border='solid 0px',\n",
    "    margin = '0px 0px 0px 0px',\n",
    "    align_items='flex-end',\n",
    "    width='100%',\n",
    "    height='100%'\n",
    "))\n",
    "form1"
   ]
  },
  {
   "cell_type": "code",
   "execution_count": 6,
   "metadata": {},
   "outputs": [
    {
     "data": {
      "application/vnd.jupyter.widget-view+json": {
       "model_id": "3d3e809faf1649078d194a179b75bd6d",
       "version_major": 2,
       "version_minor": 0
      },
      "text/html": [
       "<p>Failed to display Jupyter Widget of type <code>Box</code>.</p>\n",
       "<p>\n",
       "  If you're reading this message in Jupyter Notebook or JupyterLab, it may mean\n",
       "  that the widgets JavaScript is still loading. If this message persists, it\n",
       "  likely means that the widgets JavaScript library is either not installed or\n",
       "  not enabled. See the <a href=\"https://ipywidgets.readthedocs.io/en/stable/user_install.html\">Jupyter\n",
       "  Widgets Documentation</a> for setup instructions.\n",
       "</p>\n",
       "<p>\n",
       "  If you're reading this message in another notebook frontend (for example, a static\n",
       "  rendering on GitHub or <a href=\"https://nbviewer.jupyter.org/\">NBViewer</a>),\n",
       "  it may mean that your frontend doesn't currently support widgets.\n",
       "</p>\n"
      ],
      "text/plain": [
       "Box(children=(Box(children=(Label(value=''), ToggleButtons(index=3, options=('2D shift map', 'Histograms', 'Titration', '3D structure'), tooltips=['2D shift map on all residus', 'Histograms of delta chemicals shifts', 'Titration curve, 3D structure protein'], value='3D structure'))),), layout=Layout(align_items='flex-start', border='solid 0px', display='flex', flex_flow='column', height='100%', margin='0px 0px 0px 0px', width='100%'))"
      ]
     },
     "metadata": {},
     "output_type": "display_data"
    }
   ],
   "source": [
    "#####################################Show box\n",
    "form_item_layout = Layout(\n",
    "    display='flex',\n",
    "    flex_flow='column',\n",
    "    justify_content='space-between'\n",
    ")\n",
    "\n",
    "form_items = [\n",
    "    Box([Label(value=''),\n",
    "        widgets.ToggleButtons(options=['2D shift map', 'Histograms', 'Titration', '3D structure'], value='3D structure',\n",
    "        disabled=False, button_style='', tooltips=['2D shift map on all residus', \n",
    "        'Histograms of delta chemicals shifts', 'Titration curve, 3D structure protein'])]),\n",
    "]\n",
    "    \n",
    "\n",
    "form = Box(form_items, layout=Layout(\n",
    "    display='flex',\n",
    "    flex_flow='column',\n",
    "    border='solid 0px',\n",
    "    margin = '0px 0px 0px 0px',\n",
    "    align_items='flex-start',\n",
    "    width='100%',\n",
    "    height='100%'\n",
    "))\n",
    "form"
   ]
  },
  {
   "cell_type": "code",
   "execution_count": 7,
   "metadata": {},
   "outputs": [
    {
     "data": {
      "text/html": [
       "<div id=\"3dmolviewer_15099788424224167\"  style=\"position: relative; width: 640px; height: 480px\">\n",
       "<script>\n",
       "if(typeof $3Dmolpromise === 'undefined') $3Dmolpromise = $.when($.getScript('https://3dmol.csb.pitt.edu/build/3Dmol.js'))\n",
       "var viewer_15099788424224167 = null;\n",
       "$3Dmolpromise.done(function() {\n",
       "viewer_15099788424224167 = $3Dmol.createViewer($(\"#3dmolviewer_15099788424224167\"),{backgroundColor:\"white\"});\n",
       "$3Dmol.download(\"pdb:4kw4\", viewer_15099788424224167, {}, function() {\n",
       "\tviewer_15099788424224167.setStyle({\"cartoon\": {\"color\": \"white\"}});\n",
       "\tviewer_15099788424224167.setStyle({\"resi\": [50, 51]},{\"stick\": {\"color\": \"red\"}});\n",
       "\tviewer_15099788424224167.setStyle({\"resi\": [70, 71]},{\"stick\": {\"color\": \"green\"}});\n",
       "viewer_15099788424224167.render();\n",
       "})\n",
       "});\n",
       "</script>"
      ],
      "text/plain": [
       "<py3Dmol.view at 0x7f93942dbd30>"
      ]
     },
     "execution_count": 7,
     "metadata": {},
     "output_type": "execute_result"
    }
   ],
   "source": [
    "import py3Dmol\n",
    "    \n",
    "#support for pdb, sdf, mol2, xyz, and cube formats\n",
    "#parallelized molecular surface computation\n",
    "#sphere, stick, line, cross, cartoon, and surface styles\n",
    "#atom property based selection and styling labels\n",
    "#clickable interactivity with molecular data\n",
    "#geometric shapes including spheres and arrows\n",
    "\n",
    "#Protein\n",
    "protein = '4kw4'\n",
    "pdb = 'pdb:' + protein\n",
    "graphRepresentation = 'cartoon'\n",
    "#color protein by default 'white'\n",
    "colorProtein = 'white'\n",
    "\n",
    "#Residus selected with histograms selection and residus not selectionned in the study..\n",
    "selectResidu = [50, 51]\n",
    "selectResiduNotRetained = [70, 71]\n",
    "residus = {'residuSelected': selectResidu, 'notRetained': selectResiduNotRetained }\n",
    "color = {'residuSelected': 'red','notReatined': 'green' }\n",
    "\n",
    "view = py3Dmol.view(query=pdb)\n",
    "view.setStyle({graphRepresentation:{'color':colorProtein}})\n",
    "#Draw residu retained in red.\n",
    "res = {'resi': residus['residuSelected']}\n",
    "view.setStyle(res,{'stick':{'color':color['residuSelected']}})\n",
    "#Draw residu retained in green.\n",
    "res = {'resi': residus['notRetained']}\n",
    "view.setStyle(res,{'stick':{'color':color['notReatined']}})\n",
    "view"
   ]
  },
  {
   "cell_type": "code",
   "execution_count": 8,
   "metadata": {},
   "outputs": [
    {
     "data": {
      "application/vnd.jupyter.widget-view+json": {
       "model_id": "9d61d1f551464b7daa930e4aa5f80cef",
       "version_major": 2,
       "version_minor": 0
      },
      "text/html": [
       "<p>Failed to display Jupyter Widget of type <code>HBox</code>.</p>\n",
       "<p>\n",
       "  If you're reading this message in Jupyter Notebook or JupyterLab, it may mean\n",
       "  that the widgets JavaScript is still loading. If this message persists, it\n",
       "  likely means that the widgets JavaScript library is either not installed or\n",
       "  not enabled. See the <a href=\"https://ipywidgets.readthedocs.io/en/stable/user_install.html\">Jupyter\n",
       "  Widgets Documentation</a> for setup instructions.\n",
       "</p>\n",
       "<p>\n",
       "  If you're reading this message in another notebook frontend (for example, a static\n",
       "  rendering on GitHub or <a href=\"https://nbviewer.jupyter.org/\">NBViewer</a>),\n",
       "  it may mean that your frontend doesn't currently support widgets.\n",
       "</p>\n"
      ],
      "text/plain": [
       "HBox(children=(VBox(children=(Text(value='Enter PDB code', description='PDB code', placeholder='Enter PDB code'), Text(value='Enter residu number', description='Residu number', placeholder='Type something'))), VBox(children=(Dropdown(description='Protein representation', index=1, options=('1', '2', '3'), value='2'), Dropdown(description='Residu representation', index=1, options=('1', '2', '3'), value='2'))), VBox(children=(ColorPicker(value='#FFFFFF', concise=True, description='Protein color'), ColorPicker(value='#FF000D', concise=True, description='Protein color'), ColorPicker(value='#09FF0B', concise=True, description='Residus not retained')))))"
      ]
     },
     "metadata": {},
     "output_type": "display_data"
    }
   ],
   "source": [
    "from ipywidgets import Button, HBox, VBox\n",
    "import ipywidgets as widgets\n",
    "\n",
    "\n",
    "\n",
    "pdbCode = widgets.Text(value='Enter PDB code',placeholder='Enter PDB code',description='PDB code',\n",
    "    disabled=False)\n",
    "proteinRepresentation = widgets.Dropdown(options=['1', '2', '3'],value='2', description='Protein representation',\n",
    "    disabled=False,)\n",
    "colorProtein = widgets.ColorPicker(concise=True, description='Protein color', value='#FFFFFF', disabled=False)\n",
    "\n",
    "selectResidu = widgets.Text(value='Enter residu number',placeholder='Type something',description='Residu number',\n",
    "    disabled=False)\n",
    "residuRepresentation = widgets.Dropdown(options=['1', '2', '3'],value='2', description='Residu representation',\n",
    "    disabled=False,)\n",
    "colorResidu = widgets.ColorPicker(concise=True, description='Protein color', value='#FF000D', disabled=False)\n",
    "\n",
    "colorResiduNotRetained = widgets.ColorPicker(concise=True, description='Residus not retained', value='#09FF0B', \n",
    "    disabled=False)\n",
    "\n",
    "lefter_box = VBox([pdbCode, selectResidu])\n",
    "center_box = VBox([proteinRepresentation, residuRepresentation])\n",
    "righter_box = VBox([colorProtein, colorResidu,colorResiduNotRetained ])\n",
    "HBox([lefter_box, center_box, righter_box], height='100%', width='200%')\n"
   ]
  },
  {
   "cell_type": "code",
   "execution_count": 15,
   "metadata": {},
   "outputs": [
    {
     "data": {
      "application/vnd.jupyter.widget-view+json": {
       "model_id": "e3fad33257f4402c85b399f478c57a31",
       "version_major": 2,
       "version_minor": 0
      },
      "text/html": [
       "<p>Failed to display Jupyter Widget of type <code>Box</code>.</p>\n",
       "<p>\n",
       "  If you're reading this message in Jupyter Notebook or JupyterLab, it may mean\n",
       "  that the widgets JavaScript is still loading. If this message persists, it\n",
       "  likely means that the widgets JavaScript library is either not installed or\n",
       "  not enabled. See the <a href=\"https://ipywidgets.readthedocs.io/en/stable/user_install.html\">Jupyter\n",
       "  Widgets Documentation</a> for setup instructions.\n",
       "</p>\n",
       "<p>\n",
       "  If you're reading this message in another notebook frontend (for example, a static\n",
       "  rendering on GitHub or <a href=\"https://nbviewer.jupyter.org/\">NBViewer</a>),\n",
       "  it may mean that your frontend doesn't currently support widgets.\n",
       "</p>\n"
      ],
      "text/plain": [
       "Box(children=(Box(children=(Label(value=''), Textarea(value='Console', layout=Layout(display='flex', flex_flow='row', height='380px', min_width='945px', width='100%'), placeholder='Type something'))),), layout=Layout(align_items='center', border='solid 0px', display='flex', flex_flow='row', height='110%', margin='0px 0px 0px 0px', width='100%'))"
      ]
     },
     "metadata": {},
     "output_type": "display_data"
    }
   ],
   "source": [
    "from ipywidgets import Layout, Button, Box, FloatText, Textarea, Dropdown, Label, IntSlider\n",
    "from __future__ import print_function\n",
    "from ipywidgets import interact, interactive, fixed, interact_manual\n",
    "import ipywidgets as widgets\n",
    "import os\n",
    "\n",
    "#Affichage\n",
    "form_item_layout = Layout(\n",
    "    display='flex',\n",
    "    flex_flow='row',\n",
    "    flex_grow=10,\n",
    "    min_width='945px',\n",
    "    height = '380px',\n",
    "    width='100%',\n",
    ")\n",
    "\n",
    "\n",
    "form_items = [\n",
    "    Box([Label(value=''),\n",
    "        widgets.Textarea(value='Console', placeholder='Type something', description='', disabled=False, \n",
    "        layout= form_item_layout)])\n",
    "]\n",
    "\n",
    "\n",
    "form = Box(form_items, layout=Layout(\n",
    "    display='flex',\n",
    "    flex_flow='row',\n",
    "    border='solid 0px',\n",
    "    margin = '0px 0px 0px 0px',\n",
    "    align_items='center',\n",
    "    width='100%',\n",
    "    height='110%'\n",
    "))\n",
    "form"
   ]
  },
  {
   "cell_type": "code",
   "execution_count": null,
   "metadata": {
    "collapsed": true
   },
   "outputs": [],
   "source": []
  }
 ],
 "metadata": {
  "kernelspec": {
   "display_name": "Python 3",
   "language": "python",
   "name": "python3"
  },
  "language_info": {
   "codemirror_mode": {
    "name": "ipython",
    "version": 3
   },
   "file_extension": ".py",
   "mimetype": "text/x-python",
   "name": "python",
   "nbconvert_exporter": "python",
   "pygments_lexer": "ipython3",
   "version": "3.6.2"
  }
 },
 "nbformat": 4,
 "nbformat_minor": 2
}
