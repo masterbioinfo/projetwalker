{
 "cells": [
  {
   "cell_type": "code",
   "execution_count": 1,
   "metadata": {},
   "outputs": [
    {
     "data": {
      "application/vnd.jupyter.widget-view+json": {
       "model_id": "d3e2cf54b9bb4cb89b70b4c071216139",
       "version_major": 2,
       "version_minor": 0
      },
      "text/html": [
       "<p>Failed to display Jupyter Widget of type <code>HBox</code>.</p>\n",
       "<p>\n",
       "  If you're reading this message in Jupyter Notebook or JupyterLab, it may mean\n",
       "  that the widgets JavaScript is still loading. If this message persists, it\n",
       "  likely means that the widgets JavaScript library is either not installed or\n",
       "  not enabled. See the <a href=\"https://ipywidgets.readthedocs.io/en/stable/user_install.html\">Jupyter\n",
       "  Widgets Documentation</a> for setup instructions.\n",
       "</p>\n",
       "<p>\n",
       "  If you're reading this message in another notebook frontend (for example, a static\n",
       "  rendering on GitHub or <a href=\"https://nbviewer.jupyter.org/\">NBViewer</a>),\n",
       "  it may mean that your frontend doesn't currently support widgets.\n",
       "</p>\n"
      ],
      "text/plain": [
       "HBox(children=(VBox(children=(Text(value='Enter PDB code', description='PDB code', placeholder='Enter PDB code'), Text(value='Enter residu number', description='Residu number', placeholder='Type something'))), VBox(children=(Dropdown(description='Protein representation', index=1, options=('1', '2', '3'), value='2'), Dropdown(description='Residu representation', index=1, options=('1', '2', '3'), value='2'))), VBox(children=(ColorPicker(value='#FFFFFF', concise=True, description='Protein color'), ColorPicker(value='#FF000D', concise=True, description='Protein color'), ColorPicker(value='#09FF0B', concise=True, description='Residus not retained')))))"
      ]
     },
     "metadata": {},
     "output_type": "display_data"
    }
   ],
   "source": [
    "from ipywidgets import Button, HBox, VBox\n",
    "import ipywidgets as widgets\n",
    "\n",
    "\n",
    "\n",
    "pdbCode = widgets.Text(value='Enter PDB code',placeholder='Enter PDB code',description='PDB code',\n",
    "    disabled=False)\n",
    "proteinRepresentation = widgets.Dropdown(options=['1', '2', '3'],value='2', description='Protein representation',\n",
    "    disabled=False,)\n",
    "colorProtein = widgets.ColorPicker(concise=True, description='Protein color', value='#FFFFFF', disabled=False)\n",
    "\n",
    "selectResidu = widgets.Text(value='Enter residu number',placeholder='Type something',description='Residu number',\n",
    "    disabled=False)\n",
    "residuRepresentation = widgets.Dropdown(options=['1', '2', '3'],value='2', description='Residu representation',\n",
    "    disabled=False,)\n",
    "colorResidu = widgets.ColorPicker(concise=True, description='Protein color', value='#FF000D', disabled=False)\n",
    "\n",
    "colorResiduNotRetained = widgets.ColorPicker(concise=True, description='Residus not retained', value='#09FF0B', \n",
    "    disabled=False)\n",
    "\n",
    "lefter_box = VBox([pdbCode, selectResidu])\n",
    "center_box = VBox([proteinRepresentation, residuRepresentation])\n",
    "righter_box = VBox([colorProtein, colorResidu,colorResiduNotRetained ])\n",
    "HBox([lefter_box, center_box, righter_box], height='100%', width='200%')\n",
    "\n"
   ]
  },
  {
   "cell_type": "code",
   "execution_count": null,
   "metadata": {
    "collapsed": true
   },
   "outputs": [],
   "source": []
  },
  {
   "cell_type": "code",
   "execution_count": null,
   "metadata": {
    "collapsed": true
   },
   "outputs": [],
   "source": []
  }
 ],
 "metadata": {
  "kernelspec": {
   "display_name": "Python 3",
   "language": "python",
   "name": "python3"
  },
  "language_info": {
   "codemirror_mode": {
    "name": "ipython",
    "version": 3
   },
   "file_extension": ".py",
   "mimetype": "text/x-python",
   "name": "python",
   "nbconvert_exporter": "python",
   "pygments_lexer": "ipython3",
   "version": "3.6.2"
  }
 },
 "nbformat": 4,
 "nbformat_minor": 2
}
