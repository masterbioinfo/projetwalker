{
 "cells": [
  {
   "cell_type": "code",
   "execution_count": 1,
   "metadata": {
    "extensions": {
     "jupyter_dashboards": {
      "version": 1,
      "views": {
       "grid_default": {
        "col": 0,
        "height": 4,
        "hidden": true,
        "row": 0,
        "width": 4
       },
       "report_default": {}
      }
     }
    }
   },
   "outputs": [
    {
     "data": {
      "text/html": [
       "<script>requirejs.config({paths: { 'plotly': ['https://cdn.plot.ly/plotly-latest.min']},});if(!window.Plotly) {{require(['plotly'],function(plotly) {window.Plotly=plotly;});}}</script>"
      ],
      "text/vnd.plotly.v1+html": [
       "<script>requirejs.config({paths: { 'plotly': ['https://cdn.plot.ly/plotly-latest.min']},});if(!window.Plotly) {{require(['plotly'],function(plotly) {window.Plotly=plotly;});}}</script>"
      ]
     },
     "metadata": {},
     "output_type": "display_data"
    }
   ],
   "source": [
    "import plotly.offline as plt\n",
    "from plotly import tools\n",
    "import plotly.graph_objs as go\n",
    "from plotly.graph_objs import Layout\n",
    "from plotly.graph_objs.graph_objs import Scatter, Data\n",
    "from ipywidgets import *\n",
    "import ipywidgets as widgets\n",
    "import math\n",
    "\n",
    "plt.init_notebook_mode(connected=True)"
   ]
  },
  {
   "cell_type": "code",
   "execution_count": 4,
   "metadata": {
    "extensions": {
     "jupyter_dashboards": {
      "version": 1,
      "views": {
       "grid_default": {
        "col": 0,
        "height": 38,
        "hidden": false,
        "row": 0,
        "width": null
       },
       "report_default": {}
      }
     }
    }
   },
   "outputs": [
    {
     "data": {
      "application/vnd.jupyter.widget-view+json": {
       "model_id": "965e7838c11844e0bc0a27b78aaea17b",
       "version_major": 2,
       "version_minor": 0
      },
      "text/plain": [
       "A Jupyter Widget"
      ]
     },
     "metadata": {},
     "output_type": "display_data"
    }
   ],
   "source": [
    "class MapToD(object):\n",
    "    \"\"\"Class for chowing 2D map for N and H chemical shifts per steps\"\"\"\n",
    "    def __init__(self, titration):\n",
    "        \"\"\"Defines ettributs\n",
    "        argument 'titration' is a dicitionnary of 2 dimensions list for each key (should be a titration object from shiftome after developement)\"\"\"\n",
    "        self.titration=titration\n",
    "        self.selector=widgets.SelectMultiple(options=[key for key in self.titration],\n",
    "                                             rows=len(self.titration),\n",
    "                                             description='Residue ',\n",
    "                                             disabled=False) # multiple selector widget for selecting one or more residues\n",
    "    def scatterPlot(self, residues):\n",
    "        \"\"\"Method that traces scatter plot of N and H chemical shift per step for one or more residues.\"\"\"\n",
    "        if residues == (): #no residues selected\n",
    "            pass\n",
    "        else:\n",
    "            data=[]\n",
    "            rows=math.ceil(math.sqrt(len(residues))) # defines appropriate number of rows \n",
    "            cols=round(math.sqrt(len(residues))) # defines appropraite number of columns\n",
    "            fig = tools.make_subplots(rows=rows, cols=cols, print_grid=False)\n",
    "            colNumber=0\n",
    "            rowNumber=1\n",
    "            for res in residues:\n",
    "                ##by-columns-then-by-lines method for plot positionning\n",
    "                if colNumber < cols:\n",
    "                    colNumber+=1\n",
    "                elif rowNumber < rows:\n",
    "                    colNumber =1\n",
    "                    rowNumber +=1\n",
    "                ##\n",
    "                trace=go.Scatter(x=self.titration[res][0], \n",
    "                                 y=self.titration[res][1],\n",
    "                                 mode='markers', \n",
    "                                 name='Residue '+str(res), \n",
    "                                 text=[\"Step \"+str(i+1) for i in range(len(self.titration[res][0]))],\n",
    "                                 marker={'color':[index+1 for index in range(len(self.titration[res][0]))], # sets a color scale regarding step number\n",
    "                                         'colorbar':{'title':'Steps', 'titlefont':{'size':16}},\n",
    "                                         'colorscale':'Viridis'}) \n",
    "                data.append(trace)\n",
    "                fig.append_trace(trace, rowNumber,colNumber)\n",
    "            fig['layout'].update(title='H and N chemical shifts of residue '+\", \".join(map(str, residues)),\n",
    "                                 showlegend=False,\n",
    "                                        annotations=[{\n",
    "                                                'x':1, #x posiition of annotation\n",
    "                                                'y':5,\n",
    "                                                'xref':'x', #plot number\n",
    "                                                'yref':'y',\n",
    "                                                'text':'max=5',\n",
    "                                                'showarrow':False,\n",
    "                                                'font':{\n",
    "                                                    'family':'Courier New, monospace',\n",
    "                                                    'size':11,\n",
    "                                                    'color':'#ffffff'\n",
    "                                                },\n",
    "\n",
    "                                                'bordercolor':'rgb(255,255,255)',\n",
    "                                                'borderwidth':2,\n",
    "                                                'borderpad':4,\n",
    "                                                'bgcolor':'rgb(0,0,0)',\n",
    "                                                'opacity':0.7\n",
    "                                        }\n",
    "                                        ]*len(residues)+[{\n",
    "                                                'xref': 'paper',\n",
    "                                                'yref': 'paper',\n",
    "                                                'x': 0, #x position of x ax legend\n",
    "                                                'xanchor': 'right',\n",
    "                                                'y': 1,\n",
    "                                                'yanchor': 'bottom',\n",
    "                                                'text': 'N Chemical shift',\n",
    "                                                'font':{'size':16},\n",
    "                                                'showarrow': False\n",
    "                                              }, {\n",
    "                                                'xref': 'paper',\n",
    "                                                'yref': 'paper',\n",
    "                                                'x': 1,\n",
    "                                                'xanchor': 'left',\n",
    "                                                'y': 0,\n",
    "                                                'yanchor': 'top',\n",
    "                                                'text': 'H chemical shift',\n",
    "                                                'font':{'size':16},\n",
    "                                                'showarrow': False\n",
    "                                              }],\n",
    "                                        width=1000, #width of plotly interface\n",
    "                                        height=1000,\n",
    "                                        margin=go.Margin(\n",
    "                                            l=200,\n",
    "                                            r=200,\n",
    "                                            b=100,\n",
    "                                            t=100,\n",
    "                                            pad=4\n",
    "        )\n",
    "                    )\n",
    "            for index,res in enumerate(residues):\n",
    "                fig['layout']['annotations'][index]['xref']=\"x\"+str(index+1) #annotation affectation\n",
    "                fig['layout']['annotations'][index]['yref']=\"y\"+str(index+1)\n",
    "                fig['layout']['annotations'][index]['text']=\"Residue \" +str(res)\n",
    "                fig['layout']['annotations'][index]['x']=(max(self.titration[res][0])+min(self.titration[res][0]))/2 #annotation: middle plot affectation\n",
    "                fig['layout']['annotations'][index]['y']=1.2*max(self.titration[res][1])#annotation: top plot affectation\n",
    "                fig['layout']['xaxis'+str(index+1)].update(showline=True,gridwidth=5) #show x ax\n",
    "                fig['layout']['yaxis'+str(index+1)].update(showline=True,gridwidth=5)\n",
    "                \n",
    "            plt.iplot(fig)\n",
    "                 \n",
    "titrationObj={1:[[10,11,15,11,12,13,14],[1,2,2,5,4,3,6]] , 2:[[14,11,10,13,16,16,17], [4,5,2,3,6,7,8]],3:[[10,11,15,11,12,13,14],[1,2,2,5,4,3,6]] , 4:[[14,11,10,13,16,16,17], [4,5,2,3,6,7,8]],5:[[10,11,15,11,12,13,14],[1,2,2,5,4,3,6]] , 6:[[14,11,10,13,16,16,17], [4,5,2,3,6,7,8]],8:[[10,11,15,11,12,13,14],[1,2,2,5,4,3,6]] , 9:[[14,11,10,13,16,16,17], [4,5,2,3,6,7,8]]}          \n",
    "dd=MapToD(titrationObj)\n",
    "widgets.interactive(dd.scatterPlot, residues=dd.selector)"
   ]
  },
  {
   "cell_type": "code",
   "execution_count": null,
   "metadata": {
    "collapsed": true,
    "extensions": {
     "jupyter_dashboards": {
      "version": 1,
      "views": {
       "grid_default": {
        "hidden": true
       },
       "report_default": {}
      }
     }
    }
   },
   "outputs": [],
   "source": []
  },
  {
   "cell_type": "code",
   "execution_count": null,
   "metadata": {
    "collapsed": true,
    "extensions": {
     "jupyter_dashboards": {
      "version": 1,
      "views": {
       "grid_default": {
        "hidden": true
       },
       "report_default": {}
      }
     }
    }
   },
   "outputs": [],
   "source": []
  }
 ],
 "metadata": {
  "extensions": {
   "jupyter_dashboards": {
    "activeView": "grid_default",
    "version": 1,
    "views": {
     "grid_default": {
      "cellMargin": 10,
      "defaultCellHeight": 20,
      "maxColumns": 12,
      "name": "grid",
      "type": "grid"
     },
     "report_default": {
      "name": "report",
      "type": "report"
     }
    }
   }
  },
  "kernelspec": {
   "display_name": "Python 3",
   "language": "python",
   "name": "python3"
  },
  "language_info": {
   "codemirror_mode": {
    "name": "ipython",
    "version": 3
   },
   "file_extension": ".py",
   "mimetype": "text/x-python",
   "name": "python",
   "nbconvert_exporter": "python",
   "pygments_lexer": "ipython3",
   "version": "3.6.3"
  }
 },
 "nbformat": 4,
 "nbformat_minor": 2
}
