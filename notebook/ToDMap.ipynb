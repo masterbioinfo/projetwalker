{
 "cells": [
  {
   "cell_type": "code",
   "execution_count": 1,
   "metadata": {
    "extensions": {
     "jupyter_dashboards": {
      "version": 1,
      "views": {
       "grid_default": {
        "col": 0,
        "height": 4,
        "hidden": true,
        "row": 0,
        "width": 4
       },
       "report_default": {}
      }
     }
    }
   },
   "outputs": [
    {
     "data": {
      "text/html": [
       "<script>requirejs.config({paths: { 'plotly': ['https://cdn.plot.ly/plotly-latest.min']},});if(!window.Plotly) {{require(['plotly'],function(plotly) {window.Plotly=plotly;});}}</script>"
      ],
      "text/vnd.plotly.v1+html": [
       "<script>requirejs.config({paths: { 'plotly': ['https://cdn.plot.ly/plotly-latest.min']},});if(!window.Plotly) {{require(['plotly'],function(plotly) {window.Plotly=plotly;});}}</script>"
      ]
     },
     "metadata": {},
     "output_type": "display_data"
    }
   ],
   "source": [
    "import plotly.offline as plt\n",
    "from plotly import tools\n",
    "import plotly.graph_objs as go\n",
    "from plotly.graph_objs import Layout\n",
    "from plotly.graph_objs.graph_objs import Scatter, Data\n",
    "from ipywidgets import *\n",
    "import ipywidgets as widgets\n",
    "import math\n",
    "\n",
    "plt.init_notebook_mode(connected=True)"
   ]
  },
  {
   "cell_type": "code",
   "execution_count": 5,
   "metadata": {
    "extensions": {
     "jupyter_dashboards": {
      "version": 1,
      "views": {
       "grid_default": {
        "col": 0,
        "height": 38,
        "hidden": false,
        "row": 0,
        "width": null
       },
       "report_default": {}
      }
     }
    },
    "scrolled": false
   },
   "outputs": [],
   "source": [
    "class MapToD(object):\n",
    "    \"\"\"Class for chowing 2D map for N and H chemical shifts per steps\"\"\"\n",
    "    def __init__(self, titration):\n",
    "        \"\"\"Defines ettributs\n",
    "        argument 'titration' is a dicitionnary of 2 dimensions list for each key (should be a titration object from shiftome after developement)\"\"\"\n",
    "        self.titration=titration\n",
    "        self.selector=widgets.SelectMultiple(options=[key for key in self.titration],\n",
    "                                             rows=min(9,len(self.titration)),\n",
    "                                             description='Residue ',\n",
    "                                             disabled=False) # multiple selector widget for selecting one or more residues\n",
    "        self.split=widgets.ToggleButton(value=False,\n",
    "                                        description='Split map',\n",
    "                                        disabled=False,\n",
    "                                        button_style='success',\n",
    "                                        tooltip='Description',\n",
    "                                        icon='check')\n",
    "    def nonSplitted(self, residues):\n",
    "        data=[]\n",
    "        for res in residues:\n",
    "            trace=go.Scatter(x=self.titration[res][0], \n",
    "                                y=self.titration[res][1],\n",
    "                                mode='markers', \n",
    "                                name='Residue '+str(res), \n",
    "                                text=[\"Step \"+str(i+1) for i in range(len(self.titration[res][0]))],\n",
    "                                marker={'color':[index+1 for index in range(len(self.titration[res][0]))], # sets a color scale regarding step number\n",
    "                                        'colorbar':{'title':'Steps', 'titlefont':{'size':16}},\n",
    "                                        'colorscale':'Bluered',\n",
    "                                        'size':10,\n",
    "                                        'line':{'width':2,\n",
    "                                                'colorscale':'Viridis'}})\n",
    "            data.append(trace)\n",
    "        fig=go.Figure(data=data)\n",
    "        return fig\n",
    "    def splitted(self, residues):\n",
    "        data=[]\n",
    "        rows=math.ceil(math.sqrt(len(residues))) # defines appropriate number of rows \n",
    "        cols=round(math.sqrt(len(residues))) # defines appropraite number of columns\n",
    "        fig = tools.make_subplots(rows=rows, cols=cols, print_grid=False)\n",
    "        colNumber=0\n",
    "        rowNumber=1\n",
    "        for res in residues:\n",
    "            ##by-columns-then-by-lines method for plot positionning\n",
    "            if colNumber < cols:\n",
    "                colNumber+=1\n",
    "            elif rowNumber < rows:\n",
    "                colNumber =1\n",
    "                rowNumber +=1\n",
    "            ##\n",
    "            trace=go.Scatter(x=self.titration[res][0], \n",
    "                                y=self.titration[res][1],\n",
    "                                mode='markers', \n",
    "                                name='Residue '+str(res), \n",
    "                                text=[\"Step \"+str(i+1) for i in range(len(self.titration[res][0]))],\n",
    "                                marker={'color':[index+1 for index in range(len(self.titration[res][0]))], # sets a color scale regarding step number\n",
    "                                        'colorbar':{'title':'Steps', 'titlefont':{'size':16}},\n",
    "                                        'colorscale':'Bluered',\n",
    "                                        'size':20-(rows*cols),\n",
    "                                        'line':{'width':2,\n",
    "                                                'color':'rgb(0, 0, 0)'}})\n",
    "            fig.append_trace(trace, rowNumber,colNumber)\n",
    "        return fig\n",
    "    \n",
    "    def scatterPlot(self, residues, splitted):\n",
    "        \"\"\"Method that traces scatter plot of N and H chemical shift per step for one or more residues.\n",
    "        Creates a scatter plot for each residue given in a sublpot\"\"\"\n",
    "        if residues ==():\n",
    "            \"\"\"\n",
    "            residues=tuple([residue for residue in self.titration])\n",
    "            print(residues)\n",
    "            fig=self.nonSplitted(residues)\n",
    "            \"\"\"\n",
    "            return\n",
    "        elif splitted==False: #no residues selected\n",
    "            fig=self.nonSplitted(residues)\n",
    "        elif splitted==True:\n",
    "            fig=self.splitted(residues)\n",
    "           \n",
    "        fig['layout'].update(title='H and N chemical shifts of residue '+\", \".join(map(str, residues)),\n",
    "                            showlegend=False,\n",
    "                            annotations=[{\n",
    "                                'x':1, #x position of annotation\n",
    "                                'y':5,\n",
    "                                'xref':'x', #plot number\n",
    "                                'yref':'y',\n",
    "                                'text':'max=5',\n",
    "                                'showarrow':False,\n",
    "                                'font':{\n",
    "                                    'family':'Courier New, monospace',\n",
    "                                    'size':11,\n",
    "                                     'color':'#ffffff'\n",
    "                                },\n",
    "                                'bordercolor':'rgb(255,255,255)',\n",
    "                                'borderwidth':1,\n",
    "                                'borderpad':4,\n",
    "                                'bgcolor':'rgb(0,0,0)',\n",
    "                                'opacity':0.7\n",
    "                            }]*len(residues)+[{'xref': 'paper',\n",
    "                                               'yref': 'paper',\n",
    "                                               'x': 0, #x position of x ax legend\n",
    "                                               'xanchor': 'right',\n",
    "                                               'y': 1,\n",
    "                                               'yanchor': 'bottom',\n",
    "                                               'text': 'N Chemical shift',\n",
    "                                               'font':{'size':16},\n",
    "                                               'showarrow': False},\n",
    "                                              {'xref': 'paper',\n",
    "                                               'yref': 'paper',\n",
    "                                               'x': 1,\n",
    "                                               'xanchor': 'left',\n",
    "                                               'y': 0,\n",
    "                                               'yanchor': 'top',\n",
    "                                               'text': 'H chemical shift',\n",
    "                                               'font':{'size':16},\n",
    "                                               'showarrow': False}],\n",
    "                             width=1000, #width of plotly interface\n",
    "                             height=800,\n",
    "                             margin=go.Margin(\n",
    "                                 l=200,\n",
    "                                 r=200,\n",
    "                                 b=100,\n",
    "                                 t=100,\n",
    "                                 pad=4))\n",
    "        if splitted:\n",
    "            fig['layout']['shapes']=[]\n",
    "            for index,res in enumerate(residues):\n",
    "                fig['layout']['annotations'][index]['xref']=\"x\"+str(index+1) #annotation affectation\n",
    "                fig['layout']['annotations'][index]['yref']=\"y\"+str(index+1)\n",
    "                fig['layout']['annotations'][index]['text']=\"Residue \" +str(res)\n",
    "                fig['layout']['annotations'][index]['font']['size']=max(1,11-0.1*len(residues))\n",
    "                fig['layout']['annotations'][index]['x']=(max(self.titration[res][0])+min(self.titration[res][0]))/2 #annotation: middle plot affectation\n",
    "                fig['layout']['annotations'][index]['y']=1.2*max(self.titration[res][1])#annotation: top plot affectation\n",
    "                fig['layout']['xaxis'+str(index+1)].update(showline=True,gridwidth=5) #show x ax\n",
    "                fig['layout']['yaxis'+str(index+1)].update(showline=True,gridwidth=5)\n",
    "        else:\n",
    "            fig['layout']['annotations']=[fig['layout']['annotations'][-1]]\n",
    "            listColor=['blue', 'red', 'purple', 'black', 'yellow', 'orange', 'grey']\n",
    "            for index,res in enumerate(residues):\n",
    "                fig['data'][index]['marker']['line']['color']='black'\n",
    "                \n",
    "        plt.iplot(fig)\n",
    "            \n",
    "                 \n",
    "titrationObj={1:[[10.422,11.452452,15.42452,16.4252,16.545,17.45243,17.45278],[1,2,2,5,7,6]] , \n",
    "              2:[[14,11,10,13,16,16,17], [4,5,2,3,6,7,8]],\n",
    "              3:[[10,11,15,11,12,13,14],[1,2,2,5,4,3,6]] , \n",
    "              4:[[14,11,10,13,16,16,17], [4,5,2,3,6,7,8]],\n",
    "              5:[[10,11,15,11,12,13,14],[1,2,2,5,4,3,6]] , \n",
    "              6:[[14,11,10,13,16,16,17], [4,5,2,3,6,7,8]],\n",
    "              8:[[10,11,15,11,12,13,14],[1,2,2,5,4,3,6]] , \n",
    "              9:[[14,11,10,13,16,16,17], [4,5,2,3,6,7,8]],\n",
    "              10:[[10,11,15,11,12,13,14],[1,2,2,5,4,3,6]] , \n",
    "              12:[[14,11,10,13,16,16,17], [4,5,2,3,6,7,8]],\n",
    "              13:[[10,11,15,11,12,13,14],[1,2,2,5,4,3,6]] , \n",
    "              14:[[14,11,10,13,16,16,17], [4,5,2,3,6,7,8]],\n",
    "              15:[[10,11,15,11,12,13,14],[1,2,2,5,4,3,6]] , \n",
    "              16:[[14,11,10,13,16,16,17], [4,5,2,3,6,7,8]],\n",
    "              18:[[10,11,15,11,12,13,14],[1,2,2,5,4,3,6]] , \n",
    "              19:[[14,11,10,13,16,16,17], [4,5,2,3,6,7,8]],\n",
    "              21:[[10,11,15,11,12,13,14],[1,2,2,5,4,3,6]] , \n",
    "              22:[[14,11,10,13,16,16,17], [4,5,2,3,6,7,8]],\n",
    "              23:[[10,11,15,11,12,13,14],[1,2,2,5,4,3,6]] , \n",
    "              24:[[14,11,10,13,16,16,17], [4,5,2,3,6,7,8]],\n",
    "              25:[[10,11,15,11,12,13,14],[1,2,2,5,4,3,6]] , \n",
    "              26:[[14,11,10,13,16,16,17], [4,5,2,3,6,7,8]],\n",
    "              28:[[10,11,15,11,12,13,14],[1,2,2,5,4,3,6]] , \n",
    "              29:[[14,11,10,13,16,16,17], [4,5,2,3,6,7,8]],\n",
    "              31:[[10.422,11.452452,15.42452,16.4252,16.545,17.45243,17.45278],[1,2,2,5,7,6]] , \n",
    "              32:[[14,11,10,13,16,16,17], [4,5,2,3,6,7,8]],\n",
    "              33:[[10,11,15,11,12,13,14],[1,2,2,5,4,3,6]] , \n",
    "              34:[[14,11,10,13,16,16,17], [4,5,2,3,6,7,8]],\n",
    "              35:[[10,11,15,11,12,13,14],[1,2,2,5,4,3,6]] , \n",
    "              36:[[14,11,10,13,16,16,17], [4,5,2,3,6,7,8]],\n",
    "              38:[[10,11,15,11,12,13,14],[1,2,2,5,4,3,6]] , \n",
    "              39:[[14,11,10,13,16,16,17], [4,5,2,3,6,7,8]],\n",
    "              40:[[10,11,15,11,12,13,14],[1,2,2,5,4,3,6]] , \n",
    "             112:[[14,11,10,13,16,16,17], [4,5,2,3,6,7,8]],\n",
    "              113:[[10,11,15,11,12,13,14],[1,2,2,5,4,3,6]] , \n",
    "              114:[[14,11,10,13,16,16,17], [4,5,2,3,6,7,8]],\n",
    "              115:[[10,11,15,11,12,13,14],[1,2,2,5,4,3,6]] , \n",
    "              116:[[14,11,10,13,16,16,17], [4,5,2,3,6,7,8]],\n",
    "              118:[[10,11,15,11,12,13,14],[1,2,2,5,4,3,6]] , \n",
    "              119:[[14,11,10,13,16,16,17], [4,5,2,3,6,7,8]],\n",
    "              121:[[10,11,15,11,12,13,14],[1,2,2,5,4,3,6]] , \n",
    "              122:[[14,11,10,13,16,16,17], [4,5,2,3,6,7,8]],\n",
    "              123:[[10,11,15,11,12,13,14],[1,2,2,5,4,3,6]] , \n",
    "              124:[[14,11,10,13,16,16,17], [4,5,2,3,6,7,8]],\n",
    "              125:[[10,11,15,11,12,13,14],[1,2,2,5,4,3,6]] , \n",
    "              126:[[14,11,10,13,16,16,17], [4,5,2,3,6,7,8]],\n",
    "              128:[[10,11,15,11,12,13,14],[1,2,2,5,4,3,6]] , \n",
    "              129:[[14,11,10,13,16,16,17], [4,5,2,3,6,7,8]],\n",
    "              51:[[10.422,11.452452,15.42452,16.4252,16.545,17.45243,17.45278],[1,2,2,5,7,6]] , \n",
    "              52:[[14,11,10,13,16,16,17], [4,5,2,3,6,7,8]],\n",
    "              53:[[10,11,15,11,12,13,14],[1,2,2,5,4,3,6]] , \n",
    "              54:[[14,11,10,13,16,16,17], [4,5,2,3,6,7,8]],\n",
    "              55:[[10,11,15,11,12,13,14],[1,2,2,5,4,3,6]] , \n",
    "              56:[[14,11,10,13,16,16,17], [4,5,2,3,6,7,8]],\n",
    "              58:[[10,11,15,11,12,13,14],[1,2,2,5,4,3,6]] , \n",
    "              59:[[14,11,10,13,16,16,17], [4,5,2,3,6,7,8]],\n",
    "              210:[[10,11,15,11,12,13,14],[1,2,2,5,4,3,6]] , \n",
    "              212:[[14,11,10,13,16,16,17], [4,5,2,3,6,7,8]],\n",
    "              213:[[10,11,15,11,12,13,14],[1,2,2,5,4,3,6]] , \n",
    "              214:[[14,11,10,13,16,16,17], [4,5,2,3,6,7,8]],\n",
    "              215:[[10,11,15,11,12,13,14],[1,2,2,5,4,3,6]] , \n",
    "              216:[[14,11,10,13,16,16,17], [4,5,2,3,6,7,8]],\n",
    "              218:[[10,11,15,11,12,13,14],[1,2,2,5,4,3,6]] , \n",
    "              219:[[14,11,10,13,16,16,17], [4,5,2,3,6,7,8]],\n",
    "              221:[[10,11,15,11,12,13,14],[1,2,2,5,4,3,6]] , \n",
    "              222:[[14,11,10,13,16,16,17], [4,5,2,3,6,7,8]],\n",
    "              223:[[10,11,15,11,12,13,14],[1,2,2,5,4,3,6]] , \n",
    "              224:[[14,11,10,13,16,16,17], [4,5,2,3,6,7,8]],\n",
    "              225:[[10,11,15,11,12,13,14],[1,2,2,5,4,3,6]] , \n",
    "              226:[[14,11,10,13,16,16,17], [4,5,2,3,6,7,8]],\n",
    "              228:[[10,11,15,11,12,13,14],[1,2,2,5,4,3,6]] , \n",
    "              229:[[14,11,10,13,16,16,17], [4,5,2,3,6,7,8]],\n",
    "              61:[[10.422,11.452452,15.42452,16.4252,16.545,17.45243,17.45278],[1,2,2,5,7,6]] , \n",
    "              62:[[14,11,10,13,16,16,17], [4,5,2,3,6,7,8]],\n",
    "              63:[[10,11,15,11,12,13,14],[1,2,2,5,4,3,6]] , \n",
    "              64:[[14,11,10,13,16,16,17], [4,5,2,3,6,7,8]],\n",
    "              65:[[10,11,15,11,12,13,14],[1,2,2,5,4,3,6]] , \n",
    "              66:[[14,11,10,13,16,16,17], [4,5,2,3,6,7,8]],\n",
    "              68:[[10,11,15,11,12,13,14],[1,2,2,5,4,3,6]] , \n",
    "              69:[[14,11,10,13,16,16,17], [4,5,2,3,6,7,8]],\n",
    "              310:[[10,11,15,11,12,13,14],[1,2,2,5,4,3,6]] , \n",
    "              312:[[14,11,10,13,16,16,17], [4,5,2,3,6,7,8]],\n",
    "              313:[[10,11,15,11,12,13,14],[1,2,2,5,4,3,6]] , \n",
    "              314:[[14,11,10,13,16,16,17], [4,5,2,3,6,7,8]],\n",
    "              315:[[10,11,15,11,12,13,14],[1,2,2,5,4,3,6]] , \n",
    "              316:[[14,11,10,13,16,16,17], [4,5,2,3,6,7,8]],\n",
    "              318:[[10,11,15,11,12,13,14],[1,2,2,5,4,3,6]] , \n",
    "              319:[[14,11,10,13,16,16,17], [4,5,2,3,6,7,8]],\n",
    "              321:[[10,11,15,11,12,13,14],[1,2,2,5,4,3,6]] , \n",
    "              322:[[14,11,10,13,16,16,17], [4,5,2,3,6,7,8]],\n",
    "              323:[[10,11,15,11,12,13,14],[1,2,2,5,4,3,6]] , \n",
    "              324:[[14,11,10,13,16,16,17], [4,5,2,3,6,7,8]],\n",
    "              325:[[10,11,15,11,12,13,14],[1,2,2,5,4,3,6]] , \n",
    "              326:[[14,11,10,13,16,16,17], [4,5,2,3,6,7,8]],\n",
    "              328:[[10,11,15,11,12,13,14],[1,2,2,5,4,3,6]] , \n",
    "              329:[[14,11,10,13,16,16,17], [4,5,2,3,6,7,8]]}          \n"
   ]
  },
  {
   "cell_type": "code",
   "execution_count": 6,
   "metadata": {
    "extensions": {
     "jupyter_dashboards": {
      "version": 1,
      "views": {
       "grid_default": {
        "hidden": true
       },
       "report_default": {}
      }
     }
    }
   },
   "outputs": [
    {
     "data": {
      "application/vnd.jupyter.widget-view+json": {
       "model_id": "768467bb7fff4d0db76d1bdd32759cac",
       "version_major": 2,
       "version_minor": 0
      },
      "text/plain": [
       "A Jupyter Widget"
      ]
     },
     "metadata": {},
     "output_type": "display_data"
    }
   ],
   "source": [
    "dd=MapToD(titrationObj)\n",
    "widgets.interactive(dd.scatterPlot, residues=dd.selector, splitted=dd.split)"
   ]
  },
  {
   "cell_type": "code",
   "execution_count": null,
   "metadata": {
    "collapsed": true
   },
   "outputs": [],
   "source": []
  }
 ],
 "metadata": {
  "extensions": {
   "jupyter_dashboards": {
    "activeView": "grid_default",
    "version": 1,
    "views": {
     "grid_default": {
      "cellMargin": 10,
      "defaultCellHeight": 20,
      "maxColumns": 12,
      "name": "grid",
      "type": "grid"
     },
     "report_default": {
      "name": "report",
      "type": "report"
     }
    }
   }
  },
  "kernelspec": {
   "display_name": "Python 3",
   "language": "python",
   "name": "python3"
  },
  "language_info": {
   "codemirror_mode": {
    "name": "ipython",
    "version": 3
   },
   "file_extension": ".py",
   "mimetype": "text/x-python",
   "name": "python",
   "nbconvert_exporter": "python",
   "pygments_lexer": "ipython3",
   "version": "3.6.3"
  }
 },
 "nbformat": 4,
 "nbformat_minor": 2
}
