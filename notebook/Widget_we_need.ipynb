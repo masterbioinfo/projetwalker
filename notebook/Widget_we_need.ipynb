{
 "cells": [
  {
   "cell_type": "markdown",
   "metadata": {},
   "source": [
    "Exemple de Widget pour le Cuttoff. "
   ]
  },
  {
   "cell_type": "code",
   "execution_count": 1,
   "metadata": {
    "collapsed": true
   },
   "outputs": [],
   "source": [
    "from ipywidgets import *\n",
    "import ipywidgets as widgets"
   ]
  },
  {
   "cell_type": "markdown",
   "metadata": {},
   "source": [
    "*Protocole*\n",
    "Widget pour les concentrations"
   ]
  },
  {
   "cell_type": "code",
   "execution_count": 29,
   "metadata": {},
   "outputs": [
    {
     "data": {
      "application/vnd.jupyter.widget-view+json": {
       "model_id": "e5c776c894a440e9a8fdc8f75718dd07",
       "version_major": 2,
       "version_minor": 0
      },
      "text/plain": [
       "A Jupyter Widget"
      ]
     },
     "metadata": {},
     "output_type": "display_data"
    }
   ],
   "source": [
    "\n",
    "#style = {'description_width': '200px'}\n",
    "#layout = {'width': '300px'}\n",
    "#concentration_text = widgets.BoundedFloatText(value=0, description=\"Etape 0\", style=style, layout=layout,disabled=True)\n",
    "#Concentration_box = widgets.VBox([concentration_text])\n",
    "#btn = widgets.Button(description = 'Add')\n",
    "#Add Text Area\n",
    "#words = ['Volume init', 'Volum fin', 'Concentration titrante', 'Concentration ']\n",
    "#items = [BoundedFloatText(description=w) for w in words]\n",
    "#txtArea = widgets.Textarea()\n",
    "#right_box = VBox([items[2], items[3],items[0], items[1]])\n",
    "#left_box = VBox([concentration_text,btn, txtArea])\n",
    "\n",
    "\n",
    "\n",
    "class ProtocoleSteps(object):\n",
    "    step_nb = 0\n",
    "    style = {'description_width' : '200px'}\n",
    "    layout = {\"width\" : '300px'}\n",
    "    volume_layout = {\"width\" : '300px',\"margin-top\": '120px'}\n",
    "    btn_layout = {\"width\" :'150', \"margin-top\": '20'}\n",
    "    \n",
    "    def __init__(self, titration = None):\n",
    "        \n",
    "        self.titration = titration\n",
    "        \n",
    "        # init volumes widgets\n",
    "        self.volumesBox = VBox()\n",
    "        self.volumeWidgets = []\n",
    "        self.add_volume(disabled = True)\n",
    "        \n",
    "        # init concentration widgets\n",
    "        self.initConcentration = []\n",
    "        for label in ('[analyte] (µL)', '[titrant] (µL)'):\n",
    "            widget = widgets.BoundedFloatText(\n",
    "                value=0, \n",
    "                min=0,\n",
    "                step=0.01,\n",
    "                description=label, \n",
    "                style=self.style, \n",
    "                layout=self.layout,\n",
    "                disabled=False\n",
    "            )\n",
    "            self.initConcentration.append(widget)\n",
    "            \n",
    "        # init start volumes widgets\n",
    "        self.initVolumes = []\n",
    "        for label in ('Analyte start volume', 'Total volume'):\n",
    "            widget = widgets.BoundedFloatText(\n",
    "                value=0, \n",
    "                min=0,\n",
    "                step=0.01,\n",
    "                description=label,\n",
    "                style=self.style, \n",
    "                layout=self.volume_layout,\n",
    "                disabled=False,\n",
    "            )\n",
    "            self.initVolumes.append(widget)\n",
    "        \n",
    "        # layout initial parameters\n",
    "        volumeBox = VBox(self.initVolumes)\n",
    "        concentrationBox = VBox(self.initConcentration)\n",
    "        self.initBox = HBox([volumeBox, concentrationBox])\n",
    "        \n",
    "        \n",
    "        \n",
    "        self.btn = widgets.Button(description = 'Add', style=style, layout=self.btn_layout)\n",
    "        self.btn.on_click(self.on_btn_clicked)\n",
    "        \n",
    "        \n",
    "        \n",
    "        #self.right_box = VBox([self.items[0], self.items[1],self.items[2], self.items[3]])\n",
    "        #self.left_box = VBox([self.concentration_text,self.btn])\n",
    "        \n",
    "        self.mainBox = VBox([self.initBox, self.volumesBox, self.btn])\n",
    "        \n",
    "    @property\n",
    "    def volumes(self):\n",
    "        return [volWidget.value for volWidget in self.volumeWidgets]\n",
    "        \n",
    "    def on_btn_clicked(self,b):\n",
    "        self.add_volume()\n",
    "\n",
    "    def volume_changed(self, change):\n",
    "        print(\"Vol Changed !\")\n",
    "        \n",
    "    def add_volume(self, disabled=False):\n",
    "        widget = widgets.BoundedFloatText(\n",
    "            value=0, \n",
    "            min=0,\n",
    "            step=0.01,\n",
    "            description=\"Step {step}\".format(step=self.step_nb), \n",
    "            style=self.style, \n",
    "            layout=self.layout,\n",
    "            disabled=disabled\n",
    "        )\n",
    "        \n",
    "        widget.observe(self.volume_changed, names='value')\n",
    "        \n",
    "        self.volumeWidgets.append(widget)\n",
    "        self.volumesBox.children = self.volumeWidgets\n",
    "        self.step_nb += 1\n",
    "\n",
    "protocole = ProtocoleSteps()\n",
    "display(protocole.mainBox)\n",
    "\n",
    "\n",
    "\n"
   ]
  },
  {
   "cell_type": "code",
   "execution_count": 37,
   "metadata": {},
   "outputs": [
    {
     "data": {
      "application/vnd.jupyter.widget-view+json": {
       "model_id": "70a14ec208824d788c034f3762b36941",
       "version_major": 2,
       "version_minor": 0
      },
      "text/plain": [
       "A Jupyter Widget"
      ]
     },
     "metadata": {},
     "output_type": "display_data"
    }
   ],
   "source": [
    "class Initiation(object):\n",
    "    \n",
    "    def __init__(self):\n",
    "        \n",
    "        titration = None\n",
    "        \n",
    "        self.try_name =  widgets.Text(\n",
    "            placeholder='Enter Experience Name',\n",
    "            description='Experience name', \n",
    "            value=\"\",\n",
    "            disabled=False\n",
    "        )\n",
    "        \n",
    "        self.pdbCode = widgets.Text(\n",
    "            placeholder='Enter PDB code, exemple: 4wk4',\n",
    "            description='PDB code',\n",
    "            value=\"\",\n",
    "            disabled=False\n",
    "        )\n",
    "        self.seq_area = widgets.Textarea(\n",
    "            value= '', \n",
    "            placeholder='Protein Sequence', \n",
    "            description='', \n",
    "            disabled=False, \n",
    "            display='flex', \n",
    "            flex_flow='row', \n",
    "            height='1000px'\n",
    "        )\n",
    "        \n",
    "        #PDB and Seq Box\n",
    "        \n",
    "        pdb_seq_box = VBox([self.pdbCode, self.seq_area])\n",
    "        \n",
    "        # HBox : Experience name and Pdb and Seq Box\n",
    "        \n",
    "        self.hbox = HBox ([self.try_name, pdb_seq_box])\n",
    "\n",
    "        \n",
    "        \n",
    "\n",
    "initiation = Initiation()\n",
    "\n",
    "display(initiation.hbox)\n"
   ]
  }
 ],
 "metadata": {
  "kernelspec": {
   "display_name": "Python 3",
   "language": "python",
   "name": "python3"
  },
  "language_info": {
   "codemirror_mode": {
    "name": "ipython",
    "version": 3
   },
   "file_extension": ".py",
   "mimetype": "text/x-python",
   "name": "python",
   "nbconvert_exporter": "python",
   "pygments_lexer": "ipython3",
   "version": "3.6.2"
  }
 },
 "nbformat": 4,
 "nbformat_minor": 2
}
