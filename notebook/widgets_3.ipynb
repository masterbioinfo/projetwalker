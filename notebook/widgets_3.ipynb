{
 "cells": [
  {
   "cell_type": "code",
   "execution_count": 1,
   "metadata": {},
   "outputs": [
    {
     "data": {
      "application/vnd.jupyter.widget-view+json": {
       "model_id": "002d660d45d94d84ad039d091e246050",
       "version_major": 2,
       "version_minor": 0
      },
      "text/html": [
       "<p>Failed to display Jupyter Widget of type <code>VBox</code>.</p>\n",
       "<p>\n",
       "  If you're reading this message in Jupyter Notebook or JupyterLab, it may mean\n",
       "  that the widgets JavaScript is still loading. If this message persists, it\n",
       "  likely means that the widgets JavaScript library is either not installed or\n",
       "  not enabled. See the <a href=\"https://ipywidgets.readthedocs.io/en/stable/user_install.html\">Jupyter\n",
       "  Widgets Documentation</a> for setup instructions.\n",
       "</p>\n",
       "<p>\n",
       "  If you're reading this message in another notebook frontend (for example, a static\n",
       "  rendering on GitHub or <a href=\"https://nbviewer.jupyter.org/\">NBViewer</a>),\n",
       "  it may mean that your frontend doesn't currently support widgets.\n",
       "</p>\n"
      ],
      "text/plain": [
       "VBox(children=(Text(value=''), VBox(children=(Checkbox(value=False, description='Plot 0'), Checkbox(value=False, description='Plot 1'), Checkbox(value=False, description='Plot 2'), Checkbox(value=False, description='Plot 3'), Checkbox(value=False, description='Plot 4'), Checkbox(value=False, description='Plot 5'), Checkbox(value=False, description='Plot 6'), Checkbox(value=False, description='Plot 7'), Checkbox(value=False, description='Plot 8'), Checkbox(value=False, description='Plot 9'), Checkbox(value=False, description='Plot 10'), Checkbox(value=False, description='All plots')), layout=Layout(overflow='scroll'))))"
      ]
     },
     "metadata": {},
     "output_type": "display_data"
    }
   ],
   "source": [
    "import difflib\n",
    "import random\n",
    "import requests\n",
    "import ipywidgets as widgets\n",
    "\n",
    "def multi_checkbox_widget(descriptions):\n",
    "    \"\"\" Widget with a search field and lots of checkboxes \"\"\"\n",
    "    search_widget = widgets.Text()\n",
    "    options_dict = {description: widgets.Checkbox(description=description, value=False) for description in descriptions}\n",
    "    options = [options_dict[description] for description in descriptions]\n",
    "    options_widget = widgets.VBox(options, layout={'overflow': 'scroll'})\n",
    "    multi_select = widgets.VBox([search_widget, options_widget])\n",
    "\n",
    "    return multi_select\n",
    "    \n",
    "class Titration(object):\n",
    "    \n",
    "    def __init__(self, checkPlot, plotName, plotValue):\n",
    "        self.checkPlot = checkPlot\n",
    "        self.plotName = plotName\n",
    "        self.plotValue = plotValue\n",
    "\n",
    "plotList = list()\n",
    "i = 0\n",
    "while i <= 10 : \n",
    "    plot = Titration(False, \"Plot {0}\".format(i), i)\n",
    "    plotList.append(plot)\n",
    "    i += 1\n",
    "plot = Titration(False, \"All plots\", \"all\")\n",
    "plotList.append(plot) \n",
    "\n",
    "# Get lots of words for our options \n",
    "\n",
    "descriptions = [plot.plotName for plot in plotList]\n",
    "\n",
    "multi_checkbox_widget(descriptions)"
   ]
  },
  {
   "cell_type": "code",
   "execution_count": null,
   "metadata": {
    "collapsed": true
   },
   "outputs": [],
   "source": []
  },
  {
   "cell_type": "code",
   "execution_count": null,
   "metadata": {
    "collapsed": true
   },
   "outputs": [],
   "source": []
  }
 ],
 "metadata": {
  "kernelspec": {
   "display_name": "Python 3",
   "language": "python",
   "name": "python3"
  },
  "language_info": {
   "codemirror_mode": {
    "name": "ipython",
    "version": 3
   },
   "file_extension": ".py",
   "mimetype": "text/x-python",
   "name": "python",
   "nbconvert_exporter": "python",
   "pygments_lexer": "ipython3",
   "version": "3.6.2"
  }
 },
 "nbformat": 4,
 "nbformat_minor": 2
}
