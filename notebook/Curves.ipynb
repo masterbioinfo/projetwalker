{
 "cells": [
  {
   "cell_type": "code",
   "execution_count": 1,
   "metadata": {
    "extensions": {
     "jupyter_dashboards": {
      "version": 1,
      "views": {
       "grid_default": {
        "col": 0,
        "height": 4,
        "hidden": true,
        "row": 0,
        "width": 4
       },
       "report_default": {}
      }
     }
    }
   },
   "outputs": [
    {
     "data": {
      "text/html": [
       "<script>requirejs.config({paths: { 'plotly': ['https://cdn.plot.ly/plotly-latest.min']},});if(!window.Plotly) {{require(['plotly'],function(plotly) {window.Plotly=plotly;});}}</script>"
      ],
      "text/vnd.plotly.v1+html": [
       "<script>requirejs.config({paths: { 'plotly': ['https://cdn.plot.ly/plotly-latest.min']},});if(!window.Plotly) {{require(['plotly'],function(plotly) {window.Plotly=plotly;});}}</script>"
      ]
     },
     "metadata": {},
     "output_type": "display_data"
    }
   ],
   "source": [
    "import plotly.offline as plt\n",
    "import plotly.graph_objs as go\n",
    "from plotly.graph_objs import Layout\n",
    "from plotly.graph_objs.graph_objs import Scatter\n",
    "from ipywidgets import *\n",
    "import ipywidgets as widgets\n",
    "\n",
    "plt.init_notebook_mode(connected=True)"
   ]
  },
  {
   "cell_type": "code",
   "execution_count": 2,
   "metadata": {
    "collapsed": true,
    "extensions": {
     "jupyter_dashboards": {
      "version": 1,
      "views": {
       "grid_default": {
        "hidden": true
       },
       "report_default": {}
      }
     }
    },
    "scrolled": false
   },
   "outputs": [],
   "source": [
    "style={'description_width' : '100px'}\n",
    "class Curves(object):\n",
    "    \"\"\"Class for showing scatter plot of intensities for one residue\"\"\"\n",
    "    def __init__(self, titration):\n",
    "        \"\"\"Defines attributs\n",
    "        argument 'titration' is a dicitionnary of 2 dimensions list for each key (should be a titration object from shiftome after developement)\"\"\"\n",
    "        style={'description_width' : '100px'}\n",
    "        self.titration=titration\n",
    "        self.residueSelector=widgets.Dropdown(options=[key for key in self.titration],\n",
    "                                              description='Residue Number',\n",
    "                                              style = style,\n",
    "                                              layout = {\"width\" : '200px'},\n",
    "                                              disabled=False,) # widget for selecting a specific residue\n",
    "        self.intensity=widgets.FloatSlider(max=50, \n",
    "                                           step=1,\n",
    "                                           description='Max value',\n",
    "                                           style = style,\n",
    "                                           layout = {\"width\" : '350px'},\n",
    "                                           orientation=\"horizontal\", \n",
    "                                           value=0) # slider widget for setting y ax max value\n",
    "        self.widgets=VBox([self.residueSelector, self.intensity])\n",
    "        self.btn = widgets.ToggleButton(value=False,\n",
    "                                        description='Refresh',\n",
    "                                        disabled=False,\n",
    "                                        button_style='',\n",
    "                                        tooltip='Description',\n",
    "                                        icon='check')\n",
    "        self.ratio=[]\n",
    "        \n",
    "    def updateAttr(self, ratioValues):\n",
    "        pass\n",
    "    def scatterPlot(self, residueNumber, maxValue, refresh):\n",
    "        \"\"\"Method that traces scatter plot of intensity at each Ligand/Protein ratio. \n",
    "        Creates a scatter plot.Sets the max value. Defines a legend.\n",
    "        argument 'residueNumber' is a float number representing dictionnary key of titration.\n",
    "        argument 'maxValue' is an integer representing the max value for y ax\"\"\"\n",
    "        trace=go.Scatter(x=self.ratio, y=self.titration[residueNumber][1],)\n",
    "        data=[trace]\n",
    "        ##sets default max value\n",
    "        if maxValue ==0:\n",
    "            intensityMax=1.2*max(self.titration[residueNumber][1])\n",
    "        ##\n",
    "        ##sets chosen max value\n",
    "        else:\n",
    "            intensityMax=maxValue\n",
    "        ##\n",
    "        fig = go.Figure(data=data, layout=dict(title='Titration Curve of residue '+str(residueNumber),annotations=[{\n",
    "                                            'xref': 'paper', #plot number\n",
    "                                            'yref': 'paper',\n",
    "                                            'x': 0, #x position of x ax legend\n",
    "                                            'xanchor': 'right',\n",
    "                                            'y': 1,\n",
    "                                            'yanchor': 'bottom',\n",
    "                                            'text': 'Chemical shift intensity',\n",
    "                                            'font':{'size':16},\n",
    "                                            'showarrow': False\n",
    "                                          }, {\n",
    "                                            'xref': 'paper',\n",
    "                                            'yref': 'paper',\n",
    "                                            'x': 1,\n",
    "                                            'xanchor': 'left',\n",
    "                                            'y': 0,\n",
    "                                            'yanchor': 'top',\n",
    "                                            'text': 'Ligand/Protein ratio',\n",
    "                                            'font':{'size':16},\n",
    "                                            'showarrow': False\n",
    "                                          }],  width=1000, #width of plotly interface\n",
    "                                    height=500,\n",
    "                                    margin=go.Margin(\n",
    "                                        l=200,\n",
    "                                        r=200,\n",
    "                                        b=100,\n",
    "                                        t=100,\n",
    "                                        pad=4)),)\n",
    "        fig['layout'].update(xaxis={'showline':True, 'showgrid':True,'zeroline':False}, \n",
    "                             yaxis={'range':[0,intensityMax],'showline':True,'zeroline':False}) #show x and y axes and sets y scale\n",
    "        plt.iplot(fig)\n",
    "\n",
    "titration={1:[[1,2,3,4,5,6,7,8],[10,12,14,15,6,20,1,12,]], \n",
    "           2:[[1,2,3,4,5,6,7,8],[12,15,14,16,1,21,8,6,]], \n",
    "           3:[[1,2,3,4,5,6,7,8],[12,11,10,14,15,16,17,15]], \n",
    "           4:[[1,2,3,4,5,6,7,8],[11,14,16,20,25,23,24,48]]}\n",
    "c=Curves(titration)"
   ]
  },
  {
   "cell_type": "code",
   "execution_count": 3,
   "metadata": {
    "extensions": {
     "jupyter_dashboards": {
      "version": 1,
      "views": {
       "grid_default": {
        "col": 0,
        "height": 37,
        "hidden": false,
        "row": 0,
        "width": 12
       },
       "report_default": {}
      }
     }
    }
   },
   "outputs": [
    {
     "data": {
      "application/vnd.jupyter.widget-view+json": {
       "model_id": "c12e1532d63144e3bfb59eee9601fbc9",
       "version_major": 2,
       "version_minor": 0
      },
      "text/plain": [
       "A Jupyter Widget"
      ]
     },
     "metadata": {},
     "output_type": "display_data"
    },
    {
     "data": {
      "application/vnd.jupyter.widget-view+json": {
       "model_id": "64498a14ec8945ca92bc792fe6a52bb5",
       "version_major": 2,
       "version_minor": 0
      },
      "text/plain": [
       "A Jupyter Widget"
      ]
     },
     "metadata": {},
     "output_type": "display_data"
    },
    {
     "name": "stdout",
     "output_type": "stream",
     "text": [
      "Vol Changed ! Ratio L/P: [0.0, 0.2, 0.2, 0.2, 0.2, 0.2, 0.2, 0.2, 0.2]\n",
      "Vol Changed ! Ratio L/P: [0.0, 0.2, 0.6, 0.6, 0.6, 0.6, 0.6, 0.6, 0.6]\n",
      "Vol Changed ! Ratio L/P: [0.0, 0.2, 0.6, 1.4, 1.4, 1.4, 1.4, 1.4, 1.4]\n",
      "Vol Changed ! Ratio L/P: [0.0, 0.2, 0.6, 1.4, 2.9999999999999996, 2.9999999999999996, 2.9999999999999996, 2.9999999999999996, 2.9999999999999996]\n",
      "Vol Changed ! Ratio L/P: [0.0, 0.02, 0.06, 0.14, 0.3, 0.5, 0.5, 0.5, 0.5]\n",
      "Vol Changed ! Ratio L/P: [0.0, 0.02, 0.06, 0.14, 0.3, 0.5, 0.7500000000000001, 0.7500000000000001, 0.7500000000000001]\n",
      "Vol Changed ! Ratio L/P: [0.0, 0.02, 0.06, 0.14, 0.3, 0.5, 0.7500000000000001, 1.05, 1.05]\n",
      "Vol Changed ! Ratio L/P: [0.0, 0.02, 0.06, 0.14, 0.3, 0.5, 0.7500000000000001, 1.05, 1.43]\n",
      "Vol Changed ! Ratio L/P: [0.0, 0.008, 0.024, 0.056, 0.12, 0.2, 0.30000000000000004, 0.4200400000000001, 0.57204]\n",
      "Vol Changed ! Ratio L/P: [0.0, 0.008, 0.024, 0.056, 0.12, 0.2, 0.30000000000000004, 0.42000000000000004, 0.572]\n",
      "Vol Changed ! Ratio L/P: [0.0, 0.008, 0.024, 0.056, 0.12, 0.2, 0.30000000000000004, 0.42000000000000004, 0.57204]\n",
      "Vol Changed ! Ratio L/P: [0.0, 0.008, 0.024, 0.056, 0.12, 0.2, 0.30000000000000004, 0.42000000000000004, 0.572]\n",
      "Vol Changed ! Ratio L/P: [0.0, 0.08, 0.24, 0.56, 1.2, 2.0, 3.0000000000000004, 4.2, 5.720400000000001]\n",
      "Vol Changed ! Ratio L/P: [0.0, 0.08, 0.24, 0.56, 1.2, 2.0, 3.0000000000000004, 4.2, 5.72]\n",
      "Ratio values have been updated !\n",
      "Refresh your graph.\n",
      "Vol Changed ! Ratio L/P: [0.0, 0.08, 0.24, 0.56, 1.2, 2.0, 3.0000000000000004, 4.2, 5.720400000000001]\n",
      "Vol Changed ! Ratio L/P: [0.0, 0.08, 0.24, 0.56, 1.2, 2.0, 3.0000000000000004, 4.2, 5.72]\n",
      "Ratio values have been updated !\n",
      "Refresh your graph.\n",
      "Vol Changed ! Ratio L/P: [0.0, 0.0008, 0.0024000000000000002, 0.005600000000000001, 0.012, 0.02, 0.030000000000000006, 0.04200000000000001, 0.057196000000000004]\n",
      "Vol Changed ! Ratio L/P: [0.0, 0.0008, 0.0024000000000000002, 0.005600000000000001, 0.012, 0.02, 0.030000000000000006, 0.04200000000000001, 0.0572]\n",
      "Vol Changed ! Ratio L/P: [0.0, 0.0008, 0.0024000000000000002, 0.005600000000000001, 0.012, 0.02, 0.030000000000000006, 0.04200000000000001, 0.057204000000000005]\n",
      "Vol Changed ! Ratio L/P: [0.0, 0.0008, 0.0024000000000000002, 0.005600000000000001, 0.012, 0.02, 0.030000000000000006, 0.04200000000000001, 0.0572]\n",
      "Vol Changed ! Ratio L/P: [0.0, 0.008, 0.024, 0.056, 0.12, 0.2, 0.30000000000000004, 0.42000000000000004, 0.57196]\n",
      "Vol Changed ! Ratio L/P: [0.0, 0.08, 0.24, 0.56, 1.2, 2.0, 3.0000000000000004, 4.2, 5.7192]\n",
      "Vol Changed ! Ratio L/P: [0.0, 0.08, 0.24, 0.56, 1.2, 2.0, 3.0000000000000004, 4.2, 5.719600000000001]\n",
      "Vol Changed ! Ratio L/P: [0.0, 0.0008, 0.0024000000000000002, 0.005600000000000001, 0.012, 0.02, 0.030004000000000006, 0.04200400000000001, 0.0572]\n",
      "Vol Changed ! Ratio L/P: [0.0, 0.0008, 0.0024000000000000002, 0.005600000000000001, 0.012, 0.02, 0.030000000000000006, 0.04200000000000001, 0.057196000000000004]\n",
      "Ratio values have been updated !\n",
      "Refresh your graph.\n"
     ]
    }
   ],
   "source": [
    "style = {'description_width': '200px'}\n",
    "layout = {'width': '300px'}\n",
    "#concentration_text = widgets.BoundedFloatText(value=0, description=\"Etape 0\", style=style, layout=layout,disabled=True)\n",
    "#Concentration_box = widgets.VBox([concentration_text])\n",
    "#btn = widgets.Button(description = 'Add')\n",
    "#Add Text Area\n",
    "#words = ['Volume init', 'Volum fin', 'Concentration titrante', 'Concentration ']\n",
    "#items = [BoundedFloatText(description=w) for w in words]\n",
    "#txtArea = widgets.Textarea()\n",
    "#right_box = VBox([items[2], items[3],items[0], items[1]])\n",
    "#left_box = VBox([concentration_text,btn, txtArea])\n",
    "\n",
    "\n",
    "\n",
    "class ProtocoleSteps(object):\n",
    "    step_nb = 0\n",
    "    style = {'description_width' : '200px'}\n",
    "    layout = {\"width\" : '300px'}\n",
    "    volume_layout = {\"width\" : '300px',\"margin-top\": '120px'}\n",
    "    btn_layout = {\"width\" :'150', \"margin-top\": '20'}\n",
    "    \n",
    "    def __init__(self, titration = None):\n",
    "        \n",
    "        self.titration = titration\n",
    "        \n",
    "        # init volumes widgets\n",
    "        self.volumesBox = VBox()\n",
    "        self.volumeWidgets = []\n",
    "        self.add_volume(disabled = True)\n",
    "        \n",
    "        # init concentration widgets\n",
    "        self.initConcentration = []\n",
    "        for label in ('[analyte] (µM)', '[titrant] (µM)'):\n",
    "            widget = widgets.BoundedFloatText(\n",
    "                value=0, \n",
    "                min=0,\n",
    "                step=0.01,\n",
    "                description=label, \n",
    "                style=self.style, \n",
    "                layout=self.layout,\n",
    "                disabled=False\n",
    "            )\n",
    "            self.initConcentration.append(widget)\n",
    "            \n",
    "        # init start volumes widgets\n",
    "        self.initVolumes = []\n",
    "        for label in ('Analyte start volume', 'Total volume'):\n",
    "            widget = widgets.BoundedFloatText(\n",
    "                value=0, \n",
    "                min=0,\n",
    "                step=0.01,\n",
    "                description=label,\n",
    "                style=self.style, \n",
    "                layout=self.volume_layout,\n",
    "                disabled=False,\n",
    "            )\n",
    "            self.initVolumes.append(widget)\n",
    "        \n",
    "        # layout initial parameters\n",
    "        volumeBox = VBox(self.initVolumes)\n",
    "        concentrationBox = VBox(self.initConcentration)\n",
    "        self.initBox = HBox([volumeBox, concentrationBox])\n",
    "        \n",
    "        \n",
    "        \n",
    "        self.btn = widgets.Button(description = 'Add', style=style, layout=self.btn_layout)\n",
    "        self.btn.on_click(self.on_btn_clicked)\n",
    "        \n",
    "        \n",
    "        \n",
    "        #self.right_box = VBox([self.items[0], self.items[1],self.items[2], self.items[3]])\n",
    "        #self.left_box = VBox([self.concentration_text,self.btn])\n",
    "        \n",
    "        self.mainBox = VBox([self.initBox, self.volumesBox, self.btn])\n",
    "        self.ratio=[]\n",
    "        \n",
    "    @property\n",
    "    def volumes(self):\n",
    "        return [volWidget.value for volWidget in self.volumeWidgets]\n",
    "        \n",
    "    def on_btn_clicked(self,b):\n",
    "        self.add_volume()\n",
    "\n",
    "    def volume_changed(self, change):\n",
    "        startVolumes=self.initBox.children[0].children\n",
    "        concentrations=self.initBox.children[1].children\n",
    "        addedVolumes=self.volumeWidgets\n",
    "        try:\n",
    "            analyteConc=[(startVolumes[0].value/startVolumes[1].value)*concentrations[0].value for step in addedVolumes]\n",
    "            titrantVol=[volume.value for volume in addedVolumes]\n",
    "            titrantConc=[(sum(titrantVol[0:index+1])/startVolumes[1].value)*concentrations[1].value for index,step in enumerate(addedVolumes)]\n",
    "        except ZeroDivisionError as e:\n",
    "            print(str(e) + \": Total volume = 0 !\")\n",
    "            return\n",
    "        try:\n",
    "            ratioConc=[titrantConc[index]/analyteConc[index] for index in range(len(addedVolumes)) ]\n",
    "            print(\"Vol Changed ! Ratio L/P: \"+str(ratioConc))\n",
    "            self.ratio=ratioConc \n",
    "        except ZeroDivisionError as e:\n",
    "            print(str(e) + \": Analyte concentration = 0 !\")\n",
    "            return\n",
    "\n",
    "        \n",
    "    def add_volume(self, disabled=False):\n",
    "        widget = widgets.BoundedFloatText(\n",
    "            value=0, \n",
    "            min=0,\n",
    "            step=0.01,\n",
    "            description=\"Step {step}\".format(step=self.step_nb), \n",
    "            style=self.style, \n",
    "            layout=self.layout,\n",
    "            disabled=disabled\n",
    "        )\n",
    "        \n",
    "        widget.observe(self.volume_changed, names='value')\n",
    "        \n",
    "        self.volumeWidgets.append(widget)\n",
    "        self.volumesBox.children = self.volumeWidgets\n",
    "        self.step_nb += 1\n",
    "\n",
    "protocole = ProtocoleSteps()\n",
    "display(protocole.mainBox)\n",
    "\n",
    "def updateCurveAx(b):\n",
    "    if protocole.ratio!=[]:\n",
    "        b.value=protocole.ratio\n",
    "        c.ratio=protocole.ratio\n",
    "        print(\"Ratio values have been updated !\\nRefresh your graph.\")\n",
    "    else:\n",
    "        print(\"Emtpy ratio values.\")\n",
    "\n",
    "linkBtn = widgets.Button(description = 'Validate ratio values', style=style, layout=layout)\n",
    "linkBtn.on_click(updateCurveAx)\n",
    "\n",
    "display(linkBtn)"
   ]
  },
  {
   "cell_type": "code",
   "execution_count": 4,
   "metadata": {
    "extensions": {
     "jupyter_dashboards": {
      "version": 1,
      "views": {
       "grid_default": {
        "col": 0,
        "height": 22,
        "hidden": false,
        "row": 37,
        "width": null
       },
       "report_default": {}
      }
     }
    }
   },
   "outputs": [
    {
     "data": {
      "application/vnd.jupyter.widget-view+json": {
       "model_id": "92f8063c54374f9c91d4f5c35f427926",
       "version_major": 2,
       "version_minor": 0
      },
      "text/plain": [
       "A Jupyter Widget"
      ]
     },
     "metadata": {},
     "output_type": "display_data"
    }
   ],
   "source": [
    "\n",
    "widgets.interactive(c.scatterPlot, residueNumber=c.widgets.children[0], maxValue=c.widgets.children[1], refresh=c.btn)"
   ]
  },
  {
   "cell_type": "code",
   "execution_count": null,
   "metadata": {
    "collapsed": true,
    "extensions": {
     "jupyter_dashboards": {
      "version": 1,
      "views": {
       "grid_default": {
        "hidden": true
       },
       "report_default": {}
      }
     }
    }
   },
   "outputs": [],
   "source": []
  }
 ],
 "metadata": {
  "extensions": {
   "jupyter_dashboards": {
    "activeView": "grid_default",
    "version": 1,
    "views": {
     "grid_default": {
      "cellMargin": 10,
      "defaultCellHeight": 20,
      "maxColumns": 12,
      "name": "grid",
      "type": "grid"
     },
     "report_default": {
      "name": "report",
      "type": "report"
     }
    }
   }
  },
  "kernelspec": {
   "display_name": "Python 3",
   "language": "python",
   "name": "python3"
  },
  "language_info": {
   "codemirror_mode": {
    "name": "ipython",
    "version": 3
   },
   "file_extension": ".py",
   "mimetype": "text/x-python",
   "name": "python",
   "nbconvert_exporter": "python",
   "pygments_lexer": "ipython3",
   "version": "3.6.3"
  }
 },
 "nbformat": 4,
 "nbformat_minor": 2
}
