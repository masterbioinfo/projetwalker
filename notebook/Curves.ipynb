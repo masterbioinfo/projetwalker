{
 "cells": [
  {
   "cell_type": "code",
   "execution_count": 3,
   "metadata": {},
   "outputs": [
    {
     "data": {
      "text/html": [
       "<script>requirejs.config({paths: { 'plotly': ['https://cdn.plot.ly/plotly-latest.min']},});if(!window.Plotly) {{require(['plotly'],function(plotly) {window.Plotly=plotly;});}}</script>"
      ],
      "text/vnd.plotly.v1+html": [
       "<script>requirejs.config({paths: { 'plotly': ['https://cdn.plot.ly/plotly-latest.min']},});if(!window.Plotly) {{require(['plotly'],function(plotly) {window.Plotly=plotly;});}}</script>"
      ]
     },
     "metadata": {},
     "output_type": "display_data"
    }
   ],
   "source": [
    "import plotly.offline as plt\n",
    "import plotly.graph_objs as go\n",
    "from plotly.graph_objs import Layout\n",
    "from plotly.graph_objs.graph_objs import Scatter\n",
    "from ipywidgets import *\n",
    "import ipywidgets as widgets\n",
    "\n",
    "plt.init_notebook_mode(connected=True)"
   ]
  },
  {
   "cell_type": "code",
   "execution_count": 4,
   "metadata": {},
   "outputs": [
    {
     "data": {
      "application/vnd.jupyter.widget-view+json": {
       "model_id": "76de9f3e943a4fc6917a8fa9fe686b16",
       "version_major": 2,
       "version_minor": 0
      },
      "text/plain": [
       "A Jupyter Widget"
      ]
     },
     "metadata": {},
     "output_type": "display_data"
    }
   ],
   "source": [
    "class Curves(object):\n",
    "    \"\"\"Class for showing scatter plot of intensities for one residue\"\"\"\n",
    "    def __init__(self, titration):\n",
    "        \"\"\"Defines attributs\n",
    "        argument 'titration' is a dicitionnary of 2 dimensions list for each key (should be a titration object from shiftome after developement)\"\"\"\n",
    "        self.titration=titration\n",
    "        self.residueSelector=widgets.Dropdown(options=[key for key in self.titration],\n",
    "                                              description='Residue Number:',\n",
    "                                              disabled=False,) # widget for selecting a specific residue\n",
    "        self.intensity=widgets.FloatSlider(max=50, \n",
    "                                           step=1, \n",
    "                                           orientation=\"horizontal\", \n",
    "                                           value=0) # slider widget for setting y ax max value\n",
    "    def scatterPlot(self, residueNumber, maxValue):\n",
    "        \"\"\"Method that traces scatter plot of intensity at each Ligand/Protein ratio. \n",
    "        Creates a scatter plot.Sets the max value. Defines a legend.\n",
    "        argument 'residueNumber' is a float number representing dictionnary key of titration.\n",
    "        argument 'maxValue' is an integer representing the max value for y ax\"\"\"\n",
    "        trace=go.Scatter(x=self.titration[residueNumber][0], y=self.titration[residueNumber][1],)\n",
    "        data=[trace]\n",
    "        ##sets default max value\n",
    "        if maxValue ==0:\n",
    "            intensityMax=1.2*max(self.titration[residueNumber][1])\n",
    "        ##\n",
    "        ##sets chosen max value\n",
    "        else:\n",
    "            intensityMax=maxValue\n",
    "        ##\n",
    "        fig = go.Figure(data=data, layout=dict(title='Titration Curve of residue '+str(residueNumber),annotations=[{\n",
    "                                            'xref': 'paper', #plot number\n",
    "                                            'yref': 'paper',\n",
    "                                            'x': 0, #x position of x ax legend\n",
    "                                            'xanchor': 'right',\n",
    "                                            'y': 1,\n",
    "                                            'yanchor': 'bottom',\n",
    "                                            'text': 'Chemical shift intensity',\n",
    "                                            'font':{'size':16},\n",
    "                                            'showarrow': False\n",
    "                                          }, {\n",
    "                                            'xref': 'paper',\n",
    "                                            'yref': 'paper',\n",
    "                                            'x': 1,\n",
    "                                            'xanchor': 'left',\n",
    "                                            'y': 0,\n",
    "                                            'yanchor': 'top',\n",
    "                                            'text': 'Ligand/Protein ratio',\n",
    "                                            'font':{'size':16},\n",
    "                                            'showarrow': False\n",
    "                                          }],  width=1000, #width of plotly interface\n",
    "                                    height=500,\n",
    "                                    margin=go.Margin(\n",
    "                                        l=200,\n",
    "                                        r=200,\n",
    "                                        b=100,\n",
    "                                        t=100,\n",
    "                                        pad=4)),)\n",
    "        fig['layout'].update(xaxis={'showline':True, 'showgrid':True,'zeroline':True}, \n",
    "                             yaxis={'range':[0,intensityMax],'showline':True,'zeroline':False}) #show x and y axes and sets y scale\n",
    "        plt.iplot(fig)\n",
    "\n",
    "c=Curves({1:[[1,2,3,4,5,6,7,8],[10,12,14,15,6,20,1,12,]], 2:[[1,2,3,4,5,6,7,8],[12,15,14,16,1,21,8,6,]], 3:[[1,2,3,4,5,6,7,8],[12,11,10,14,15,16,17,15]], '4':[[1,2,3,4,5,6,7,8],[11,14,16,20,25,23,24,48]]})\n",
    "widgets.interactive(c.scatterPlot, residueNumber=c.residueSelector, maxValue=c.intensity)"
   ]
  },
  {
   "cell_type": "code",
   "execution_count": null,
   "metadata": {
    "collapsed": true
   },
   "outputs": [],
   "source": []
  }
 ],
 "metadata": {
  "kernelspec": {
   "display_name": "Python 3",
   "language": "python",
   "name": "python3"
  },
  "language_info": {
   "codemirror_mode": {
    "name": "ipython",
    "version": 3
   },
   "file_extension": ".py",
   "mimetype": "text/x-python",
   "name": "python",
   "nbconvert_exporter": "python",
   "pygments_lexer": "ipython3",
   "version": "3.6.3"
  }
 },
 "nbformat": 4,
 "nbformat_minor": 2
}
