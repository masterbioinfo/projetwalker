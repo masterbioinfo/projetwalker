{
 "cells": [
  {
   "cell_type": "code",
   "execution_count": 1,
   "metadata": {
    "extensions": {
     "jupyter_dashboards": {
      "version": 1,
      "views": {
       "grid_default": {
        "hidden": true
       },
       "report_default": {
        "hidden": true
       }
      }
     }
    }
   },
   "outputs": [],
   "source": [
    "from classes.ipywidgets import *\n",
    "from classes.Titration import Titration\n",
    "from ipyfileupload.widgets import DirectoryUploadWidget\n",
    "shift2me = Shift2Me()"
   ]
  },
  {
   "cell_type": "code",
   "execution_count": 2,
   "metadata": {
    "extensions": {
     "jupyter_dashboards": {
      "version": 1,
      "views": {
       "grid_default": {
        "col": 1,
        "height": 11,
        "hidden": false,
        "row": 0,
        "width": 3
       },
       "report_default": {
        "hidden": false
       }
      }
     }
    },
    "scrolled": false
   },
   "outputs": [
    {
     "data": {
      "application/vnd.jupyter.widget-view+json": {
       "model_id": "c77ae163e9e242dfa8499fa071a5dfc5",
       "version_major": 2,
       "version_minor": 0
      },
      "text/plain": [
       "A Jupyter Widget"
      ]
     },
     "metadata": {},
     "output_type": "display_data"
    }
   ],
   "source": [
    "shift2me.uploadview.layout=Layout(width=\"100%\")\n",
    "shift2me.uploadview"
   ]
  },
  {
   "cell_type": "code",
   "execution_count": 3,
   "metadata": {
    "extensions": {
     "jupyter_dashboards": {
      "version": 1,
      "views": {
       "grid_default": {
        "col": 4,
        "height": 11,
        "hidden": false,
        "row": 0,
        "width": 8
       },
       "report_default": {
        "hidden": false
       }
      }
     }
    }
   },
   "outputs": [
    {
     "data": {
      "application/vnd.jupyter.widget-view+json": {
       "model_id": "82d001ed980e4eaab0b9fda4f9002267",
       "version_major": 2,
       "version_minor": 0
      },
      "text/plain": [
       "A Jupyter Widget"
      ]
     },
     "metadata": {},
     "output_type": "display_data"
    }
   ],
   "source": [
    "shift2me.startParams.layout=Layout(width=\"100%\", min_height=\"100%\")\n",
    "shift2me.startParams"
   ]
  },
  {
   "cell_type": "code",
   "execution_count": 4,
   "metadata": {
    "extensions": {
     "jupyter_dashboards": {
      "version": 1,
      "views": {
       "grid_default": {
        "col": 1,
        "height": 17,
        "hidden": false,
        "row": 11,
        "width": 3
       },
       "report_default": {
        "hidden": false
       }
      }
     }
    }
   },
   "outputs": [
    {
     "data": {
      "application/vnd.jupyter.widget-view+json": {
       "model_id": "21fc85514e1b4cff914a4bb70787606f",
       "version_major": 2,
       "version_minor": 0
      },
      "text/plain": [
       "A Jupyter Widget"
      ]
     },
     "metadata": {},
     "output_type": "display_data"
    }
   ],
   "source": [
    "shift2me.protocole.volumes.layout = Layout(width='100%')\n",
    "shift2me.protocole.volumes"
   ]
  },
  {
   "cell_type": "code",
   "execution_count": 5,
   "metadata": {
    "extensions": {
     "jupyter_dashboards": {
      "version": 1,
      "views": {
       "grid_default": {
        "col": 4,
        "height": 17,
        "hidden": false,
        "row": 11,
        "width": 8
       },
       "report_default": {
        "hidden": false
       }
      }
     }
    }
   },
   "outputs": [
    {
     "data": {
      "application/vnd.jupyter.widget-view+json": {
       "model_id": "66c59019fe0a4e8a951da6feaa4e3a60",
       "version_major": 2,
       "version_minor": 0
      },
      "text/plain": [
       "A Jupyter Widget"
      ]
     },
     "metadata": {},
     "output_type": "display_data"
    }
   ],
   "source": [
    "shift2me.protocole.protocole.layout=Layout(width=\"100%\", height=\"100%\")\n",
    "shift2me.protocole.protocole"
   ]
  },
  {
   "cell_type": "code",
   "execution_count": 6,
   "metadata": {
    "extensions": {
     "jupyter_dashboards": {
      "version": 1,
      "views": {
       "grid_default": {
        "col": 1,
        "height": 26,
        "hidden": false,
        "row": 28,
        "width": 11
       },
       "report_default": {
        "hidden": false
       }
      }
     }
    },
    "scrolled": false
   },
   "outputs": [
    {
     "data": {
      "application/vnd.jupyter.widget-view+json": {
       "model_id": "fb0cb77273b747308c42bf06d01d0fa6",
       "version_major": 2,
       "version_minor": 0
      },
      "text/plain": [
       "A Jupyter Widget"
      ]
     },
     "metadata": {},
     "output_type": "display_data"
    },
    {
     "name": "stderr",
     "output_type": "stream",
     "text": [
      "/home/louis/dev/projetwalker/classes/bqplotwidgets.py:421: RuntimeWarning: invalid value encountered in sqrt\n",
      "  return delta * (l+p+k - np.sqrt(root_term))/(2*p)\n"
     ]
    }
   ],
   "source": [
    "shift2me.chemshifts"
   ]
  },
  {
   "cell_type": "code",
   "execution_count": 7,
   "metadata": {
    "extensions": {
     "jupyter_dashboards": {
      "version": 1,
      "views": {
       "grid_default": {
        "col": 4,
        "height": 7,
        "hidden": true,
        "row": 30,
        "width": 3
       },
       "report_default": {
        "hidden": false
       }
      }
     }
    },
    "scrolled": false
   },
   "outputs": [],
   "source": [
    "Layout?"
   ]
  },
  {
   "cell_type": "code",
   "execution_count": 8,
   "metadata": {
    "extensions": {
     "jupyter_dashboards": {
      "version": 1,
      "views": {
       "grid_default": {
        "hidden": true
       },
       "report_default": {}
      }
     }
    },
    "scrolled": false
   },
   "outputs": [
    {
     "ename": "KeyError",
     "evalue": "246",
     "output_type": "error",
     "traceback": [
      "\u001b[0;31m---------------------------------------------------------------------------\u001b[0m",
      "\u001b[0;31mKeyError\u001b[0m                                  Traceback (most recent call last)",
      "\u001b[0;32m<ipython-input-8-3e8e0d9a4a3c>\u001b[0m in \u001b[0;36m<module>\u001b[0;34m()\u001b[0m\n\u001b[1;32m     15\u001b[0m ])\n\u001b[1;32m     16\u001b[0m \u001b[0;34m\u001b[0m\u001b[0m\n\u001b[0;32m---> 17\u001b[0;31m \u001b[0mpopt\u001b[0m\u001b[0;34m,\u001b[0m \u001b[0mpcov\u001b[0m \u001b[0;34m=\u001b[0m \u001b[0mcurve_fit\u001b[0m\u001b[0;34m(\u001b[0m\u001b[0mmodel\u001b[0m\u001b[0;34m,\u001b[0m \u001b[0mxdata\u001b[0m \u001b[0;34m=\u001b[0m\u001b[0mxdata\u001b[0m\u001b[0;34m,\u001b[0m \u001b[0mydata\u001b[0m \u001b[0;34m=\u001b[0m \u001b[0mshift2me\u001b[0m\u001b[0;34m.\u001b[0m\u001b[0mtitration\u001b[0m\u001b[0;34m.\u001b[0m\u001b[0mcomplete\u001b[0m\u001b[0;34m[\u001b[0m\u001b[0;36m246\u001b[0m\u001b[0;34m]\u001b[0m\u001b[0;34m.\u001b[0m\u001b[0mchemshiftIntensity\u001b[0m\u001b[0;34m,\u001b[0m \u001b[0mp0\u001b[0m\u001b[0;34m=\u001b[0m\u001b[0;34m[\u001b[0m\u001b[0;36m0.3\u001b[0m\u001b[0;34m,\u001b[0m \u001b[0;36m100\u001b[0m\u001b[0;34m]\u001b[0m\u001b[0;34m)\u001b[0m\u001b[0;34m\u001b[0m\u001b[0m\n\u001b[0m",
      "\u001b[0;31mKeyError\u001b[0m: 246"
     ]
    }
   ],
   "source": [
    "import math\n",
    "import numpy as np\n",
    "def model(x, delta = 0.3, k = 100):\n",
    "    l,p = x\n",
    "    l = np.array(l)\n",
    "    p = np.array(p)\n",
    "    squared = np.square(l+p+k)\n",
    "    lp4 = 4*l*p\n",
    "    return delta * (l+p+k - np.sqrt(squared - lp4))/(2*p)\n",
    "\n",
    "from scipy.optimize import curve_fit\n",
    "xdata = np.array([\n",
    "    shift2me.titration.protocole['conc_titrant'],\n",
    "    shift2me.titration.protocole['conc_analyte']\n",
    "])\n",
    "\n",
    "popt, pcov = curve_fit(model, xdata =xdata, ydata = shift2me.titration.complete[246].chemshiftIntensity, p0=[0.3, 100])"
   ]
  },
  {
   "cell_type": "code",
   "execution_count": 55,
   "metadata": {
    "extensions": {
     "jupyter_dashboards": {
      "version": 1,
      "views": {
       "grid_default": {
        "col": 8,
        "height": 10,
        "hidden": true,
        "row": 54,
        "width": 4
       },
       "report_default": {}
      }
     }
    }
   },
   "outputs": [
    {
     "name": "stdout",
     "output_type": "stream",
     "text": [
      "[   0.23834241  106.55847821]\n"
     ]
    },
    {
     "data": {
      "image/png": "[encoded data removed]",
      "text/plain": [
       "<matplotlib.figure.Figure at 0x7f50a9451358>"
      ]
     },
     "metadata": {},
     "output_type": "display_data"
    }
   ],
   "source": [
    "import matplotlib.pyplot as plt\n",
    "\n",
    "plt.plot(shift2me.titration.protocole['ratio'], shift2me.titration.complete[246].chemshiftIntensity)\n",
    "plt.plot(shift2me.titration.protocole['ratio'], model(xdata, *popt), 'r-')\n",
    "print(popt)\n",
    "#shift2me.chemshifts.curves.curves[0].curve.marks.append(bqplot.Lines(x=xdata, y=model(xdata, *popt)))"
   ]
  },
  {
   "cell_type": "code",
   "execution_count": null,
   "metadata": {
    "extensions": {
     "jupyter_dashboards": {
      "version": 1,
      "views": {
       "grid_default": {
        "hidden": true
       },
       "report_default": {
        "hidden": true
       }
      }
     }
    }
   },
   "outputs": [],
   "source": [
    "from classes.ipywidgets import Shift2Me\n",
    "display(Shift2Me())"
   ]
  },
  {
   "cell_type": "code",
   "execution_count": 35,
   "metadata": {
    "extensions": {
     "jupyter_dashboards": {
      "version": 1,
      "views": {
       "grid_default": {
        "hidden": true
       },
       "report_default": {
        "hidden": true
       }
      }
     }
    }
   },
   "outputs": [],
   "source": [
    "import bqplot\n",
    "bqplot.Lines?"
   ]
  },
  {
   "cell_type": "code",
   "execution_count": 6,
   "metadata": {
    "extensions": {
     "jupyter_dashboards": {
      "version": 1,
      "views": {
       "grid_default": {
        "hidden": true
       },
       "report_default": {}
      }
     }
    }
   },
   "outputs": [
    {
     "data": {
      "application/vnd.jupyter.widget-view+json": {
       "model_id": "8fa4cb632568407899f0ae796c796cf8",
       "version_major": 2,
       "version_minor": 0
      },
      "text/plain": [
       "A Jupyter Widget"
      ]
     },
     "metadata": {},
     "output_type": "display_data"
    }
   ],
   "source": [
    "from ipywidgets import *\n",
    "\n",
    "class kanar(Text):\n",
    "    \n",
    "    @observe('value')\n",
    "    def on_change(self, change):\n",
    "        print(change['new'])\n",
    "    \n",
    "class patate(kanar):\n",
    "    def on_change(self, change):\n",
    "        print(change['new'] + 'kkkkkkk') \n",
    "\n",
    "kanar()\n",
    "patate()"
   ]
  },
  {
   "cell_type": "code",
   "execution_count": 9,
   "metadata": {
    "extensions": {
     "jupyter_dashboards": {
      "version": 1,
      "views": {
       "grid_default": {
        "col": 0,
        "height": 4,
        "hidden": true,
        "row": 54,
        "width": 4
       },
       "report_default": {}
      }
     }
    }
   },
   "outputs": [
    {
     "data": {
      "application/vnd.jupyter.widget-view+json": {
       "model_id": "6b7b6138b7d84958a27dbe0252b59620",
       "version_major": 2,
       "version_minor": 0
      },
      "text/plain": [
       "A Jupyter Widget"
      ]
     },
     "metadata": {},
     "output_type": "display_data"
    }
   ],
   "source": [
    "x = BoundedFloatText()\n",
    "x"
   ]
  },
  {
   "cell_type": "code",
   "execution_count": 10,
   "metadata": {
    "extensions": {
     "jupyter_dashboards": {
      "version": 1,
      "views": {
       "grid_default": {
        "hidden": true
       },
       "report_default": {}
      }
     }
    }
   },
   "outputs": [
    {
     "data": {
      "text/plain": [
       "{'id': '5IXF',\n",
       " 'polymer': [{'@entityNr': '1',\n",
       "   '@length': '109',\n",
       "   '@type': 'protein',\n",
       "   '@weight': '12465.8',\n",
       "   'Taxonomy': {'@id': '9606', '@name': 'Homo sapiens'},\n",
       "   'chain': {'@id': 'A'},\n",
       "   'fragment': {'@desc': 'SH3 domain, residues 196-263'},\n",
       "   'macroMolecule': {'@name': 'Signal transducing adapter molecule 2',\n",
       "    'accession': {'@id': 'O75886'}},\n",
       "   'mutation': {'@desc': 'N261D'},\n",
       "   'polymerDescription': {'@description': 'Signal transducing adapter molecule 2'},\n",
       "   'synonym': {'@name': 'STAM-2,Hrs-binding protein'}},\n",
       "  {'@entityNr': '2',\n",
       "   '@length': '14',\n",
       "   '@type': 'protein',\n",
       "   '@weight': '1437.7',\n",
       "   'Taxonomy': {'@id': '9606', '@name': 'Homo sapiens'},\n",
       "   'chain': {'@id': 'B'},\n",
       "   'enzClass': {'@ec': '3.4.19'},\n",
       "   'fragment': {'@desc': 'SBM motif, UNP residues 228-241'},\n",
       "   'macroMolecule': {'@name': 'STAM-binding protein',\n",
       "    'accession': {'@id': 'O95630'}},\n",
       "   'polymerDescription': {'@description': 'STAM-binding protein'}}]}"
      ]
     },
     "execution_count": 10,
     "metadata": {},
     "output_type": "execute_result"
    }
   ],
   "source": [
    "import pypdb\n",
    "pypdb.get_all_info('5ixf')"
   ]
  },
  {
   "cell_type": "code",
   "execution_count": 11,
   "metadata": {
    "extensions": {
     "jupyter_dashboards": {
      "version": 1,
      "views": {
       "grid_default": {
        "hidden": true
       },
       "report_default": {}
      }
     }
    }
   },
   "outputs": [],
   "source": [
    "from Bio.PDB import *\n"
   ]
  },
  {
   "cell_type": "code",
   "execution_count": 12,
   "metadata": {
    "extensions": {
     "jupyter_dashboards": {
      "version": 1,
      "views": {
       "grid_default": {
        "col": 4,
        "height": 4,
        "hidden": true,
        "row": 54,
        "width": 4
       },
       "report_default": {}
      }
     }
    }
   },
   "outputs": [
    {
     "name": "stderr",
     "output_type": "stream",
     "text": [
      "WARNING: The default download format has changed from PDB to PDBx/mmCif\n"
     ]
    },
    {
     "name": "stdout",
     "output_type": "stream",
     "text": [
      "Downloading PDB structure '1FAT'...\n"
     ]
    },
    {
     "data": {
      "text/plain": [
       "'/home/louis/dev/projetwalker/fa/1fat.cif'"
      ]
     },
     "execution_count": 12,
     "metadata": {},
     "output_type": "execute_result"
    }
   ],
   "source": [
    "pdbl = PDBList()\n",
    "pdbl.retrieve_pdb_file('1FAT')\n"
   ]
  },
  {
   "cell_type": "code",
   "execution_count": 13,
   "metadata": {
    "extensions": {
     "jupyter_dashboards": {
      "version": 1,
      "views": {
       "grid_default": {
        "hidden": true
       },
       "report_default": {}
      }
     }
    }
   },
   "outputs": [],
   "source": [
    "parser = MMCIFParser()\n"
   ]
  },
  {
   "cell_type": "code",
   "execution_count": 14,
   "metadata": {
    "extensions": {
     "jupyter_dashboards": {
      "version": 1,
      "views": {
       "grid_default": {
        "hidden": true
       },
       "report_default": {}
      }
     }
    }
   },
   "outputs": [],
   "source": [
    "structure = parser.get_structure('PHA-L', '5ixf.cif')\n"
   ]
  },
  {
   "cell_type": "code",
   "execution_count": 15,
   "metadata": {
    "extensions": {
     "jupyter_dashboards": {
      "version": 1,
      "views": {
       "grid_default": {
        "col": 8,
        "height": 4,
        "hidden": true,
        "row": 54,
        "width": 4
       },
       "report_default": {}
      }
     }
    }
   },
   "outputs": [
    {
     "data": {
      "text/plain": [
       "<generator object Structure.get_residues at 0x7f50b4aae150>"
      ]
     },
     "execution_count": 15,
     "metadata": {},
     "output_type": "execute_result"
    }
   ],
   "source": [
    "structure.get_residues()"
   ]
  },
  {
   "cell_type": "code",
   "execution_count": 16,
   "metadata": {
    "extensions": {
     "jupyter_dashboards": {
      "version": 1,
      "views": {
       "grid_default": {
        "col": 0,
        "height": 12,
        "hidden": true,
        "row": 58,
        "width": 4
       },
       "report_default": {}
      }
     }
    }
   },
   "outputs": [
    {
     "name": "stdout",
     "output_type": "stream",
     "text": [
      "[<Residue GLU het=  resseq=203 icode= >, <Residue ILE het=  resseq=204 icode= >, <Residue GLN het=  resseq=205 icode= >, <Residue LEU het=  resseq=206 icode= >, <Residue ASN het=  resseq=207 icode= >, <Residue ASN het=  resseq=208 icode= >, <Residue LYS het=  resseq=209 icode= >, <Residue VAL het=  resseq=210 icode= >, <Residue ALA het=  resseq=211 icode= >, <Residue ARG het=  resseq=212 icode= >, <Residue LYS het=  resseq=213 icode= >, <Residue VAL het=  resseq=214 icode= >, <Residue ARG het=  resseq=215 icode= >, <Residue ALA het=  resseq=216 icode= >, <Residue LEU het=  resseq=217 icode= >, <Residue TYR het=  resseq=218 icode= >, <Residue ASP het=  resseq=219 icode= >, <Residue PHE het=  resseq=220 icode= >, <Residue GLU het=  resseq=221 icode= >, <Residue ALA het=  resseq=222 icode= >, <Residue VAL het=  resseq=223 icode= >, <Residue GLU het=  resseq=224 icode= >, <Residue ASP het=  resseq=225 icode= >, <Residue ASN het=  resseq=226 icode= >, <Residue GLU het=  resseq=227 icode= >, <Residue LEU het=  resseq=228 icode= >, <Residue THR het=  resseq=229 icode= >, <Residue PHE het=  resseq=230 icode= >, <Residue LYS het=  resseq=231 icode= >, <Residue HIS het=  resseq=232 icode= >, <Residue GLY het=  resseq=233 icode= >, <Residue GLU het=  resseq=234 icode= >, <Residue ILE het=  resseq=235 icode= >, <Residue ILE het=  resseq=236 icode= >, <Residue ILE het=  resseq=237 icode= >, <Residue VAL het=  resseq=238 icode= >, <Residue LEU het=  resseq=239 icode= >, <Residue ASP het=  resseq=240 icode= >, <Residue ASP het=  resseq=241 icode= >, <Residue SER het=  resseq=242 icode= >, <Residue ASP het=  resseq=243 icode= >, <Residue ALA het=  resseq=244 icode= >, <Residue ASN het=  resseq=245 icode= >, <Residue TRP het=  resseq=246 icode= >, <Residue TRP het=  resseq=247 icode= >, <Residue LYS het=  resseq=248 icode= >, <Residue GLY het=  resseq=249 icode= >, <Residue GLU het=  resseq=250 icode= >, <Residue ASN het=  resseq=251 icode= >, <Residue HIS het=  resseq=252 icode= >, <Residue ARG het=  resseq=253 icode= >, <Residue GLY het=  resseq=254 icode= >, <Residue ILE het=  resseq=255 icode= >, <Residue GLY het=  resseq=256 icode= >, <Residue LEU het=  resseq=257 icode= >, <Residue PHE het=  resseq=258 icode= >, <Residue PRO het=  resseq=259 icode= >, <Residue SER het=  resseq=260 icode= >, <Residue ASP het=  resseq=261 icode= >, <Residue PHE het=  resseq=262 icode= >, <Residue VAL het=  resseq=263 icode= >, <Residue THR het=  resseq=264 icode= >, <Residue THR het=  resseq=265 icode= >, <Residue ASN het=  resseq=266 icode= >, <Residue LEU het=  resseq=267 icode= >, <Residue ASN het=  resseq=268 icode= >, <Residue ILE het=  resseq=269 icode= >, <Residue GLU het=  resseq=270 icode= >, <Residue ALA het=  resseq=1 icode= >, <Residue LYS het=  resseq=2 icode= >, <Residue PRO het=  resseq=3 icode= >, <Residue PRO het=  resseq=4 icode= >, <Residue VAL het=  resseq=5 icode= >, <Residue VAL het=  resseq=6 icode= >, <Residue ASP het=  resseq=7 icode= >, <Residue ARG het=  resseq=8 icode= >, <Residue SER het=  resseq=9 icode= >, <Residue LEU het=  resseq=10 icode= >, <Residue LYS het=  resseq=11 icode= >, <Residue PRO het=  resseq=12 icode= >, <Residue GLY het=  resseq=13 icode= >, <Residue ALA het=  resseq=14 icode= >, <Residue GLU het=  resseq=203 icode= >, <Residue ILE het=  resseq=204 icode= >, <Residue GLN het=  resseq=205 icode= >, <Residue LEU het=  resseq=206 icode= >, <Residue ASN het=  resseq=207 icode= >, <Residue ASN het=  resseq=208 icode= >, <Residue LYS het=  resseq=209 icode= >, <Residue VAL het=  resseq=210 icode= >, <Residue ALA het=  resseq=211 icode= >, <Residue ARG het=  resseq=212 icode= >, <Residue LYS het=  resseq=213 icode= >, <Residue VAL het=  resseq=214 icode= >, <Residue ARG het=  resseq=215 icode= >, <Residue ALA het=  resseq=216 icode= >, <Residue LEU het=  resseq=217 icode= >, <Residue TYR het=  resseq=218 icode= >, <Residue ASP het=  resseq=219 icode= >, <Residue PHE het=  resseq=220 icode= >, <Residue GLU het=  resseq=221 icode= >, <Residue ALA het=  resseq=222 icode= >, <Residue VAL het=  resseq=223 icode= >, <Residue GLU het=  resseq=224 icode= >, <Residue ASP het=  resseq=225 icode= >, <Residue ASN het=  resseq=226 icode= >, <Residue GLU het=  resseq=227 icode= >, <Residue LEU het=  resseq=228 icode= >, <Residue THR het=  resseq=229 icode= >, <Residue PHE het=  resseq=230 icode= >, <Residue LYS het=  resseq=231 icode= >, <Residue HIS het=  resseq=232 icode= >, <Residue GLY het=  resseq=233 icode= >, <Residue GLU het=  resseq=234 icode= >, <Residue ILE het=  resseq=235 icode= >, <Residue ILE het=  resseq=236 icode= >, <Residue ILE het=  resseq=237 icode= >, <Residue VAL het=  resseq=238 icode= >, <Residue LEU het=  resseq=239 icode= >, <Residue ASP het=  resseq=240 icode= >, <Residue ASP het=  resseq=241 icode= >, <Residue SER het=  resseq=242 icode= >, <Residue ASP het=  resseq=243 icode= >, <Residue ALA het=  resseq=244 icode= >, <Residue ASN het=  resseq=245 icode= >, <Residue TRP het=  resseq=246 icode= >, <Residue TRP het=  resseq=247 icode= >, <Residue LYS het=  resseq=248 icode= >, <Residue GLY het=  resseq=249 icode= >, <Residue GLU het=  resseq=250 icode= >, <Residue ASN het=  resseq=251 icode= >, <Residue HIS het=  resseq=252 icode= >, <Residue ARG het=  resseq=253 icode= >, <Residue GLY het=  resseq=254 icode= >, <Residue ILE het=  resseq=255 icode= >, <Residue GLY het=  resseq=256 icode= >, <Residue LEU het=  resseq=257 icode= >, <Residue PHE het=  resseq=258 icode= >, <Residue PRO het=  resseq=259 icode= >, <Residue SER het=  resseq=260 icode= >, <Residue ASP het=  resseq=261 icode= >, <Residue PHE het=  resseq=262 icode= >, <Residue VAL het=  resseq=263 icode= >, <Residue THR het=  resseq=264 icode= >, <Residue THR het=  resseq=265 icode= >, <Residue ASN het=  resseq=266 icode= >, <Residue LEU het=  resseq=267 icode= >, <Residue ASN het=  resseq=268 icode= >, <Residue ILE het=  resseq=269 icode= >, <Residue GLU het=  resseq=270 icode= >, <Residue ALA het=  resseq=1 icode= >, <Residue LYS het=  resseq=2 icode= >, <Residue PRO het=  resseq=3 icode= >, <Residue PRO het=  resseq=4 icode= >, <Residue VAL het=  resseq=5 icode= >, <Residue VAL het=  resseq=6 icode= >, <Residue ASP het=  resseq=7 icode= >, <Residue ARG het=  resseq=8 icode= >, <Residue SER het=  resseq=9 icode= >, <Residue LEU het=  resseq=10 icode= >, <Residue LYS het=  resseq=11 icode= >, <Residue PRO het=  resseq=12 icode= >, <Residue GLY het=  resseq=13 icode= >, <Residue ALA het=  resseq=14 icode= >, <Residue GLU het=  resseq=203 icode= >, <Residue ILE het=  resseq=204 icode= >, <Residue GLN het=  resseq=205 icode= >, <Residue LEU het=  resseq=206 icode= >, <Residue ASN het=  resseq=207 icode= >, <Residue ASN het=  resseq=208 icode= >, <Residue LYS het=  resseq=209 icode= >, <Residue VAL het=  resseq=210 icode= >, <Residue ALA het=  resseq=211 icode= >, <Residue ARG het=  resseq=212 icode= >, <Residue LYS het=  resseq=213 icode= >, <Residue VAL het=  resseq=214 icode= >, <Residue ARG het=  resseq=215 icode= >, <Residue ALA het=  resseq=216 icode= >, <Residue LEU het=  resseq=217 icode= >, <Residue TYR het=  resseq=218 icode= >, <Residue ASP het=  resseq=219 icode= >, <Residue PHE het=  resseq=220 icode= >, <Residue GLU het=  resseq=221 icode= >, <Residue ALA het=  resseq=222 icode= >, <Residue VAL het=  resseq=223 icode= >, <Residue GLU het=  resseq=224 icode= >, <Residue ASP het=  resseq=225 icode= >, <Residue ASN het=  resseq=226 icode= >, <Residue GLU het=  resseq=227 icode= >, <Residue LEU het=  resseq=228 icode= >, <Residue THR het=  resseq=229 icode= >, <Residue PHE het=  resseq=230 icode= >, <Residue LYS het=  resseq=231 icode= >, <Residue HIS het=  resseq=232 icode= >, <Residue GLY het=  resseq=233 icode= >, <Residue GLU het=  resseq=234 icode= >, <Residue ILE het=  resseq=235 icode= >, <Residue ILE het=  resseq=236 icode= >, <Residue ILE het=  resseq=237 icode= >, <Residue VAL het=  resseq=238 icode= >, <Residue LEU het=  resseq=239 icode= >, <Residue ASP het=  resseq=240 icode= >, <Residue ASP het=  resseq=241 icode= >, <Residue SER het=  resseq=242 icode= >, <Residue ASP het=  resseq=243 icode= >, <Residue ALA het=  resseq=244 icode= >, <Residue ASN het=  resseq=245 icode= >, <Residue TRP het=  resseq=246 icode= >, <Residue TRP het=  resseq=247 icode= >, <Residue LYS het=  resseq=248 icode= >, <Residue GLY het=  resseq=249 icode= >, <Residue GLU het=  resseq=250 icode= >, <Residue ASN het=  resseq=251 icode= >, <Residue HIS het=  resseq=252 icode= >, <Residue ARG het=  resseq=253 icode= >, <Residue GLY het=  resseq=254 icode= >, <Residue ILE het=  resseq=255 icode= >, <Residue GLY het=  resseq=256 icode= >, <Residue LEU het=  resseq=257 icode= >, <Residue PHE het=  resseq=258 icode= >, <Residue PRO het=  resseq=259 icode= >, <Residue SER het=  resseq=260 icode= >, <Residue ASP het=  resseq=261 icode= >, <Residue PHE het=  resseq=262 icode= >, <Residue VAL het=  resseq=263 icode= >, <Residue THR het=  resseq=264 icode= >, <Residue THR het=  resseq=265 icode= >, <Residue ASN het=  resseq=266 icode= >, <Residue LEU het=  resseq=267 icode= >, <Residue ASN het=  resseq=268 icode= >, <Residue ILE het=  resseq=269 icode= >, <Residue GLU het=  resseq=270 icode= >, <Residue ALA het=  resseq=1 icode= >, <Residue LYS het=  resseq=2 icode= >, <Residue PRO het=  resseq=3 icode= >, <Residue PRO het=  resseq=4 icode= >, <Residue VAL het=  resseq=5 icode= >, <Residue VAL het=  resseq=6 icode= >, <Residue ASP het=  resseq=7 icode= >, <Residue ARG het=  resseq=8 icode= >, <Residue SER het=  resseq=9 icode= >, <Residue LEU het=  resseq=10 icode= >, <Residue LYS het=  resseq=11 icode= >, <Residue PRO het=  resseq=12 icode= >, <Residue GLY het=  resseq=13 icode= >, <Residue ALA het=  resseq=14 icode= >, <Residue GLU het=  resseq=203 icode= >, <Residue ILE het=  resseq=204 icode= >, <Residue GLN het=  resseq=205 icode= >, <Residue LEU het=  resseq=206 icode= >, <Residue ASN het=  resseq=207 icode= >, <Residue ASN het=  resseq=208 icode= >, <Residue LYS het=  resseq=209 icode= >, <Residue VAL het=  resseq=210 icode= >, <Residue ALA het=  resseq=211 icode= >, <Residue ARG het=  resseq=212 icode= >, <Residue LYS het=  resseq=213 icode= >, <Residue VAL het=  resseq=214 icode= >, <Residue ARG het=  resseq=215 icode= >, <Residue ALA het=  resseq=216 icode= >, <Residue LEU het=  resseq=217 icode= >, <Residue TYR het=  resseq=218 icode= >, <Residue ASP het=  resseq=219 icode= >, <Residue PHE het=  resseq=220 icode= >, <Residue GLU het=  resseq=221 icode= >, <Residue ALA het=  resseq=222 icode= >, <Residue VAL het=  resseq=223 icode= >, <Residue GLU het=  resseq=224 icode= >, <Residue ASP het=  resseq=225 icode= >, <Residue ASN het=  resseq=226 icode= >, <Residue GLU het=  resseq=227 icode= >, <Residue LEU het=  resseq=228 icode= >, <Residue THR het=  resseq=229 icode= >, <Residue PHE het=  resseq=230 icode= >, <Residue LYS het=  resseq=231 icode= >, <Residue HIS het=  resseq=232 icode= >, <Residue GLY het=  resseq=233 icode= >, <Residue GLU het=  resseq=234 icode= >, <Residue ILE het=  resseq=235 icode= >, <Residue ILE het=  resseq=236 icode= >, <Residue ILE het=  resseq=237 icode= >, <Residue VAL het=  resseq=238 icode= >, <Residue LEU het=  resseq=239 icode= >, <Residue ASP het=  resseq=240 icode= >, <Residue ASP het=  resseq=241 icode= >, <Residue SER het=  resseq=242 icode= >, <Residue ASP het=  resseq=243 icode= >, <Residue ALA het=  resseq=244 icode= >, <Residue ASN het=  resseq=245 icode= >, <Residue TRP het=  resseq=246 icode= >, <Residue TRP het=  resseq=247 icode= >, <Residue LYS het=  resseq=248 icode= >, <Residue GLY het=  resseq=249 icode= >, <Residue GLU het=  resseq=250 icode= >, <Residue ASN het=  resseq=251 icode= >, <Residue HIS het=  resseq=252 icode= >, <Residue ARG het=  resseq=253 icode= >, <Residue GLY het=  resseq=254 icode= >, <Residue ILE het=  resseq=255 icode= >, <Residue GLY het=  resseq=256 icode= >, <Residue LEU het=  resseq=257 icode= >, <Residue PHE het=  resseq=258 icode= >, <Residue PRO het=  resseq=259 icode= >, <Residue SER het=  resseq=260 icode= >, <Residue ASP het=  resseq=261 icode= >, <Residue PHE het=  resseq=262 icode= >, <Residue VAL het=  resseq=263 icode= >, <Residue THR het=  resseq=264 icode= >, <Residue THR het=  resseq=265 icode= >, <Residue ASN het=  resseq=266 icode= >, <Residue LEU het=  resseq=267 icode= >, <Residue ASN het=  resseq=268 icode= >, <Residue ILE het=  resseq=269 icode= >, <Residue GLU het=  resseq=270 icode= >, <Residue ALA het=  resseq=1 icode= >, <Residue LYS het=  resseq=2 icode= >, <Residue PRO het=  resseq=3 icode= >, <Residue PRO het=  resseq=4 icode= >, <Residue VAL het=  resseq=5 icode= >, <Residue VAL het=  resseq=6 icode= >, <Residue ASP het=  resseq=7 icode= >, <Residue ARG het=  resseq=8 icode= >, <Residue SER het=  resseq=9 icode= >, <Residue LEU het=  resseq=10 icode= >, <Residue LYS het=  resseq=11 icode= >, <Residue PRO het=  resseq=12 icode= >, <Residue GLY het=  resseq=13 icode= >, <Residue ALA het=  resseq=14 icode= >, <Residue GLU het=  resseq=203 icode= >, <Residue ILE het=  resseq=204 icode= >, <Residue GLN het=  resseq=205 icode= >, <Residue LEU het=  resseq=206 icode= >, <Residue ASN het=  resseq=207 icode= >, <Residue ASN het=  resseq=208 icode= >, <Residue LYS het=  resseq=209 icode= >, <Residue VAL het=  resseq=210 icode= >, <Residue ALA het=  resseq=211 icode= >, <Residue ARG het=  resseq=212 icode= >, <Residue LYS het=  resseq=213 icode= >, <Residue VAL het=  resseq=214 icode= >, <Residue ARG het=  resseq=215 icode= >, <Residue ALA het=  resseq=216 icode= >, <Residue LEU het=  resseq=217 icode= >, <Residue TYR het=  resseq=218 icode= >, <Residue ASP het=  resseq=219 icode= >, <Residue PHE het=  resseq=220 icode= >, <Residue GLU het=  resseq=221 icode= >, <Residue ALA het=  resseq=222 icode= >, <Residue VAL het=  resseq=223 icode= >, <Residue GLU het=  resseq=224 icode= >, <Residue ASP het=  resseq=225 icode= >, <Residue ASN het=  resseq=226 icode= >, <Residue GLU het=  resseq=227 icode= >, <Residue LEU het=  resseq=228 icode= >, <Residue THR het=  resseq=229 icode= >, <Residue PHE het=  resseq=230 icode= >, <Residue LYS het=  resseq=231 icode= >, <Residue HIS het=  resseq=232 icode= >, <Residue GLY het=  resseq=233 icode= >, <Residue GLU het=  resseq=234 icode= >, <Residue ILE het=  resseq=235 icode= >, <Residue ILE het=  resseq=236 icode= >, <Residue ILE het=  resseq=237 icode= >, <Residue VAL het=  resseq=238 icode= >, <Residue LEU het=  resseq=239 icode= >, <Residue ASP het=  resseq=240 icode= >, <Residue ASP het=  resseq=241 icode= >, <Residue SER het=  resseq=242 icode= >, <Residue ASP het=  resseq=243 icode= >, <Residue ALA het=  resseq=244 icode= >, <Residue ASN het=  resseq=245 icode= >, <Residue TRP het=  resseq=246 icode= >, <Residue TRP het=  resseq=247 icode= >, <Residue LYS het=  resseq=248 icode= >, <Residue GLY het=  resseq=249 icode= >, <Residue GLU het=  resseq=250 icode= >, <Residue ASN het=  resseq=251 icode= >, <Residue HIS het=  resseq=252 icode= >, <Residue ARG het=  resseq=253 icode= >, <Residue GLY het=  resseq=254 icode= >, <Residue ILE het=  resseq=255 icode= >, <Residue GLY het=  resseq=256 icode= >, <Residue LEU het=  resseq=257 icode= >, <Residue PHE het=  resseq=258 icode= >, <Residue PRO het=  resseq=259 icode= >, <Residue SER het=  resseq=260 icode= >, <Residue ASP het=  resseq=261 icode= >, <Residue PHE het=  resseq=262 icode= >, <Residue VAL het=  resseq=263 icode= >, <Residue THR het=  resseq=264 icode= >, <Residue THR het=  resseq=265 icode= >, <Residue ASN het=  resseq=266 icode= >, <Residue LEU het=  resseq=267 icode= >, <Residue ASN het=  resseq=268 icode= >, <Residue ILE het=  resseq=269 icode= >, <Residue GLU het=  resseq=270 icode= >, <Residue ALA het=  resseq=1 icode= >, <Residue LYS het=  resseq=2 icode= >, <Residue PRO het=  resseq=3 icode= >, <Residue PRO het=  resseq=4 icode= >, <Residue VAL het=  resseq=5 icode= >, <Residue VAL het=  resseq=6 icode= >, <Residue ASP het=  resseq=7 icode= >, <Residue ARG het=  resseq=8 icode= >, <Residue SER het=  resseq=9 icode= >, <Residue LEU het=  resseq=10 icode= >, <Residue LYS het=  resseq=11 icode= >, <Residue PRO het=  resseq=12 icode= >, <Residue GLY het=  resseq=13 icode= >, <Residue ALA het=  resseq=14 icode= >, <Residue GLU het=  resseq=203 icode= >, <Residue ILE het=  resseq=204 icode= >, <Residue GLN het=  resseq=205 icode= >, <Residue LEU het=  resseq=206 icode= >, <Residue ASN het=  resseq=207 icode= >, <Residue ASN het=  resseq=208 icode= >, <Residue LYS het=  resseq=209 icode= >, <Residue VAL het=  resseq=210 icode= >, <Residue ALA het=  resseq=211 icode= >, <Residue ARG het=  resseq=212 icode= >, <Residue LYS het=  resseq=213 icode= >, <Residue VAL het=  resseq=214 icode= >, <Residue ARG het=  resseq=215 icode= >, <Residue ALA het=  resseq=216 icode= >, <Residue LEU het=  resseq=217 icode= >, <Residue TYR het=  resseq=218 icode= >, <Residue ASP het=  resseq=219 icode= >, <Residue PHE het=  resseq=220 icode= >, <Residue GLU het=  resseq=221 icode= >, <Residue ALA het=  resseq=222 icode= >, <Residue VAL het=  resseq=223 icode= >, <Residue GLU het=  resseq=224 icode= >, <Residue ASP het=  resseq=225 icode= >, <Residue ASN het=  resseq=226 icode= >, <Residue GLU het=  resseq=227 icode= >, <Residue LEU het=  resseq=228 icode= >, <Residue THR het=  resseq=229 icode= >, <Residue PHE het=  resseq=230 icode= >, <Residue LYS het=  resseq=231 icode= >, <Residue HIS het=  resseq=232 icode= >, <Residue GLY het=  resseq=233 icode= >, <Residue GLU het=  resseq=234 icode= >, <Residue ILE het=  resseq=235 icode= >, <Residue ILE het=  resseq=236 icode= >, <Residue ILE het=  resseq=237 icode= >, <Residue VAL het=  resseq=238 icode= >, <Residue LEU het=  resseq=239 icode= >, <Residue ASP het=  resseq=240 icode= >, <Residue ASP het=  resseq=241 icode= >, <Residue SER het=  resseq=242 icode= >, <Residue ASP het=  resseq=243 icode= >, <Residue ALA het=  resseq=244 icode= >, <Residue ASN het=  resseq=245 icode= >, <Residue TRP het=  resseq=246 icode= >, <Residue TRP het=  resseq=247 icode= >, <Residue LYS het=  resseq=248 icode= >, <Residue GLY het=  resseq=249 icode= >, <Residue GLU het=  resseq=250 icode= >, <Residue ASN het=  resseq=251 icode= >, <Residue HIS het=  resseq=252 icode= >, <Residue ARG het=  resseq=253 icode= >, <Residue GLY het=  resseq=254 icode= >, <Residue ILE het=  resseq=255 icode= >, <Residue GLY het=  resseq=256 icode= >, <Residue LEU het=  resseq=257 icode= >, <Residue PHE het=  resseq=258 icode= >, <Residue PRO het=  resseq=259 icode= >, <Residue SER het=  resseq=260 icode= >, <Residue ASP het=  resseq=261 icode= >, <Residue PHE het=  resseq=262 icode= >, <Residue VAL het=  resseq=263 icode= >, <Residue THR het=  resseq=264 icode= >, <Residue THR het=  resseq=265 icode= >, <Residue ASN het=  resseq=266 icode= >, <Residue LEU het=  resseq=267 icode= >, <Residue ASN het=  resseq=268 icode= >, <Residue ILE het=  resseq=269 icode= >, <Residue GLU het=  resseq=270 icode= >, <Residue ALA het=  resseq=1 icode= >, <Residue LYS het=  resseq=2 icode= >, <Residue PRO het=  resseq=3 icode= >, <Residue PRO het=  resseq=4 icode= >, <Residue VAL het=  resseq=5 icode= >, <Residue VAL het=  resseq=6 icode= >, <Residue ASP het=  resseq=7 icode= >, <Residue ARG het=  resseq=8 icode= >, <Residue SER het=  resseq=9 icode= >, <Residue LEU het=  resseq=10 icode= >, <Residue LYS het=  resseq=11 icode= >, <Residue PRO het=  resseq=12 icode= >, <Residue GLY het=  resseq=13 icode= >, <Residue ALA het=  resseq=14 icode= >, <Residue GLU het=  resseq=203 icode= >, <Residue ILE het=  resseq=204 icode= >, <Residue GLN het=  resseq=205 icode= >, <Residue LEU het=  resseq=206 icode= >, <Residue ASN het=  resseq=207 icode= >, <Residue ASN het=  resseq=208 icode= >, <Residue LYS het=  resseq=209 icode= >, <Residue VAL het=  resseq=210 icode= >, <Residue ALA het=  resseq=211 icode= >, <Residue ARG het=  resseq=212 icode= >, <Residue LYS het=  resseq=213 icode= >, <Residue VAL het=  resseq=214 icode= >, <Residue ARG het=  resseq=215 icode= >, <Residue ALA het=  resseq=216 icode= >, <Residue LEU het=  resseq=217 icode= >, <Residue TYR het=  resseq=218 icode= >, <Residue ASP het=  resseq=219 icode= >, <Residue PHE het=  resseq=220 icode= >, <Residue GLU het=  resseq=221 icode= >, <Residue ALA het=  resseq=222 icode= >, <Residue VAL het=  resseq=223 icode= >, <Residue GLU het=  resseq=224 icode= >, <Residue ASP het=  resseq=225 icode= >, <Residue ASN het=  resseq=226 icode= >, <Residue GLU het=  resseq=227 icode= >, <Residue LEU het=  resseq=228 icode= >, <Residue THR het=  resseq=229 icode= >, <Residue PHE het=  resseq=230 icode= >, <Residue LYS het=  resseq=231 icode= >, <Residue HIS het=  resseq=232 icode= >, <Residue GLY het=  resseq=233 icode= >, <Residue GLU het=  resseq=234 icode= >, <Residue ILE het=  resseq=235 icode= >, <Residue ILE het=  resseq=236 icode= >, <Residue ILE het=  resseq=237 icode= >, <Residue VAL het=  resseq=238 icode= >, <Residue LEU het=  resseq=239 icode= >, <Residue ASP het=  resseq=240 icode= >, <Residue ASP het=  resseq=241 icode= >, <Residue SER het=  resseq=242 icode= >, <Residue ASP het=  resseq=243 icode= >, <Residue ALA het=  resseq=244 icode= >, <Residue ASN het=  resseq=245 icode= >, <Residue TRP het=  resseq=246 icode= >, <Residue TRP het=  resseq=247 icode= >, <Residue LYS het=  resseq=248 icode= >, <Residue GLY het=  resseq=249 icode= >, <Residue GLU het=  resseq=250 icode= >, <Residue ASN het=  resseq=251 icode= >, <Residue HIS het=  resseq=252 icode= >, <Residue ARG het=  resseq=253 icode= >, <Residue GLY het=  resseq=254 icode= >, <Residue ILE het=  resseq=255 icode= >, <Residue GLY het=  resseq=256 icode= >, <Residue LEU het=  resseq=257 icode= >, <Residue PHE het=  resseq=258 icode= >, <Residue PRO het=  resseq=259 icode= >, <Residue SER het=  resseq=260 icode= >, <Residue ASP het=  resseq=261 icode= >, <Residue PHE het=  resseq=262 icode= >, <Residue VAL het=  resseq=263 icode= >, <Residue THR het=  resseq=264 icode= >, <Residue THR het=  resseq=265 icode= >, <Residue ASN het=  resseq=266 icode= >, <Residue LEU het=  resseq=267 icode= >, <Residue ASN het=  resseq=268 icode= >, <Residue ILE het=  resseq=269 icode= >, <Residue GLU het=  resseq=270 icode= >, <Residue ALA het=  resseq=1 icode= >, <Residue LYS het=  resseq=2 icode= >, <Residue PRO het=  resseq=3 icode= >, <Residue PRO het=  resseq=4 icode= >, <Residue VAL het=  resseq=5 icode= >, <Residue VAL het=  resseq=6 icode= >, <Residue ASP het=  resseq=7 icode= >, <Residue ARG het=  resseq=8 icode= >, <Residue SER het=  resseq=9 icode= >, <Residue LEU het=  resseq=10 icode= >, <Residue LYS het=  resseq=11 icode= >, <Residue PRO het=  resseq=12 icode= >, <Residue GLY het=  resseq=13 icode= >, <Residue ALA het=  resseq=14 icode= >, <Residue GLU het=  resseq=203 icode= >, <Residue ILE het=  resseq=204 icode= >, <Residue GLN het=  resseq=205 icode= >, <Residue LEU het=  resseq=206 icode= >, <Residue ASN het=  resseq=207 icode= >, <Residue ASN het=  resseq=208 icode= >, <Residue LYS het=  resseq=209 icode= >, <Residue VAL het=  resseq=210 icode= >, <Residue ALA het=  resseq=211 icode= >, <Residue ARG het=  resseq=212 icode= >, <Residue LYS het=  resseq=213 icode= >, <Residue VAL het=  resseq=214 icode= >, <Residue ARG het=  resseq=215 icode= >, <Residue ALA het=  resseq=216 icode= >, <Residue LEU het=  resseq=217 icode= >, <Residue TYR het=  resseq=218 icode= >, <Residue ASP het=  resseq=219 icode= >, <Residue PHE het=  resseq=220 icode= >, <Residue GLU het=  resseq=221 icode= >, <Residue ALA het=  resseq=222 icode= >, <Residue VAL het=  resseq=223 icode= >, <Residue GLU het=  resseq=224 icode= >, <Residue ASP het=  resseq=225 icode= >, <Residue ASN het=  resseq=226 icode= >, <Residue GLU het=  resseq=227 icode= >, <Residue LEU het=  resseq=228 icode= >, <Residue THR het=  resseq=229 icode= >, <Residue PHE het=  resseq=230 icode= >, <Residue LYS het=  resseq=231 icode= >, <Residue HIS het=  resseq=232 icode= >, <Residue GLY het=  resseq=233 icode= >, <Residue GLU het=  resseq=234 icode= >, <Residue ILE het=  resseq=235 icode= >, <Residue ILE het=  resseq=236 icode= >, <Residue ILE het=  resseq=237 icode= >, <Residue VAL het=  resseq=238 icode= >, <Residue LEU het=  resseq=239 icode= >, <Residue ASP het=  resseq=240 icode= >, <Residue ASP het=  resseq=241 icode= >, <Residue SER het=  resseq=242 icode= >, <Residue ASP het=  resseq=243 icode= >, <Residue ALA het=  resseq=244 icode= >, <Residue ASN het=  resseq=245 icode= >, <Residue TRP het=  resseq=246 icode= >, <Residue TRP het=  resseq=247 icode= >, <Residue LYS het=  resseq=248 icode= >, <Residue GLY het=  resseq=249 icode= >, <Residue GLU het=  resseq=250 icode= >, <Residue ASN het=  resseq=251 icode= >, <Residue HIS het=  resseq=252 icode= >, <Residue ARG het=  resseq=253 icode= >, <Residue GLY het=  resseq=254 icode= >, <Residue ILE het=  resseq=255 icode= >, <Residue GLY het=  resseq=256 icode= >, <Residue LEU het=  resseq=257 icode= >, <Residue PHE het=  resseq=258 icode= >, <Residue PRO het=  resseq=259 icode= >, <Residue SER het=  resseq=260 icode= >, <Residue ASP het=  resseq=261 icode= >, <Residue PHE het=  resseq=262 icode= >, <Residue VAL het=  resseq=263 icode= >, <Residue THR het=  resseq=264 icode= >, <Residue THR het=  resseq=265 icode= >, <Residue ASN het=  resseq=266 icode= >, <Residue LEU het=  resseq=267 icode= >, <Residue ASN het=  resseq=268 icode= >, <Residue ILE het=  resseq=269 icode= >, <Residue GLU het=  resseq=270 icode= >, <Residue ALA het=  resseq=1 icode= >, <Residue LYS het=  resseq=2 icode= >, <Residue PRO het=  resseq=3 icode= >, <Residue PRO het=  resseq=4 icode= >, <Residue VAL het=  resseq=5 icode= >, <Residue VAL het=  resseq=6 icode= >, <Residue ASP het=  resseq=7 icode= >, <Residue ARG het=  resseq=8 icode= >, <Residue SER het=  resseq=9 icode= >, <Residue LEU het=  resseq=10 icode= >, <Residue LYS het=  resseq=11 icode= >, <Residue PRO het=  resseq=12 icode= >, <Residue GLY het=  resseq=13 icode= >, <Residue ALA het=  resseq=14 icode= >, <Residue GLU het=  resseq=203 icode= >, <Residue ILE het=  resseq=204 icode= >, <Residue GLN het=  resseq=205 icode= >, <Residue LEU het=  resseq=206 icode= >, <Residue ASN het=  resseq=207 icode= >, <Residue ASN het=  resseq=208 icode= >, <Residue LYS het=  resseq=209 icode= >, <Residue VAL het=  resseq=210 icode= >, <Residue ALA het=  resseq=211 icode= >, <Residue ARG het=  resseq=212 icode= >, <Residue LYS het=  resseq=213 icode= >, <Residue VAL het=  resseq=214 icode= >, <Residue ARG het=  resseq=215 icode= >, <Residue ALA het=  resseq=216 icode= >, <Residue LEU het=  resseq=217 icode= >, <Residue TYR het=  resseq=218 icode= >, <Residue ASP het=  resseq=219 icode= >, <Residue PHE het=  resseq=220 icode= >, <Residue GLU het=  resseq=221 icode= >, <Residue ALA het=  resseq=222 icode= >, <Residue VAL het=  resseq=223 icode= >, <Residue GLU het=  resseq=224 icode= >, <Residue ASP het=  resseq=225 icode= >, <Residue ASN het=  resseq=226 icode= >, <Residue GLU het=  resseq=227 icode= >, <Residue LEU het=  resseq=228 icode= >, <Residue THR het=  resseq=229 icode= >, <Residue PHE het=  resseq=230 icode= >, <Residue LYS het=  resseq=231 icode= >, <Residue HIS het=  resseq=232 icode= >, <Residue GLY het=  resseq=233 icode= >, <Residue GLU het=  resseq=234 icode= >, <Residue ILE het=  resseq=235 icode= >, <Residue ILE het=  resseq=236 icode= >, <Residue ILE het=  resseq=237 icode= >, <Residue VAL het=  resseq=238 icode= >, <Residue LEU het=  resseq=239 icode= >, <Residue ASP het=  resseq=240 icode= >, <Residue ASP het=  resseq=241 icode= >, <Residue SER het=  resseq=242 icode= >, <Residue ASP het=  resseq=243 icode= >, <Residue ALA het=  resseq=244 icode= >, <Residue ASN het=  resseq=245 icode= >, <Residue TRP het=  resseq=246 icode= >, <Residue TRP het=  resseq=247 icode= >, <Residue LYS het=  resseq=248 icode= >, <Residue GLY het=  resseq=249 icode= >, <Residue GLU het=  resseq=250 icode= >, <Residue ASN het=  resseq=251 icode= >, <Residue HIS het=  resseq=252 icode= >, <Residue ARG het=  resseq=253 icode= >, <Residue GLY het=  resseq=254 icode= >, <Residue ILE het=  resseq=255 icode= >, <Residue GLY het=  resseq=256 icode= >, <Residue LEU het=  resseq=257 icode= >, <Residue PHE het=  resseq=258 icode= >, <Residue PRO het=  resseq=259 icode= >, <Residue SER het=  resseq=260 icode= >, <Residue ASP het=  resseq=261 icode= >, <Residue PHE het=  resseq=262 icode= >, <Residue VAL het=  resseq=263 icode= >, <Residue THR het=  resseq=264 icode= >, <Residue THR het=  resseq=265 icode= >, <Residue ASN het=  resseq=266 icode= >, <Residue LEU het=  resseq=267 icode= >, <Residue ASN het=  resseq=268 icode= >, <Residue ILE het=  resseq=269 icode= >, <Residue GLU het=  resseq=270 icode= >, <Residue ALA het=  resseq=1 icode= >, <Residue LYS het=  resseq=2 icode= >, <Residue PRO het=  resseq=3 icode= >, <Residue PRO het=  resseq=4 icode= >, <Residue VAL het=  resseq=5 icode= >, <Residue VAL het=  resseq=6 icode= >, <Residue ASP het=  resseq=7 icode= >, <Residue ARG het=  resseq=8 icode= >, <Residue SER het=  resseq=9 icode= >, <Residue LEU het=  resseq=10 icode= >, <Residue LYS het=  resseq=11 icode= >, <Residue PRO het=  resseq=12 icode= >, <Residue GLY het=  resseq=13 icode= >, <Residue ALA het=  resseq=14 icode= >, <Residue GLU het=  resseq=203 icode= >, <Residue ILE het=  resseq=204 icode= >, <Residue GLN het=  resseq=205 icode= >, <Residue LEU het=  resseq=206 icode= >, <Residue ASN het=  resseq=207 icode= >, <Residue ASN het=  resseq=208 icode= >, <Residue LYS het=  resseq=209 icode= >, <Residue VAL het=  resseq=210 icode= >, <Residue ALA het=  resseq=211 icode= >, <Residue ARG het=  resseq=212 icode= >, <Residue LYS het=  resseq=213 icode= >, <Residue VAL het=  resseq=214 icode= >, <Residue ARG het=  resseq=215 icode= >, <Residue ALA het=  resseq=216 icode= >, <Residue LEU het=  resseq=217 icode= >, <Residue TYR het=  resseq=218 icode= >, <Residue ASP het=  resseq=219 icode= >, <Residue PHE het=  resseq=220 icode= >, <Residue GLU het=  resseq=221 icode= >, <Residue ALA het=  resseq=222 icode= >, <Residue VAL het=  resseq=223 icode= >, <Residue GLU het=  resseq=224 icode= >, <Residue ASP het=  resseq=225 icode= >, <Residue ASN het=  resseq=226 icode= >, <Residue GLU het=  resseq=227 icode= >, <Residue LEU het=  resseq=228 icode= >, <Residue THR het=  resseq=229 icode= >, <Residue PHE het=  resseq=230 icode= >, <Residue LYS het=  resseq=231 icode= >, <Residue HIS het=  resseq=232 icode= >, <Residue GLY het=  resseq=233 icode= >, <Residue GLU het=  resseq=234 icode= >, <Residue ILE het=  resseq=235 icode= >, <Residue ILE het=  resseq=236 icode= >, <Residue ILE het=  resseq=237 icode= >, <Residue VAL het=  resseq=238 icode= >, <Residue LEU het=  resseq=239 icode= >, <Residue ASP het=  resseq=240 icode= >, <Residue ASP het=  resseq=241 icode= >, <Residue SER het=  resseq=242 icode= >, <Residue ASP het=  resseq=243 icode= >, <Residue ALA het=  resseq=244 icode= >, <Residue ASN het=  resseq=245 icode= >, <Residue TRP het=  resseq=246 icode= >, <Residue TRP het=  resseq=247 icode= >, <Residue LYS het=  resseq=248 icode= >, <Residue GLY het=  resseq=249 icode= >, <Residue GLU het=  resseq=250 icode= >, <Residue ASN het=  resseq=251 icode= >, <Residue HIS het=  resseq=252 icode= >, <Residue ARG het=  resseq=253 icode= >, <Residue GLY het=  resseq=254 icode= >, <Residue ILE het=  resseq=255 icode= >, <Residue GLY het=  resseq=256 icode= >, <Residue LEU het=  resseq=257 icode= >, <Residue PHE het=  resseq=258 icode= >, <Residue PRO het=  resseq=259 icode= >, <Residue SER het=  resseq=260 icode= >, <Residue ASP het=  resseq=261 icode= >, <Residue PHE het=  resseq=262 icode= >, <Residue VAL het=  resseq=263 icode= >, <Residue THR het=  resseq=264 icode= >, <Residue THR het=  resseq=265 icode= >, <Residue ASN het=  resseq=266 icode= >, <Residue LEU het=  resseq=267 icode= >, <Residue ASN het=  resseq=268 icode= >, <Residue ILE het=  resseq=269 icode= >, <Residue GLU het=  resseq=270 icode= >, <Residue ALA het=  resseq=1 icode= >, <Residue LYS het=  resseq=2 icode= >, <Residue PRO het=  resseq=3 icode= >, <Residue PRO het=  resseq=4 icode= >, <Residue VAL het=  resseq=5 icode= >, <Residue VAL het=  resseq=6 icode= >, <Residue ASP het=  resseq=7 icode= >, <Residue ARG het=  resseq=8 icode= >, <Residue SER het=  resseq=9 icode= >, <Residue LEU het=  resseq=10 icode= >, <Residue LYS het=  resseq=11 icode= >, <Residue PRO het=  resseq=12 icode= >, <Residue GLY het=  resseq=13 icode= >, <Residue ALA het=  resseq=14 icode= >]\n"
     ]
    }
   ],
   "source": [
    "print(list(structure.get_residues()))"
   ]
  },
  {
   "cell_type": "code",
   "execution_count": 17,
   "metadata": {
    "extensions": {
     "jupyter_dashboards": {
      "version": 1,
      "views": {
       "grid_default": {
        "hidden": true
       },
       "report_default": {}
      }
     }
    }
   },
   "outputs": [],
   "source": [
    "res_list = Selection.unfold_entities(structure, 'R')"
   ]
  },
  {
   "cell_type": "code",
   "execution_count": 20,
   "metadata": {
    "extensions": {
     "jupyter_dashboards": {
      "version": 1,
      "views": {
       "grid_default": {
        "col": 4,
        "height": 12,
        "hidden": true,
        "row": 58,
        "width": 4
       },
       "report_default": {}
      }
     }
    }
   },
   "outputs": [
    {
     "data": {
      "text/plain": [
       "['GLU',\n",
       " 'ILE',\n",
       " 'GLN',\n",
       " 'LEU',\n",
       " 'ASN',\n",
       " 'ASN',\n",
       " 'LYS',\n",
       " 'VAL',\n",
       " 'ALA',\n",
       " 'ARG',\n",
       " 'LYS',\n",
       " 'VAL',\n",
       " 'ARG',\n",
       " 'ALA',\n",
       " 'LEU',\n",
       " 'TYR',\n",
       " 'ASP',\n",
       " 'PHE',\n",
       " 'GLU',\n",
       " 'ALA',\n",
       " 'VAL',\n",
       " 'GLU',\n",
       " 'ASP',\n",
       " 'ASN',\n",
       " 'GLU',\n",
       " 'LEU',\n",
       " 'THR',\n",
       " 'PHE',\n",
       " 'LYS',\n",
       " 'HIS',\n",
       " 'GLY',\n",
       " 'GLU',\n",
       " 'ILE',\n",
       " 'ILE',\n",
       " 'ILE',\n",
       " 'VAL',\n",
       " 'LEU',\n",
       " 'ASP',\n",
       " 'ASP',\n",
       " 'SER',\n",
       " 'ASP',\n",
       " 'ALA',\n",
       " 'ASN',\n",
       " 'TRP',\n",
       " 'TRP',\n",
       " 'LYS',\n",
       " 'GLY',\n",
       " 'GLU',\n",
       " 'ASN',\n",
       " 'HIS',\n",
       " 'ARG',\n",
       " 'GLY',\n",
       " 'ILE',\n",
       " 'GLY',\n",
       " 'LEU',\n",
       " 'PHE',\n",
       " 'PRO',\n",
       " 'SER',\n",
       " 'ASP',\n",
       " 'PHE',\n",
       " 'VAL',\n",
       " 'THR',\n",
       " 'THR',\n",
       " 'ASN',\n",
       " 'LEU',\n",
       " 'ASN',\n",
       " 'ILE',\n",
       " 'GLU',\n",
       " 'ALA',\n",
       " 'LYS',\n",
       " 'PRO',\n",
       " 'PRO',\n",
       " 'VAL',\n",
       " 'VAL',\n",
       " 'ASP',\n",
       " 'ARG',\n",
       " 'SER',\n",
       " 'LEU',\n",
       " 'LYS',\n",
       " 'PRO',\n",
       " 'GLY',\n",
       " 'ALA',\n",
       " 'GLU',\n",
       " 'ILE',\n",
       " 'GLN',\n",
       " 'LEU',\n",
       " 'ASN',\n",
       " 'ASN',\n",
       " 'LYS',\n",
       " 'VAL',\n",
       " 'ALA',\n",
       " 'ARG',\n",
       " 'LYS',\n",
       " 'VAL',\n",
       " 'ARG',\n",
       " 'ALA',\n",
       " 'LEU',\n",
       " 'TYR',\n",
       " 'ASP',\n",
       " 'PHE',\n",
       " 'GLU',\n",
       " 'ALA',\n",
       " 'VAL',\n",
       " 'GLU',\n",
       " 'ASP',\n",
       " 'ASN',\n",
       " 'GLU',\n",
       " 'LEU',\n",
       " 'THR',\n",
       " 'PHE',\n",
       " 'LYS',\n",
       " 'HIS',\n",
       " 'GLY',\n",
       " 'GLU',\n",
       " 'ILE',\n",
       " 'ILE',\n",
       " 'ILE',\n",
       " 'VAL',\n",
       " 'LEU',\n",
       " 'ASP',\n",
       " 'ASP',\n",
       " 'SER',\n",
       " 'ASP',\n",
       " 'ALA',\n",
       " 'ASN',\n",
       " 'TRP',\n",
       " 'TRP',\n",
       " 'LYS',\n",
       " 'GLY',\n",
       " 'GLU',\n",
       " 'ASN',\n",
       " 'HIS',\n",
       " 'ARG',\n",
       " 'GLY',\n",
       " 'ILE',\n",
       " 'GLY',\n",
       " 'LEU',\n",
       " 'PHE',\n",
       " 'PRO',\n",
       " 'SER',\n",
       " 'ASP',\n",
       " 'PHE',\n",
       " 'VAL',\n",
       " 'THR',\n",
       " 'THR',\n",
       " 'ASN',\n",
       " 'LEU',\n",
       " 'ASN',\n",
       " 'ILE',\n",
       " 'GLU',\n",
       " 'ALA',\n",
       " 'LYS',\n",
       " 'PRO',\n",
       " 'PRO',\n",
       " 'VAL',\n",
       " 'VAL',\n",
       " 'ASP',\n",
       " 'ARG',\n",
       " 'SER',\n",
       " 'LEU',\n",
       " 'LYS',\n",
       " 'PRO',\n",
       " 'GLY',\n",
       " 'ALA',\n",
       " 'GLU',\n",
       " 'ILE',\n",
       " 'GLN',\n",
       " 'LEU',\n",
       " 'ASN',\n",
       " 'ASN',\n",
       " 'LYS',\n",
       " 'VAL',\n",
       " 'ALA',\n",
       " 'ARG',\n",
       " 'LYS',\n",
       " 'VAL',\n",
       " 'ARG',\n",
       " 'ALA',\n",
       " 'LEU',\n",
       " 'TYR',\n",
       " 'ASP',\n",
       " 'PHE',\n",
       " 'GLU',\n",
       " 'ALA',\n",
       " 'VAL',\n",
       " 'GLU',\n",
       " 'ASP',\n",
       " 'ASN',\n",
       " 'GLU',\n",
       " 'LEU',\n",
       " 'THR',\n",
       " 'PHE',\n",
       " 'LYS',\n",
       " 'HIS',\n",
       " 'GLY',\n",
       " 'GLU',\n",
       " 'ILE',\n",
       " 'ILE',\n",
       " 'ILE',\n",
       " 'VAL',\n",
       " 'LEU',\n",
       " 'ASP',\n",
       " 'ASP',\n",
       " 'SER',\n",
       " 'ASP',\n",
       " 'ALA',\n",
       " 'ASN',\n",
       " 'TRP',\n",
       " 'TRP',\n",
       " 'LYS',\n",
       " 'GLY',\n",
       " 'GLU',\n",
       " 'ASN',\n",
       " 'HIS',\n",
       " 'ARG',\n",
       " 'GLY',\n",
       " 'ILE',\n",
       " 'GLY',\n",
       " 'LEU',\n",
       " 'PHE',\n",
       " 'PRO',\n",
       " 'SER',\n",
       " 'ASP',\n",
       " 'PHE',\n",
       " 'VAL',\n",
       " 'THR',\n",
       " 'THR',\n",
       " 'ASN',\n",
       " 'LEU',\n",
       " 'ASN',\n",
       " 'ILE',\n",
       " 'GLU',\n",
       " 'ALA',\n",
       " 'LYS',\n",
       " 'PRO',\n",
       " 'PRO',\n",
       " 'VAL',\n",
       " 'VAL',\n",
       " 'ASP',\n",
       " 'ARG',\n",
       " 'SER',\n",
       " 'LEU',\n",
       " 'LYS',\n",
       " 'PRO',\n",
       " 'GLY',\n",
       " 'ALA',\n",
       " 'GLU',\n",
       " 'ILE',\n",
       " 'GLN',\n",
       " 'LEU',\n",
       " 'ASN',\n",
       " 'ASN',\n",
       " 'LYS',\n",
       " 'VAL',\n",
       " 'ALA',\n",
       " 'ARG',\n",
       " 'LYS',\n",
       " 'VAL',\n",
       " 'ARG',\n",
       " 'ALA',\n",
       " 'LEU',\n",
       " 'TYR',\n",
       " 'ASP',\n",
       " 'PHE',\n",
       " 'GLU',\n",
       " 'ALA',\n",
       " 'VAL',\n",
       " 'GLU',\n",
       " 'ASP',\n",
       " 'ASN',\n",
       " 'GLU',\n",
       " 'LEU',\n",
       " 'THR',\n",
       " 'PHE',\n",
       " 'LYS',\n",
       " 'HIS',\n",
       " 'GLY',\n",
       " 'GLU',\n",
       " 'ILE',\n",
       " 'ILE',\n",
       " 'ILE',\n",
       " 'VAL',\n",
       " 'LEU',\n",
       " 'ASP',\n",
       " 'ASP',\n",
       " 'SER',\n",
       " 'ASP',\n",
       " 'ALA',\n",
       " 'ASN',\n",
       " 'TRP',\n",
       " 'TRP',\n",
       " 'LYS',\n",
       " 'GLY',\n",
       " 'GLU',\n",
       " 'ASN',\n",
       " 'HIS',\n",
       " 'ARG',\n",
       " 'GLY',\n",
       " 'ILE',\n",
       " 'GLY',\n",
       " 'LEU',\n",
       " 'PHE',\n",
       " 'PRO',\n",
       " 'SER',\n",
       " 'ASP',\n",
       " 'PHE',\n",
       " 'VAL',\n",
       " 'THR',\n",
       " 'THR',\n",
       " 'ASN',\n",
       " 'LEU',\n",
       " 'ASN',\n",
       " 'ILE',\n",
       " 'GLU',\n",
       " 'ALA',\n",
       " 'LYS',\n",
       " 'PRO',\n",
       " 'PRO',\n",
       " 'VAL',\n",
       " 'VAL',\n",
       " 'ASP',\n",
       " 'ARG',\n",
       " 'SER',\n",
       " 'LEU',\n",
       " 'LYS',\n",
       " 'PRO',\n",
       " 'GLY',\n",
       " 'ALA',\n",
       " 'GLU',\n",
       " 'ILE',\n",
       " 'GLN',\n",
       " 'LEU',\n",
       " 'ASN',\n",
       " 'ASN',\n",
       " 'LYS',\n",
       " 'VAL',\n",
       " 'ALA',\n",
       " 'ARG',\n",
       " 'LYS',\n",
       " 'VAL',\n",
       " 'ARG',\n",
       " 'ALA',\n",
       " 'LEU',\n",
       " 'TYR',\n",
       " 'ASP',\n",
       " 'PHE',\n",
       " 'GLU',\n",
       " 'ALA',\n",
       " 'VAL',\n",
       " 'GLU',\n",
       " 'ASP',\n",
       " 'ASN',\n",
       " 'GLU',\n",
       " 'LEU',\n",
       " 'THR',\n",
       " 'PHE',\n",
       " 'LYS',\n",
       " 'HIS',\n",
       " 'GLY',\n",
       " 'GLU',\n",
       " 'ILE',\n",
       " 'ILE',\n",
       " 'ILE',\n",
       " 'VAL',\n",
       " 'LEU',\n",
       " 'ASP',\n",
       " 'ASP',\n",
       " 'SER',\n",
       " 'ASP',\n",
       " 'ALA',\n",
       " 'ASN',\n",
       " 'TRP',\n",
       " 'TRP',\n",
       " 'LYS',\n",
       " 'GLY',\n",
       " 'GLU',\n",
       " 'ASN',\n",
       " 'HIS',\n",
       " 'ARG',\n",
       " 'GLY',\n",
       " 'ILE',\n",
       " 'GLY',\n",
       " 'LEU',\n",
       " 'PHE',\n",
       " 'PRO',\n",
       " 'SER',\n",
       " 'ASP',\n",
       " 'PHE',\n",
       " 'VAL',\n",
       " 'THR',\n",
       " 'THR',\n",
       " 'ASN',\n",
       " 'LEU',\n",
       " 'ASN',\n",
       " 'ILE',\n",
       " 'GLU',\n",
       " 'ALA',\n",
       " 'LYS',\n",
       " 'PRO',\n",
       " 'PRO',\n",
       " 'VAL',\n",
       " 'VAL',\n",
       " 'ASP',\n",
       " 'ARG',\n",
       " 'SER',\n",
       " 'LEU',\n",
       " 'LYS',\n",
       " 'PRO',\n",
       " 'GLY',\n",
       " 'ALA',\n",
       " 'GLU',\n",
       " 'ILE',\n",
       " 'GLN',\n",
       " 'LEU',\n",
       " 'ASN',\n",
       " 'ASN',\n",
       " 'LYS',\n",
       " 'VAL',\n",
       " 'ALA',\n",
       " 'ARG',\n",
       " 'LYS',\n",
       " 'VAL',\n",
       " 'ARG',\n",
       " 'ALA',\n",
       " 'LEU',\n",
       " 'TYR',\n",
       " 'ASP',\n",
       " 'PHE',\n",
       " 'GLU',\n",
       " 'ALA',\n",
       " 'VAL',\n",
       " 'GLU',\n",
       " 'ASP',\n",
       " 'ASN',\n",
       " 'GLU',\n",
       " 'LEU',\n",
       " 'THR',\n",
       " 'PHE',\n",
       " 'LYS',\n",
       " 'HIS',\n",
       " 'GLY',\n",
       " 'GLU',\n",
       " 'ILE',\n",
       " 'ILE',\n",
       " 'ILE',\n",
       " 'VAL',\n",
       " 'LEU',\n",
       " 'ASP',\n",
       " 'ASP',\n",
       " 'SER',\n",
       " 'ASP',\n",
       " 'ALA',\n",
       " 'ASN',\n",
       " 'TRP',\n",
       " 'TRP',\n",
       " 'LYS',\n",
       " 'GLY',\n",
       " 'GLU',\n",
       " 'ASN',\n",
       " 'HIS',\n",
       " 'ARG',\n",
       " 'GLY',\n",
       " 'ILE',\n",
       " 'GLY',\n",
       " 'LEU',\n",
       " 'PHE',\n",
       " 'PRO',\n",
       " 'SER',\n",
       " 'ASP',\n",
       " 'PHE',\n",
       " 'VAL',\n",
       " 'THR',\n",
       " 'THR',\n",
       " 'ASN',\n",
       " 'LEU',\n",
       " 'ASN',\n",
       " 'ILE',\n",
       " 'GLU',\n",
       " 'ALA',\n",
       " 'LYS',\n",
       " 'PRO',\n",
       " 'PRO',\n",
       " 'VAL',\n",
       " 'VAL',\n",
       " 'ASP',\n",
       " 'ARG',\n",
       " 'SER',\n",
       " 'LEU',\n",
       " 'LYS',\n",
       " 'PRO',\n",
       " 'GLY',\n",
       " 'ALA',\n",
       " 'GLU',\n",
       " 'ILE',\n",
       " 'GLN',\n",
       " 'LEU',\n",
       " 'ASN',\n",
       " 'ASN',\n",
       " 'LYS',\n",
       " 'VAL',\n",
       " 'ALA',\n",
       " 'ARG',\n",
       " 'LYS',\n",
       " 'VAL',\n",
       " 'ARG',\n",
       " 'ALA',\n",
       " 'LEU',\n",
       " 'TYR',\n",
       " 'ASP',\n",
       " 'PHE',\n",
       " 'GLU',\n",
       " 'ALA',\n",
       " 'VAL',\n",
       " 'GLU',\n",
       " 'ASP',\n",
       " 'ASN',\n",
       " 'GLU',\n",
       " 'LEU',\n",
       " 'THR',\n",
       " 'PHE',\n",
       " 'LYS',\n",
       " 'HIS',\n",
       " 'GLY',\n",
       " 'GLU',\n",
       " 'ILE',\n",
       " 'ILE',\n",
       " 'ILE',\n",
       " 'VAL',\n",
       " 'LEU',\n",
       " 'ASP',\n",
       " 'ASP',\n",
       " 'SER',\n",
       " 'ASP',\n",
       " 'ALA',\n",
       " 'ASN',\n",
       " 'TRP',\n",
       " 'TRP',\n",
       " 'LYS',\n",
       " 'GLY',\n",
       " 'GLU',\n",
       " 'ASN',\n",
       " 'HIS',\n",
       " 'ARG',\n",
       " 'GLY',\n",
       " 'ILE',\n",
       " 'GLY',\n",
       " 'LEU',\n",
       " 'PHE',\n",
       " 'PRO',\n",
       " 'SER',\n",
       " 'ASP',\n",
       " 'PHE',\n",
       " 'VAL',\n",
       " 'THR',\n",
       " 'THR',\n",
       " 'ASN',\n",
       " 'LEU',\n",
       " 'ASN',\n",
       " 'ILE',\n",
       " 'GLU',\n",
       " 'ALA',\n",
       " 'LYS',\n",
       " 'PRO',\n",
       " 'PRO',\n",
       " 'VAL',\n",
       " 'VAL',\n",
       " 'ASP',\n",
       " 'ARG',\n",
       " 'SER',\n",
       " 'LEU',\n",
       " 'LYS',\n",
       " 'PRO',\n",
       " 'GLY',\n",
       " 'ALA',\n",
       " 'GLU',\n",
       " 'ILE',\n",
       " 'GLN',\n",
       " 'LEU',\n",
       " 'ASN',\n",
       " 'ASN',\n",
       " 'LYS',\n",
       " 'VAL',\n",
       " 'ALA',\n",
       " 'ARG',\n",
       " 'LYS',\n",
       " 'VAL',\n",
       " 'ARG',\n",
       " 'ALA',\n",
       " 'LEU',\n",
       " 'TYR',\n",
       " 'ASP',\n",
       " 'PHE',\n",
       " 'GLU',\n",
       " 'ALA',\n",
       " 'VAL',\n",
       " 'GLU',\n",
       " 'ASP',\n",
       " 'ASN',\n",
       " 'GLU',\n",
       " 'LEU',\n",
       " 'THR',\n",
       " 'PHE',\n",
       " 'LYS',\n",
       " 'HIS',\n",
       " 'GLY',\n",
       " 'GLU',\n",
       " 'ILE',\n",
       " 'ILE',\n",
       " 'ILE',\n",
       " 'VAL',\n",
       " 'LEU',\n",
       " 'ASP',\n",
       " 'ASP',\n",
       " 'SER',\n",
       " 'ASP',\n",
       " 'ALA',\n",
       " 'ASN',\n",
       " 'TRP',\n",
       " 'TRP',\n",
       " 'LYS',\n",
       " 'GLY',\n",
       " 'GLU',\n",
       " 'ASN',\n",
       " 'HIS',\n",
       " 'ARG',\n",
       " 'GLY',\n",
       " 'ILE',\n",
       " 'GLY',\n",
       " 'LEU',\n",
       " 'PHE',\n",
       " 'PRO',\n",
       " 'SER',\n",
       " 'ASP',\n",
       " 'PHE',\n",
       " 'VAL',\n",
       " 'THR',\n",
       " 'THR',\n",
       " 'ASN',\n",
       " 'LEU',\n",
       " 'ASN',\n",
       " 'ILE',\n",
       " 'GLU',\n",
       " 'ALA',\n",
       " 'LYS',\n",
       " 'PRO',\n",
       " 'PRO',\n",
       " 'VAL',\n",
       " 'VAL',\n",
       " 'ASP',\n",
       " 'ARG',\n",
       " 'SER',\n",
       " 'LEU',\n",
       " 'LYS',\n",
       " 'PRO',\n",
       " 'GLY',\n",
       " 'ALA',\n",
       " 'GLU',\n",
       " 'ILE',\n",
       " 'GLN',\n",
       " 'LEU',\n",
       " 'ASN',\n",
       " 'ASN',\n",
       " 'LYS',\n",
       " 'VAL',\n",
       " 'ALA',\n",
       " 'ARG',\n",
       " 'LYS',\n",
       " 'VAL',\n",
       " 'ARG',\n",
       " 'ALA',\n",
       " 'LEU',\n",
       " 'TYR',\n",
       " 'ASP',\n",
       " 'PHE',\n",
       " 'GLU',\n",
       " 'ALA',\n",
       " 'VAL',\n",
       " 'GLU',\n",
       " 'ASP',\n",
       " 'ASN',\n",
       " 'GLU',\n",
       " 'LEU',\n",
       " 'THR',\n",
       " 'PHE',\n",
       " 'LYS',\n",
       " 'HIS',\n",
       " 'GLY',\n",
       " 'GLU',\n",
       " 'ILE',\n",
       " 'ILE',\n",
       " 'ILE',\n",
       " 'VAL',\n",
       " 'LEU',\n",
       " 'ASP',\n",
       " 'ASP',\n",
       " 'SER',\n",
       " 'ASP',\n",
       " 'ALA',\n",
       " 'ASN',\n",
       " 'TRP',\n",
       " 'TRP',\n",
       " 'LYS',\n",
       " 'GLY',\n",
       " 'GLU',\n",
       " 'ASN',\n",
       " 'HIS',\n",
       " 'ARG',\n",
       " 'GLY',\n",
       " 'ILE',\n",
       " 'GLY',\n",
       " 'LEU',\n",
       " 'PHE',\n",
       " 'PRO',\n",
       " 'SER',\n",
       " 'ASP',\n",
       " 'PHE',\n",
       " 'VAL',\n",
       " 'THR',\n",
       " 'THR',\n",
       " 'ASN',\n",
       " 'LEU',\n",
       " 'ASN',\n",
       " 'ILE',\n",
       " 'GLU',\n",
       " 'ALA',\n",
       " 'LYS',\n",
       " 'PRO',\n",
       " 'PRO',\n",
       " 'VAL',\n",
       " 'VAL',\n",
       " 'ASP',\n",
       " 'ARG',\n",
       " 'SER',\n",
       " 'LEU',\n",
       " 'LYS',\n",
       " 'PRO',\n",
       " 'GLY',\n",
       " 'ALA',\n",
       " 'GLU',\n",
       " 'ILE',\n",
       " 'GLN',\n",
       " 'LEU',\n",
       " 'ASN',\n",
       " 'ASN',\n",
       " 'LYS',\n",
       " 'VAL',\n",
       " 'ALA',\n",
       " 'ARG',\n",
       " 'LYS',\n",
       " 'VAL',\n",
       " 'ARG',\n",
       " 'ALA',\n",
       " 'LEU',\n",
       " 'TYR',\n",
       " 'ASP',\n",
       " 'PHE',\n",
       " 'GLU',\n",
       " 'ALA',\n",
       " 'VAL',\n",
       " 'GLU',\n",
       " 'ASP',\n",
       " 'ASN',\n",
       " 'GLU',\n",
       " 'LEU',\n",
       " 'THR',\n",
       " 'PHE',\n",
       " 'LYS',\n",
       " 'HIS',\n",
       " 'GLY',\n",
       " 'GLU',\n",
       " 'ILE',\n",
       " 'ILE',\n",
       " 'ILE',\n",
       " 'VAL',\n",
       " 'LEU',\n",
       " 'ASP',\n",
       " 'ASP',\n",
       " 'SER',\n",
       " 'ASP',\n",
       " 'ALA',\n",
       " 'ASN',\n",
       " 'TRP',\n",
       " 'TRP',\n",
       " 'LYS',\n",
       " 'GLY',\n",
       " 'GLU',\n",
       " 'ASN',\n",
       " 'HIS',\n",
       " 'ARG',\n",
       " 'GLY',\n",
       " 'ILE',\n",
       " 'GLY',\n",
       " 'LEU',\n",
       " 'PHE',\n",
       " 'PRO',\n",
       " 'SER',\n",
       " 'ASP',\n",
       " 'PHE',\n",
       " 'VAL',\n",
       " 'THR',\n",
       " 'THR',\n",
       " 'ASN',\n",
       " 'LEU',\n",
       " 'ASN',\n",
       " 'ILE',\n",
       " 'GLU',\n",
       " 'ALA',\n",
       " 'LYS',\n",
       " 'PRO',\n",
       " 'PRO',\n",
       " 'VAL',\n",
       " 'VAL',\n",
       " 'ASP',\n",
       " 'ARG',\n",
       " 'SER',\n",
       " 'LEU',\n",
       " 'LYS',\n",
       " 'PRO',\n",
       " 'GLY',\n",
       " 'ALA']"
      ]
     },
     "execution_count": 20,
     "metadata": {},
     "output_type": "execute_result"
    }
   ],
   "source": [
    "[res.get_resname() for res in res_list]"
   ]
  },
  {
   "cell_type": "code",
   "execution_count": null,
   "metadata": {
    "extensions": {
     "jupyter_dashboards": {
      "version": 1,
      "views": {
       "grid_default": {
        "hidden": true
       },
       "report_default": {}
      }
     }
    }
   },
   "outputs": [],
   "source": []
  }
 ],
 "metadata": {
  "extensions": {
   "jupyter_dashboards": {
    "activeView": "grid_default",
    "version": 1,
    "views": {
     "grid_default": {
      "cellMargin": 10,
      "defaultCellHeight": 20,
      "maxColumns": 12,
      "name": "grid",
      "type": "grid"
     },
     "report_default": {
      "name": "report",
      "type": "report"
     }
    }
   }
  },
  "kernelspec": {
   "display_name": "plot",
   "language": "python",
   "name": "plot"
  },
  "language_info": {
   "codemirror_mode": {
    "name": "ipython",
    "version": 3
   },
   "file_extension": ".py",
   "mimetype": "text/x-python",
   "name": "python",
   "nbconvert_exporter": "python",
   "pygments_lexer": "ipython3",
   "version": "3.5.2"
  }
 },
 "nbformat": 4,
 "nbformat_minor": 2
}
