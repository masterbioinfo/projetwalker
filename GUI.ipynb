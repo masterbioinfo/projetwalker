{
 "cells": [
  {
   "cell_type": "code",
   "execution_count": 5,
   "metadata": {},
   "outputs": [],
   "source": [
    "import pickle\n",
    "with open('Unnamed Titration.pkl', 'rb') as fh:\n",
    "    titration = pickle.load(fh)\n"
   ]
  },
  {
   "cell_type": "code",
   "execution_count": 1,
   "metadata": {},
   "outputs": [
    {
     "data": {
      "application/vnd.jupyter.widget-view+json": {
       "model_id": "33c800555b814d4a813ea73ffae0631d",
       "version_major": 2,
       "version_minor": 0
      },
      "text/html": [
       "<p>Failed to display Jupyter Widget of type <code>DirectoryUploadWidget</code>.</p>\n",
       "<p>\n",
       "  If you're reading this message in the Jupyter Notebook or JupyterLab Notebook, it may mean\n",
       "  that the widgets JavaScript is still loading. If this message persists, it\n",
       "  likely means that the widgets JavaScript library is either not installed or\n",
       "  not enabled. See the <a href=\"https://ipywidgets.readthedocs.io/en/stable/user_install.html\">Jupyter\n",
       "  Widgets Documentation</a> for setup instructions.\n",
       "</p>\n",
       "<p>\n",
       "  If you're reading this message in another frontend (for example, a static\n",
       "  rendering on GitHub or <a href=\"https://nbviewer.jupyter.org/\">NBViewer</a>),\n",
       "  it may mean that your frontend doesn't currently support widgets.\n",
       "</p>\n"
      ],
      "text/plain": [
       "DirectoryUploadWidget(label='Browse', _dom_classes=('widget_item', 'btn-group'))"
      ]
     },
     "metadata": {},
     "output_type": "display_data"
    }
   ],
   "source": [
    "import io\n",
    "from ipyfileupload.widgets import DirectoryUploadWidget\n",
    "def _upload():\n",
    "\n",
    "    _upload_widget = DirectoryUploadWidget()\n",
    "\n",
    "    def _cb(change):\n",
    "        for name, file in change['owner'].files.items():\n",
    "            decoded = io.StringIO(file.decode('utf-8'))\n",
    "            print('Uploaded `{}` ({:.2f} kB)'.format(\n",
    "                name, len(decoded.read()) / 2 **10))\n",
    "\n",
    "    _upload_widget.observe(_cb, names='base64_files')\n",
    "    display(_upload_widget)\n",
    "    return _upload_widget\n",
    "\n",
    "widget = _upload()"
   ]
  },
  {
   "cell_type": "code",
   "execution_count": 2,
   "metadata": {},
   "outputs": [
    {
     "data": {
      "application/vnd.jupyter.widget-view+json": {
       "model_id": "ad2bc4041add4a4dac573f0eed816b40",
       "version_major": 2,
       "version_minor": 0
      },
      "text/html": [
       "<p>Failed to display Jupyter Widget of type <code>DirectoryUploadWidget</code>.</p>\n",
       "<p>\n",
       "  If you're reading this message in the Jupyter Notebook or JupyterLab Notebook, it may mean\n",
       "  that the widgets JavaScript is still loading. If this message persists, it\n",
       "  likely means that the widgets JavaScript library is either not installed or\n",
       "  not enabled. See the <a href=\"https://ipywidgets.readthedocs.io/en/stable/user_install.html\">Jupyter\n",
       "  Widgets Documentation</a> for setup instructions.\n",
       "</p>\n",
       "<p>\n",
       "  If you're reading this message in another frontend (for example, a static\n",
       "  rendering on GitHub or <a href=\"https://nbviewer.jupyter.org/\">NBViewer</a>),\n",
       "  it may mean that your frontend doesn't currently support widgets.\n",
       "</p>\n"
      ],
      "text/plain": [
       "DirectoryUploadWidget(label='Browse', _dom_classes=('widget_item', 'btn-group'))"
      ]
     },
     "metadata": {},
     "output_type": "display_data"
    }
   ],
   "source": [
    "from classes.ipywidgets import *\n",
    "from classes.Titration import Titration, TitrationCLI\n",
    "from ipyfileupload.widgets import DirectoryUploadWidget\n",
    "\n",
    "TitrationWidget.titration = Titration()\n",
    "DirectoryUploadWidget()"
   ]
  },
  {
   "cell_type": "code",
   "execution_count": 3,
   "metadata": {
    "scrolled": false
   },
   "outputs": [
    {
     "data": {
      "application/vnd.jupyter.widget-view+json": {
       "model_id": "a8e32d0da6744250b9a524ce7bdbaa27",
       "version_major": 2,
       "version_minor": 0
      },
      "text/html": [
       "<p>Failed to display Jupyter Widget of type <code>TitrationDirUploader</code>.</p>\n",
       "<p>\n",
       "  If you're reading this message in the Jupyter Notebook or JupyterLab Notebook, it may mean\n",
       "  that the widgets JavaScript is still loading. If this message persists, it\n",
       "  likely means that the widgets JavaScript library is either not installed or\n",
       "  not enabled. See the <a href=\"https://ipywidgets.readthedocs.io/en/stable/user_install.html\">Jupyter\n",
       "  Widgets Documentation</a> for setup instructions.\n",
       "</p>\n",
       "<p>\n",
       "  If you're reading this message in another frontend (for example, a static\n",
       "  rendering on GitHub or <a href=\"https://nbviewer.jupyter.org/\">NBViewer</a>),\n",
       "  it may mean that your frontend doesn't currently support widgets.\n",
       "</p>\n"
      ],
      "text/plain": [
       "TitrationDirUploader(label='Upload titration directory...', style=ButtonStyle(), _dom_classes=('widget_item', 'btn-group'))"
      ]
     },
     "metadata": {},
     "output_type": "display_data"
    },
    {
     "data": {
      "application/vnd.jupyter.widget-view+json": {
       "model_id": "798e544ba2874c5ea661e94d69cb0010",
       "version_major": 2,
       "version_minor": 0
      },
      "text/html": [
       "<p>Failed to display Jupyter Widget of type <code>TitrationFilesView</code>.</p>\n",
       "<p>\n",
       "  If you're reading this message in the Jupyter Notebook or JupyterLab Notebook, it may mean\n",
       "  that the widgets JavaScript is still loading. If this message persists, it\n",
       "  likely means that the widgets JavaScript library is either not installed or\n",
       "  not enabled. See the <a href=\"https://ipywidgets.readthedocs.io/en/stable/user_install.html\">Jupyter\n",
       "  Widgets Documentation</a> for setup instructions.\n",
       "</p>\n",
       "<p>\n",
       "  If you're reading this message in another frontend (for example, a static\n",
       "  rendering on GitHub or <a href=\"https://nbviewer.jupyter.org/\">NBViewer</a>),\n",
       "  it may mean that your frontend doesn't currently support widgets.\n",
       "</p>\n"
      ],
      "text/plain": [
       "TitrationFilesView(children=(VBox(children=(Label(value='Data files', _dom_classes=('panel-header-title',)),), _dom_classes=('panel-heading',)), VBox(_dom_classes=('panel-body',))), layout=Layout(width='200px'), _dom_classes=('panel', 'panel-default'))"
      ]
     },
     "metadata": {},
     "output_type": "display_data"
    },
    {
     "name": "stdout",
     "output_type": "stream",
     "text": [
      "{}\n"
     ]
    }
   ],
   "source": [
    "\n",
    "\n",
    "view = TitrationFilesView()\n",
    "upload = TitrationDirUploader()\n",
    "upload.add_observer(view)\n",
    "display(\n",
    "    upload,\n",
    "    view\n",
    ")\n",
    "print(upload.files)"
   ]
  },
  {
   "cell_type": "code",
   "execution_count": 6,
   "metadata": {
    "scrolled": false
   },
   "outputs": [
    {
     "data": {
      "application/vnd.jupyter.widget-view+json": {
       "model_id": "94638154c43143c0a79a86efc8946e51",
       "version_major": 2,
       "version_minor": 0
      },
      "text/html": [
       "<p>Failed to display Jupyter Widget of type <code>StartParamContainer</code>.</p>\n",
       "<p>\n",
       "  If you're reading this message in the Jupyter Notebook or JupyterLab Notebook, it may mean\n",
       "  that the widgets JavaScript is still loading. If this message persists, it\n",
       "  likely means that the widgets JavaScript library is either not installed or\n",
       "  not enabled. See the <a href=\"https://ipywidgets.readthedocs.io/en/stable/user_install.html\">Jupyter\n",
       "  Widgets Documentation</a> for setup instructions.\n",
       "</p>\n",
       "<p>\n",
       "  If you're reading this message in another frontend (for example, a static\n",
       "  rendering on GitHub or <a href=\"https://nbviewer.jupyter.org/\">NBViewer</a>),\n",
       "  it may mean that your frontend doesn't currently support widgets.\n",
       "</p>\n"
      ],
      "text/plain": [
       "StartParamContainer(children=(VBox(children=(NameWidget(value='UIM-SH3 Domain', description='Experiment name:', layout=Layout(width='335px'), style=DescriptionStyle(description_width='130px'), _dom_classes=('panel-header-title',)),), _dom_classes=('panel-heading',)), VBox(children=(MoleculesContainer(children=(SingleMolContainer(children=(Label(value='Analyte', layout=Layout(left='150px')), MoleculeNameWidget(value='UIM-SH3', description='Name:', layout=Layout(width='230px'), style=DescriptionStyle(description_width='130px')), ConcentrationWidget(value=375.0, description='Concentration (µM):', layout=Layout(width='230px'), max=100000.0, style=DescriptionStyle(description_width='130px')))), SingleMolContainer(children=(Label(value='Titrant'), MoleculeNameWidget(value='pep', layout=Layout(width='100px')), ConcentrationWidget(value=20.0, layout=Layout(width='100px'), max=100000.0))))), FloatControlWidget(value=45.0, description='Analyte volume (µL):', layout=Layout(width='230px'), max=100000.0, style=DescriptionStyle(description_width='130px')), FloatControlWidget(value=200.0, description='Total volume (µL):', layout=Layout(width='230px'), max=100000.0, style=DescriptionStyle(description_width='130px'))), _dom_classes=('panel-body',))), layout=Layout(width='400px'), _dom_classes=('panel', 'panel-default'))"
      ]
     },
     "metadata": {},
     "output_type": "display_data"
    },
    {
     "data": {
      "application/vnd.jupyter.widget-view+json": {
       "model_id": "a327b83ef19549c2adfd0f0b38bdcde4",
       "version_major": 2,
       "version_minor": 0
      },
      "text/html": [
       "<p>Failed to display Jupyter Widget of type <code>ProtocoleContainer</code>.</p>\n",
       "<p>\n",
       "  If you're reading this message in the Jupyter Notebook or JupyterLab Notebook, it may mean\n",
       "  that the widgets JavaScript is still loading. If this message persists, it\n",
       "  likely means that the widgets JavaScript library is either not installed or\n",
       "  not enabled. See the <a href=\"https://ipywidgets.readthedocs.io/en/stable/user_install.html\">Jupyter\n",
       "  Widgets Documentation</a> for setup instructions.\n",
       "</p>\n",
       "<p>\n",
       "  If you're reading this message in another frontend (for example, a static\n",
       "  rendering on GitHub or <a href=\"https://nbviewer.jupyter.org/\">NBViewer</a>),\n",
       "  it may mean that your frontend doesn't currently support widgets.\n",
       "</p>\n"
      ],
      "text/plain": [
       "ProtocoleContainer(children=(VolumePanel(children=(VBox(children=(Label(value='Added titrant volumes', _dom_classes=('panel-header-title',)), HBox(children=(Button(button_style='primary', description='Add', icon='plus-circle', layout=Layout(width='50%'), style=ButtonStyle()), Button(button_style='warning', description='Remove', icon='minus-circle', layout=Layout(width='50%'), style=ButtonStyle())), layout=Layout(padding='5px 5px 5px 5px'))), _dom_classes=('panel-heading',)), VBox(children=(VBox(children=(VolumeWidget(value=0.0, description='Step 0', disabled=True, layout=Layout(height='28px', width='100%'), max=100000.0, style=DescriptionStyle(description_width='50%')), VolumeWidget(value=2.0, description='Step 1', layout=Layout(height='28px', width='100%'), max=100000.0, style=DescriptionStyle(description_width='50%')), VolumeWidget(value=2.0, description='Step 2', layout=Layout(height='28px', width='100%'), max=100000.0, style=DescriptionStyle(description_width='50%')), VolumeWidget(value=4.0, description='Step 3', layout=Layout(height='28px', width='100%'), max=100000.0, style=DescriptionStyle(description_width='50%')), VolumeWidget(value=4.0, description='Step 4', layout=Layout(height='28px', width='100%'), max=100000.0, style=DescriptionStyle(description_width='50%')), VolumeWidget(value=4.0, description='Step 5', layout=Layout(height='28px', width='100%'), max=100000.0, style=DescriptionStyle(description_width='50%')), VolumeWidget(value=5.0, description='Step 6', layout=Layout(height='28px', width='100%'), max=100000.0, style=DescriptionStyle(description_width='50%')), VolumeWidget(value=8.0, description='Step 7', layout=Layout(height='28px', width='100%'), max=100000.0, style=DescriptionStyle(description_width='50%')), VolumeWidget(value=10.0, description='Step 8', layout=Layout(height='28px', width='100%'), max=100000.0, style=DescriptionStyle(description_width='50%')), VolumeWidget(value=10.0, description='Step 9', layout=Layout(height='28px', width='100%'), max=100000.0, style=DescriptionStyle(description_width='50%')), VolumeWidget(value=10.0, description='Step 10', layout=Layout(height='28px', width='100%'), max=100000.0, style=DescriptionStyle(description_width='50%'))), layout=Layout(display='flex', flex_flow='column', padding='5px 5px 5px 5px')),), _dom_classes=('panel-body',)), VBox(children=(Button(button_style='success', description='Validate', icon='check', layout=Layout(width='100%'), style=ButtonStyle()),), _dom_classes=('panel-footer',))), layout=Layout(height='auto', width='250px'), _dom_classes=('panel', 'panel-default', 'volumes-container')), ProtocolePanel(children=(VBox(children=(Label(value='Protocole', _dom_classes=('panel-header-title',)),), _dom_classes=('panel-heading',)), VBox(children=(HTML(value='<table border=\"1\" class=\"dataframe\">\\n  <thead>\\n    <tr style=\"text-align: right;\">\\n      <th>Step</th>\\n      <th>Added pep (µL)</th>\\n      <th>Total pep (µL)</th>\\n      <th>Total volume (µL)</th>\\n      <th>[pep] (µM)</th>\\n      <th>[UIM-SH3] (µM)</th>\\n      <th>[pep]/[UIM-SH3]</th>\\n    </tr>\\n  </thead>\\n  <tbody>\\n    <tr>\\n      <td>0</td>\\n      <td>0.0</td>\\n      <td>0.0</td>\\n      <td>200.0</td>\\n      <td>0.000</td>\\n      <td>84.375</td>\\n      <td>0.000</td>\\n    </tr>\\n    <tr>\\n      <td>1</td>\\n      <td>2.0</td>\\n      <td>2.0</td>\\n      <td>202.0</td>\\n      <td>0.198</td>\\n      <td>83.540</td>\\n      <td>0.002</td>\\n    </tr>\\n    <tr>\\n      <td>2</td>\\n      <td>2.0</td>\\n      <td>4.0</td>\\n      <td>204.0</td>\\n      <td>0.392</td>\\n      <td>82.721</td>\\n      <td>0.005</td>\\n    </tr>\\n    <tr>\\n      <td>3</td>\\n      <td>4.0</td>\\n      <td>8.0</td>\\n      <td>208.0</td>\\n      <td>0.769</td>\\n      <td>81.130</td>\\n      <td>0.009</td>\\n    </tr>\\n    <tr>\\n      <td>4</td>\\n      <td>4.0</td>\\n      <td>12.0</td>\\n      <td>212.0</td>\\n      <td>1.132</td>\\n      <td>79.599</td>\\n      <td>0.014</td>\\n    </tr>\\n    <tr>\\n      <td>5</td>\\n      <td>4.0</td>\\n      <td>16.0</td>\\n      <td>216.0</td>\\n      <td>1.481</td>\\n      <td>78.125</td>\\n      <td>0.019</td>\\n    </tr>\\n    <tr>\\n      <td>6</td>\\n      <td>5.0</td>\\n      <td>21.0</td>\\n      <td>221.0</td>\\n      <td>1.900</td>\\n      <td>76.357</td>\\n      <td>0.025</td>\\n    </tr>\\n    <tr>\\n      <td>7</td>\\n      <td>8.0</td>\\n      <td>29.0</td>\\n      <td>229.0</td>\\n      <td>2.533</td>\\n      <td>73.690</td>\\n      <td>0.034</td>\\n    </tr>\\n    <tr>\\n      <td>8</td>\\n      <td>10.0</td>\\n      <td>39.0</td>\\n      <td>239.0</td>\\n      <td>3.264</td>\\n      <td>70.607</td>\\n      <td>0.046</td>\\n    </tr>\\n    <tr>\\n      <td>9</td>\\n      <td>10.0</td>\\n      <td>49.0</td>\\n      <td>249.0</td>\\n      <td>3.936</td>\\n      <td>67.771</td>\\n      <td>0.058</td>\\n    </tr>\\n    <tr>\\n      <td>10</td>\\n      <td>10.0</td>\\n      <td>59.0</td>\\n      <td>259.0</td>\\n      <td>4.556</td>\\n      <td>65.154</td>\\n      <td>0.070</td>\\n    </tr>\\n  </tbody>\\n</table>', _dom_classes=('rendered_html', 'protocole-table')),), _dom_classes=('panel-body',))), _dom_classes=('panel', 'panel-default'))), layout=Layout(justify_content='space-around'))"
      ]
     },
     "metadata": {},
     "output_type": "display_data"
    }
   ],
   "source": [
    "startParams = StartParamContainer()\n",
    "protocole = ProtocoleContainer()\n",
    "\n",
    "upload.add_observer(startParams)\n",
    "upload.add_observer(protocole)\n",
    "\n",
    "startParams.add_observer(protocole.protocole)\n",
    "\n",
    "display(startParams, protocole)"
   ]
  },
  {
   "cell_type": "code",
   "execution_count": null,
   "metadata": {},
   "outputs": [],
   "source": []
  },
  {
   "cell_type": "code",
   "execution_count": null,
   "metadata": {},
   "outputs": [],
   "source": []
  },
  {
   "cell_type": "code",
   "execution_count": null,
   "metadata": {},
   "outputs": [],
   "source": []
  },
  {
   "cell_type": "code",
   "execution_count": null,
   "metadata": {},
   "outputs": [],
   "source": []
  }
 ],
 "metadata": {
  "kernelspec": {
   "display_name": "ipywidgets",
   "language": "python",
   "name": "ipywidgets"
  },
  "language_info": {
   "codemirror_mode": {
    "name": "ipython",
    "version": 3
   },
   "file_extension": ".py",
   "mimetype": "text/x-python",
   "name": "python",
   "nbconvert_exporter": "python",
   "pygments_lexer": "ipython3",
   "version": "3.5.2"
  }
 },
 "nbformat": 4,
 "nbformat_minor": 2
}
