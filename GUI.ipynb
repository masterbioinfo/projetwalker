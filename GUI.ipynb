{
 "cells": [
  {
   "cell_type": "code",
   "execution_count": 1,
   "metadata": {},
   "outputs": [],
   "source": [
    "from classes.ipywidgets import *\n",
    "from classes.Titration import Titration, TitrationCLI\n",
    "from ipyfileupload.widgets import DirectoryUploadWidget\n",
    "\n",
    "TitrationWidget.titration = Titration()"
   ]
  },
  {
   "cell_type": "code",
   "execution_count": 2,
   "metadata": {
    "scrolled": false
   },
   "outputs": [
    {
     "data": {
      "application/vnd.jupyter.widget-view+json": {
       "model_id": "7e7059d069e24b12a21bb0e4dc30cba2",
       "version_major": 2,
       "version_minor": 0
      },
      "text/html": [
       "<p>Failed to display Jupyter Widget of type <code>HBox</code>.</p>\n",
       "<p>\n",
       "  If you're reading this message in the Jupyter Notebook or JupyterLab Notebook, it may mean\n",
       "  that the widgets JavaScript is still loading. If this message persists, it\n",
       "  likely means that the widgets JavaScript library is either not installed or\n",
       "  not enabled. See the <a href=\"https://ipywidgets.readthedocs.io/en/stable/user_install.html\">Jupyter\n",
       "  Widgets Documentation</a> for setup instructions.\n",
       "</p>\n",
       "<p>\n",
       "  If you're reading this message in another frontend (for example, a static\n",
       "  rendering on GitHub or <a href=\"https://nbviewer.jupyter.org/\">NBViewer</a>),\n",
       "  it may mean that your frontend doesn't currently support widgets.\n",
       "</p>\n"
      ],
      "text/plain": [
       "HBox(children=(TitrationFilesView(children=(VBox(children=(Label(value='Data files', _dom_classes=('panel-header-title',)),), _dom_classes=('panel-heading',)), VBox(children=(Label(value='No files yet.'),), layout=Layout(display='inline-block', height='200px', max_height='200px', overflow_x='scroll', overflow_y='scroll'), _dom_classes=('panel-body',)), VBox(children=(TitrationDirUploader(label='Upload titration directory', _dom_classes=('widget_item', 'btn-group', 'upload-directory-btn', 'file-uploader')),), _dom_classes=('panel-footer',))), layout=Layout(width='30%'), _dom_classes=('panel', 'panel-default', 'panel-shift2me', 'data-files-view')), StartParamContainer(children=(VBox(children=(NameWidget(value='Unnamed Titration', description='Experiment name:', style=DescriptionStyle(description_width='130px'), _dom_classes=('panel-header-title',)),), _dom_classes=('panel-heading',)), VBox(children=(MoleculesContainer(children=(SingleMolContainer(children=(Label(value='Analyte', layout=Layout(left='150px')), MoleculeNameWidget(value='analyte', description='Name:', layout=Layout(width='230px'), style=DescriptionStyle(description_width='130px')), ConcentrationWidget(value=0.0, description='Concentration (µM):', layout=Layout(width='230px'), max=100000.0, style=DescriptionStyle(description_width='130px')))), SingleMolContainer(children=(Label(value='Titrant'), MoleculeNameWidget(value='titrant', layout=Layout(width='100px')), ConcentrationWidget(value=0.0, layout=Layout(width='100px'), max=100000.0))))), FloatControlWidget(value=0.0, description='Analyte volume (µL):', layout=Layout(width='230px'), max=100000.0, style=DescriptionStyle(description_width='130px')), FloatControlWidget(value=0.0, description='Total volume (µL):', layout=Layout(width='230px'), max=100000.0, style=DescriptionStyle(description_width='130px'))), _dom_classes=('panel-body',))), layout=Layout(min_width='350px', width='68%'), _dom_classes=('panel', 'panel-default', 'panel-shift2me'))), layout=Layout(justify_content='space-around'))"
      ]
     },
     "metadata": {},
     "output_type": "display_data"
    },
    {
     "data": {
      "application/vnd.jupyter.widget-view+json": {
       "model_id": "e84fec59b84a4f6e8b5c60decfaefefd",
       "version_major": 2,
       "version_minor": 0
      },
      "text/html": [
       "<p>Failed to display Jupyter Widget of type <code>ProtocoleContainer</code>.</p>\n",
       "<p>\n",
       "  If you're reading this message in the Jupyter Notebook or JupyterLab Notebook, it may mean\n",
       "  that the widgets JavaScript is still loading. If this message persists, it\n",
       "  likely means that the widgets JavaScript library is either not installed or\n",
       "  not enabled. See the <a href=\"https://ipywidgets.readthedocs.io/en/stable/user_install.html\">Jupyter\n",
       "  Widgets Documentation</a> for setup instructions.\n",
       "</p>\n",
       "<p>\n",
       "  If you're reading this message in another frontend (for example, a static\n",
       "  rendering on GitHub or <a href=\"https://nbviewer.jupyter.org/\">NBViewer</a>),\n",
       "  it may mean that your frontend doesn't currently support widgets.\n",
       "</p>\n"
      ],
      "text/plain": [
       "ProtocoleContainer(children=(VolumePanel(children=(VBox(children=(Label(value='Added titrant volumes', _dom_classes=('panel-header-title',)), HBox(children=(Button(button_style='primary', description='Add', icon='plus-circle', layout=Layout(width='50%'), style=ButtonStyle()), Button(button_style='warning', description='Remove', disabled=True, icon='minus-circle', layout=Layout(width='50%'), style=ButtonStyle())), layout=Layout(padding='5px 5px 5px 5px'))), _dom_classes=('panel-heading',)), VBox(children=(VBox(children=(VolumeWidget(value=0.0, description='Step 0', disabled=True, layout=Layout(height='28px', width='100%'), max=100000.0, style=DescriptionStyle(description_width='50%'), _dom_classes=('volume-input-widget',)),), layout=Layout(display='flex', flex_flow='column', padding='5px 5px 5px 5px')),), _dom_classes=('panel-body',)), VBox(children=(Button(button_style='success', description='Validate', icon='check', layout=Layout(width='100%'), style=ButtonStyle()),), _dom_classes=('panel-footer',))), layout=Layout(height='auto', width='30%'), _dom_classes=('panel', 'panel-default', 'panel-shift2me', 'volumes-container')), ProtocolePanel(children=(VBox(children=(Label(value='Protocole', _dom_classes=('panel-header-title',)),), _dom_classes=('panel-heading',)), VBox(children=(HTML(value='<table border=\"1\" class=\"dataframe\">\\n  <thead>\\n    <tr style=\"text-align: right;\">\\n      <th>Step</th>\\n      <th>Added titrant (µL)</th>\\n      <th>Total titrant (µL)</th>\\n      <th>Total volume (µL)</th>\\n      <th>[titrant] (µM)</th>\\n      <th>[analyte] (µM)</th>\\n      <th>[titrant]/[analyte]</th>\\n    </tr>\\n  </thead>\\n  <tbody>\\n    <tr>\\n      <td>0</td>\\n      <td>0</td>\\n      <td>0</td>\\n      <td>0</td>\\n      <td>NaN</td>\\n      <td>NaN</td>\\n      <td>NaN</td>\\n    </tr>\\n  </tbody>\\n</table>', _dom_classes=('rendered_html', 'protocole-table')),), _dom_classes=('panel-body',))), layout=Layout(height='auto', width='68%'), _dom_classes=('panel', 'panel-default', 'panel-shift2me'))), layout=Layout(justify_content='space-around'))"
      ]
     },
     "metadata": {},
     "output_type": "display_data"
    },
    {
     "data": {
      "application/vnd.jupyter.widget-view+json": {
       "model_id": "b677f3a922c74c6d9b720da7d8d720ba",
       "version_major": 2,
       "version_minor": 0
      },
      "text/html": [
       "<p>Failed to display Jupyter Widget of type <code>ChemshiftPanel</code>.</p>\n",
       "<p>\n",
       "  If you're reading this message in the Jupyter Notebook or JupyterLab Notebook, it may mean\n",
       "  that the widgets JavaScript is still loading. If this message persists, it\n",
       "  likely means that the widgets JavaScript library is either not installed or\n",
       "  not enabled. See the <a href=\"https://ipywidgets.readthedocs.io/en/stable/user_install.html\">Jupyter\n",
       "  Widgets Documentation</a> for setup instructions.\n",
       "</p>\n",
       "<p>\n",
       "  If you're reading this message in another frontend (for example, a static\n",
       "  rendering on GitHub or <a href=\"https://nbviewer.jupyter.org/\">NBViewer</a>),\n",
       "  it may mean that your frontend doesn't currently support widgets.\n",
       "</p>\n"
      ],
      "text/plain": [
       "ChemshiftPanel(children=(VBox(children=(Label(value='Data visualization', _dom_classes=('panel-header-title',)),), _dom_classes=('panel-heading',)), VBox(children=(VBox(children=(HTML(value='<h2>Titration files are not loaded.</h2><p>No data to display.</p>'), TitrationDirUploader(label='Upload titration directory', _dom_classes=('widget_item', 'btn-group', 'upload-directory-btn', 'file-uploader'))), _dom_classes=('well', 'plot-placeholder')),), _dom_classes=('panel-body',))), _dom_classes=('panel', 'panel-default', 'panel-shift2me', 'intensity-panel'))"
      ]
     },
     "metadata": {},
     "output_type": "display_data"
    },
    {
     "name": "stdout",
     "output_type": "stream",
     "text": [
      "kanar\n",
      "kanar\n",
      "kanar\n",
      "kanar\n",
      "kanar\n",
      "kanar\n",
      "kanar\n",
      "kanar\n",
      "kanar\n",
      "kanar\n",
      "kanar\n",
      "kanar\n",
      "kanar\n",
      "kanar\n",
      "kanar\n",
      "kanar\n"
     ]
    }
   ],
   "source": [
    "from classes.bqplotwidgets import ChemshiftPanel\n",
    "\n",
    "view = TitrationFilesView()\n",
    "\n",
    "\n",
    "chemshifts = ChemshiftPanel(view.uploader)\n",
    "startParams = StartParamContainer()\n",
    "protocole = ProtocoleContainer()\n",
    "\n",
    "view.uploader.add_observer(startParams.update)\n",
    "view.uploader.add_observer(protocole.update)\n",
    "startParams.add_observer(protocole.protocole.update)\n",
    "startParams.add_observer(chemshifts.update_curves)\n",
    "protocole.volumes.validate_button.on_click(chemshifts.update_curves)\n",
    "\n",
    "display(\n",
    "    HBox([view,startParams], layout=Layout(justify_content='space-around')), \n",
    "    protocole,\n",
    "    chemshifts\n",
    ")"
   ]
  },
  {
   "cell_type": "code",
   "execution_count": 6,
   "metadata": {},
   "outputs": [],
   "source": [
    "DOMWidget?"
   ]
  },
  {
   "cell_type": "code",
   "execution_count": 13,
   "metadata": {},
   "outputs": [
    {
     "data": {
      "application/vnd.jupyter.widget-view+json": {
       "model_id": "477d01d1ee9d49fa9018b97b033de715",
       "version_major": 2,
       "version_minor": 0
      },
      "text/html": [
       "<p>Failed to display Jupyter Widget of type <code>VBox</code>.</p>\n",
       "<p>\n",
       "  If you're reading this message in the Jupyter Notebook or JupyterLab Notebook, it may mean\n",
       "  that the widgets JavaScript is still loading. If this message persists, it\n",
       "  likely means that the widgets JavaScript library is either not installed or\n",
       "  not enabled. See the <a href=\"https://ipywidgets.readthedocs.io/en/stable/user_install.html\">Jupyter\n",
       "  Widgets Documentation</a> for setup instructions.\n",
       "</p>\n",
       "<p>\n",
       "  If you're reading this message in another frontend (for example, a static\n",
       "  rendering on GitHub or <a href=\"https://nbviewer.jupyter.org/\">NBViewer</a>),\n",
       "  it may mean that your frontend doesn't currently support widgets.\n",
       "</p>\n"
      ],
      "text/plain": [
       "VBox(children=(HTML(value='<div id=\"3dmolviewer_1513707986598455\"  style=\"position: relative; width: 640px; height: 480px\">\\n<script>\\nif(typeof $3Dmolpromise === \\'undefined\\') $3Dmolpromise = $.when($.getScript(\\'https://3dmol.csb.pitt.edu/build/3Dmol.js\\'))\\nvar viewer_1513707986598455 = null;\\n$3Dmolpromise.done(function() {\\nviewer_1513707986598455 = $3Dmol.createViewer($(\"#3dmolviewer_1513707986598455\"),{backgroundColor:\"white\"});\\n$3Dmol.download(\"pdb:1CRN\", viewer_1513707986598455, {}, function() {\\nviewer_1513707986598455.render();\\n})\\n});\\n</script>'),))"
      ]
     },
     "metadata": {},
     "output_type": "display_data"
    }
   ],
   "source": [
    "import py3Dmol\n",
    "from ipywidgets import *\n",
    "from IPython.display import display\n",
    "\n",
    "class Protein3D(py3Dmol.view):\n",
    "    def __init__(self, *args, **kwargs):\n",
    "        py3Dmol.view.__init__(self, *args, **kwargs)\n",
    "        \n",
    "    def insert_by_class(self, htmlclass):\n",
    "        '''Instead of inserting into notebook here, insert html\n",
    "        into existing container'''\n",
    "        html = self._repr_html_()\n",
    "        html += '''<script>$(\".%s\").append($(\"#3dmolviewer_%s\")); </script>'''%(htmlclass,self.uniqueid)\n",
    "        return IPython.display.HTML(html)\n",
    "\n",
    "v = py3Dmol.view(query='pdb:1CRN')\n",
    "VBox([HTML(v._repr_html_())])"
   ]
  },
  {
   "cell_type": "code",
   "execution_count": 7,
   "metadata": {},
   "outputs": [
    {
     "ename": "NameError",
     "evalue": "name 'selectResiduList' is not defined",
     "output_type": "error",
     "traceback": [
      "\u001b[0;31m---------------------------------------------------------------------------\u001b[0m",
      "\u001b[0;31mNameError\u001b[0m                                 Traceback (most recent call last)",
      "\u001b[0;32m<ipython-input-7-8dbb6c9ae904>\u001b[0m in \u001b[0;36m<module>\u001b[0;34m()\u001b[0m\n\u001b[1;32m     35\u001b[0m     \u001b[0mdisplay\u001b[0m\u001b[0;34m(\u001b[0m\u001b[0mview\u001b[0m\u001b[0;34m)\u001b[0m\u001b[0;34m\u001b[0m\u001b[0m\n\u001b[1;32m     36\u001b[0m \u001b[0;34m\u001b[0m\u001b[0m\n\u001b[0;32m---> 37\u001b[0;31m \u001b[0mview3D\u001b[0m\u001b[0;34m(\u001b[0m\u001b[0mselectResiduList\u001b[0m\u001b[0;34m,\u001b[0m\u001b[0mnotRetainedList\u001b[0m\u001b[0;34m)\u001b[0m\u001b[0;34m\u001b[0m\u001b[0m\n\u001b[0m",
      "\u001b[0;31mNameError\u001b[0m: name 'selectResiduList' is not defined"
     ]
    }
   ],
   "source": [
    "def view3D(selectResiduList,notRetainedList):\n",
    "    \"\"\"Show 3D representation protein.\"\"\"\n",
    "    ########################################3D structure    \n",
    "    #support for pdb, sdf, mol2, xyz, and cube formats\n",
    "    #parallelized molecular surface computation\n",
    "    #sphere, stick, line, cross, cartoon, and surface styles\n",
    "    #atom property based selection and styling labels\n",
    "    #clickable interactivity with molecular data\n",
    "    #geometric shapes including spheres and arrows\n",
    "\n",
    "    #Protein\n",
    "    print(\"Code PDB: {0}\".format(pdbCode.value))\n",
    "    protein = pdbCode.value\n",
    "    pdb = 'pdb:' + protein\n",
    "    view = py3Dmol.view(query=pdb)\n",
    "    #color protein by default 'white'\n",
    "    view.setStyle({proteinRepresentation.value:{'color':colorProtein.value}})\n",
    "\n",
    "    #Background\n",
    "    backgroundColor = \"0x{0}\".format('ffffff'.strip(\"#\"))\n",
    "\n",
    "    #Residus selected with histograms selection and residus not selectionned in the study..\n",
    "    residus = {'residuSelected': selectResiduList, 'notRetained': notRetainedList }\n",
    "    color = {'residuSelected': 'red','notReatined': 'green' }\n",
    "\n",
    "    #Draw residu retained in red.\n",
    "    res = {'resi': residus['residuSelected']}\n",
    "    view.setStyle(res,{residuRepresentation.value:{'color':colorResidu.value}})\n",
    "    #Draw residu retained in green.\n",
    "    res = {'resi': residus['notRetained']}\n",
    "    view.setStyle(res,{notSelectedResiduRepresentation.value:{'color':colorResiduNotRetained.value}})\n",
    "    #Select a background.\n",
    "    view.setBackgroundColor(backgroundColor)\n",
    "    #Display 3D structure.\n",
    "    display(view)\n",
    "\n",
    "view3D(selectResiduList,notRetainedList)"
   ]
  },
  {
   "cell_type": "code",
   "execution_count": null,
   "metadata": {},
   "outputs": [],
   "source": []
  }
 ],
 "metadata": {
  "kernelspec": {
   "display_name": "plot",
   "language": "python",
   "name": "plot"
  },
  "language_info": {
   "codemirror_mode": {
    "name": "ipython",
    "version": 3
   },
   "file_extension": ".py",
   "mimetype": "text/x-python",
   "name": "python",
   "nbconvert_exporter": "python",
   "pygments_lexer": "ipython3",
   "version": "3.5.2"
  }
 },
 "nbformat": 4,
 "nbformat_minor": 2
}
