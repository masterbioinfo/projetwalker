{
 "cells": [
  {
   "cell_type": "code",
   "execution_count": null,
   "metadata": {},
   "outputs": [],
   "source": []
  },
  {
   "cell_type": "code",
   "execution_count": 1,
   "metadata": {},
   "outputs": [
    {
     "data": {
      "application/vnd.jupyter.widget-view+json": {
       "model_id": "5ceffbde1e2d4bf3b92dafa7d79478bf",
       "version_major": 2,
       "version_minor": 0
      },
      "text/html": [
       "<p>Failed to display Jupyter Widget of type <code>DirectoryUploadWidget</code>.</p>\n",
       "<p>\n",
       "  If you're reading this message in the Jupyter Notebook or JupyterLab Notebook, it may mean\n",
       "  that the widgets JavaScript is still loading. If this message persists, it\n",
       "  likely means that the widgets JavaScript library is either not installed or\n",
       "  not enabled. See the <a href=\"https://ipywidgets.readthedocs.io/en/stable/user_install.html\">Jupyter\n",
       "  Widgets Documentation</a> for setup instructions.\n",
       "</p>\n",
       "<p>\n",
       "  If you're reading this message in another frontend (for example, a static\n",
       "  rendering on GitHub or <a href=\"https://nbviewer.jupyter.org/\">NBViewer</a>),\n",
       "  it may mean that your frontend doesn't currently support widgets.\n",
       "</p>\n"
      ],
      "text/plain": [
       "DirectoryUploadWidget(label='Browse', _dom_classes=('widget_item', 'btn-group'))"
      ]
     },
     "metadata": {},
     "output_type": "display_data"
    }
   ],
   "source": [
    "import io\n",
    "from ipyfileupload.widgets import DirectoryUploadWidget\n",
    "def _upload():\n",
    "\n",
    "    _upload_widget = DirectoryUploadWidget()\n",
    "\n",
    "    def _cb(change):\n",
    "        for name, file in change['owner'].files.items():\n",
    "            decoded = io.StringIO(file.decode('utf-8'))\n",
    "            print('Uploaded `{}` ({:.2f} kB)'.format(\n",
    "                name, len(decoded.read()) / 2 **10))\n",
    "\n",
    "    _upload_widget.observe(_cb, names='base64_files')\n",
    "    display(_upload_widget)\n",
    "    return _upload_widget\n",
    "\n",
    "widget = _upload()"
   ]
  },
  {
   "cell_type": "code",
   "execution_count": 2,
   "metadata": {},
   "outputs": [
    {
     "data": {
      "application/vnd.jupyter.widget-view+json": {
       "model_id": "2acfc6a838d0462abb9a2e3dde0f9e4c",
       "version_major": 2,
       "version_minor": 0
      },
      "text/html": [
       "<p>Failed to display Jupyter Widget of type <code>DirectoryUploadWidget</code>.</p>\n",
       "<p>\n",
       "  If you're reading this message in the Jupyter Notebook or JupyterLab Notebook, it may mean\n",
       "  that the widgets JavaScript is still loading. If this message persists, it\n",
       "  likely means that the widgets JavaScript library is either not installed or\n",
       "  not enabled. See the <a href=\"https://ipywidgets.readthedocs.io/en/stable/user_install.html\">Jupyter\n",
       "  Widgets Documentation</a> for setup instructions.\n",
       "</p>\n",
       "<p>\n",
       "  If you're reading this message in another frontend (for example, a static\n",
       "  rendering on GitHub or <a href=\"https://nbviewer.jupyter.org/\">NBViewer</a>),\n",
       "  it may mean that your frontend doesn't currently support widgets.\n",
       "</p>\n"
      ],
      "text/plain": [
       "DirectoryUploadWidget(label='Browse', _dom_classes=('widget_item', 'btn-group'))"
      ]
     },
     "metadata": {},
     "output_type": "display_data"
    }
   ],
   "source": [
    "from classes.ipywidgets import *\n",
    "from classes.Titration import Titration, TitrationCLI\n",
    "from ipyfileupload.widgets import DirectoryUploadWidget\n",
    "\n",
    "TitrationWidget.titration = Titration()\n",
    "DirectoryUploadWidget()"
   ]
  },
  {
   "cell_type": "code",
   "execution_count": 3,
   "metadata": {
    "scrolled": false
   },
   "outputs": [
    {
     "data": {
      "application/vnd.jupyter.widget-view+json": {
       "model_id": "d4d8f471f21c4a979e7f980060550b89",
       "version_major": 2,
       "version_minor": 0
      },
      "text/html": [
       "<p>Failed to display Jupyter Widget of type <code>TitrationDirUploader</code>.</p>\n",
       "<p>\n",
       "  If you're reading this message in the Jupyter Notebook or JupyterLab Notebook, it may mean\n",
       "  that the widgets JavaScript is still loading. If this message persists, it\n",
       "  likely means that the widgets JavaScript library is either not installed or\n",
       "  not enabled. See the <a href=\"https://ipywidgets.readthedocs.io/en/stable/user_install.html\">Jupyter\n",
       "  Widgets Documentation</a> for setup instructions.\n",
       "</p>\n",
       "<p>\n",
       "  If you're reading this message in another frontend (for example, a static\n",
       "  rendering on GitHub or <a href=\"https://nbviewer.jupyter.org/\">NBViewer</a>),\n",
       "  it may mean that your frontend doesn't currently support widgets.\n",
       "</p>\n"
      ],
      "text/plain": [
       "TitrationDirUploader(label='Upload titration directory...', style=ButtonStyle(), _dom_classes=('widget_item', 'btn-group'))"
      ]
     },
     "metadata": {},
     "output_type": "display_data"
    },
    {
     "data": {
      "application/vnd.jupyter.widget-view+json": {
       "model_id": "f035f96960714118b7892264ee9e3796",
       "version_major": 2,
       "version_minor": 0
      },
      "text/html": [
       "<p>Failed to display Jupyter Widget of type <code>TitrationFilesView</code>.</p>\n",
       "<p>\n",
       "  If you're reading this message in the Jupyter Notebook or JupyterLab Notebook, it may mean\n",
       "  that the widgets JavaScript is still loading. If this message persists, it\n",
       "  likely means that the widgets JavaScript library is either not installed or\n",
       "  not enabled. See the <a href=\"https://ipywidgets.readthedocs.io/en/stable/user_install.html\">Jupyter\n",
       "  Widgets Documentation</a> for setup instructions.\n",
       "</p>\n",
       "<p>\n",
       "  If you're reading this message in another frontend (for example, a static\n",
       "  rendering on GitHub or <a href=\"https://nbviewer.jupyter.org/\">NBViewer</a>),\n",
       "  it may mean that your frontend doesn't currently support widgets.\n",
       "</p>\n"
      ],
      "text/plain": [
       "TitrationFilesView(children=(VBox(children=(Label(value='Data files', _dom_classes=('panel-header-title',)),), _dom_classes=('panel-heading',)), VBox(_dom_classes=('panel-body',))), layout=Layout(width='250px'), _dom_classes=('panel', 'panel-default', 'data-files-view'))"
      ]
     },
     "metadata": {},
     "output_type": "display_data"
    }
   ],
   "source": [
    "\n",
    "\n",
    "view = TitrationFilesView()\n",
    "upload = TitrationDirUploader()\n",
    "upload.add_observer(view)\n",
    "display(\n",
    "    upload,\n",
    "    view\n",
    ")"
   ]
  },
  {
   "cell_type": "code",
   "execution_count": 4,
   "metadata": {
    "scrolled": false
   },
   "outputs": [
    {
     "data": {
      "application/vnd.jupyter.widget-view+json": {
       "model_id": "c096f6ba0498414186514bde59e371c5",
       "version_major": 2,
       "version_minor": 0
      },
      "text/html": [
       "<p>Failed to display Jupyter Widget of type <code>StartParamContainer</code>.</p>\n",
       "<p>\n",
       "  If you're reading this message in the Jupyter Notebook or JupyterLab Notebook, it may mean\n",
       "  that the widgets JavaScript is still loading. If this message persists, it\n",
       "  likely means that the widgets JavaScript library is either not installed or\n",
       "  not enabled. See the <a href=\"https://ipywidgets.readthedocs.io/en/stable/user_install.html\">Jupyter\n",
       "  Widgets Documentation</a> for setup instructions.\n",
       "</p>\n",
       "<p>\n",
       "  If you're reading this message in another frontend (for example, a static\n",
       "  rendering on GitHub or <a href=\"https://nbviewer.jupyter.org/\">NBViewer</a>),\n",
       "  it may mean that your frontend doesn't currently support widgets.\n",
       "</p>\n"
      ],
      "text/plain": [
       "StartParamContainer(children=(VBox(children=(NameWidget(value='Unnamed Titration', description='Experiment name:', layout=Layout(width='335px'), style=DescriptionStyle(description_width='130px'), _dom_classes=('panel-header-title',)),), _dom_classes=('panel-heading',)), VBox(children=(MoleculesContainer(children=(SingleMolContainer(children=(Label(value='Analyte', layout=Layout(left='150px')), MoleculeNameWidget(value='analyte', description='Name:', layout=Layout(width='230px'), style=DescriptionStyle(description_width='130px')), ConcentrationWidget(value=0.0, description='Concentration (µM):', layout=Layout(width='230px'), max=100000.0, style=DescriptionStyle(description_width='130px')))), SingleMolContainer(children=(Label(value='Titrant'), MoleculeNameWidget(value='titrant', layout=Layout(width='100px')), ConcentrationWidget(value=0.0, layout=Layout(width='100px'), max=100000.0))))), FloatControlWidget(value=0.0, description='Analyte volume (µL):', layout=Layout(width='230px'), max=100000.0, style=DescriptionStyle(description_width='130px')), FloatControlWidget(value=0.0, description='Total volume (µL):', layout=Layout(width='230px'), max=100000.0, style=DescriptionStyle(description_width='130px'))), _dom_classes=('panel-body',))), layout=Layout(width='400px'), _dom_classes=('panel', 'panel-default'))"
      ]
     },
     "metadata": {},
     "output_type": "display_data"
    },
    {
     "data": {
      "application/vnd.jupyter.widget-view+json": {
       "model_id": "871585029cc446b8bc520afb557da45b",
       "version_major": 2,
       "version_minor": 0
      },
      "text/html": [
       "<p>Failed to display Jupyter Widget of type <code>ProtocoleContainer</code>.</p>\n",
       "<p>\n",
       "  If you're reading this message in the Jupyter Notebook or JupyterLab Notebook, it may mean\n",
       "  that the widgets JavaScript is still loading. If this message persists, it\n",
       "  likely means that the widgets JavaScript library is either not installed or\n",
       "  not enabled. See the <a href=\"https://ipywidgets.readthedocs.io/en/stable/user_install.html\">Jupyter\n",
       "  Widgets Documentation</a> for setup instructions.\n",
       "</p>\n",
       "<p>\n",
       "  If you're reading this message in another frontend (for example, a static\n",
       "  rendering on GitHub or <a href=\"https://nbviewer.jupyter.org/\">NBViewer</a>),\n",
       "  it may mean that your frontend doesn't currently support widgets.\n",
       "</p>\n"
      ],
      "text/plain": [
       "ProtocoleContainer(children=(VolumePanel(children=(VBox(children=(Label(value='Added titrant volumes', _dom_classes=('panel-header-title',)), HBox(children=(Button(button_style='primary', description='Add', icon='plus-circle', layout=Layout(width='50%'), style=ButtonStyle()), Button(button_style='warning', description='Remove', disabled=True, icon='minus-circle', layout=Layout(width='50%'), style=ButtonStyle())), layout=Layout(padding='5px 5px 5px 5px'))), _dom_classes=('panel-heading',)), VBox(children=(VBox(children=(VolumeWidget(value=0.0, description='Step 0', disabled=True, layout=Layout(height='28px', width='100%'), max=100000.0, style=DescriptionStyle(description_width='50%')),), layout=Layout(display='flex', flex_flow='column', padding='5px 5px 5px 5px')),), _dom_classes=('panel-body',)), VBox(children=(Button(button_style='success', description='Validate', icon='check', layout=Layout(width='100%'), style=ButtonStyle()),), _dom_classes=('panel-footer',))), layout=Layout(height='auto', width='250px'), _dom_classes=('panel', 'panel-default', 'volumes-container')), ProtocolePanel(children=(VBox(children=(Label(value='Protocole', _dom_classes=('panel-header-title',)),), _dom_classes=('panel-heading',)), VBox(children=(HTML(value='<table border=\"1\" class=\"dataframe\">\\n  <thead>\\n    <tr style=\"text-align: right;\">\\n      <th>Step</th>\\n      <th>Added titrant (µL)</th>\\n      <th>Total titrant (µL)</th>\\n      <th>Total volume (µL)</th>\\n      <th>[titrant] (µM)</th>\\n      <th>[analyte] (µM)</th>\\n      <th>[titrant]/[analyte]</th>\\n    </tr>\\n  </thead>\\n  <tbody>\\n    <tr>\\n      <td>0</td>\\n      <td>0</td>\\n      <td>0</td>\\n      <td>0</td>\\n      <td>NaN</td>\\n      <td>NaN</td>\\n      <td>NaN</td>\\n    </tr>\\n  </tbody>\\n</table>', _dom_classes=('rendered_html', 'protocole-table')),), _dom_classes=('panel-body',))), _dom_classes=('panel', 'panel-default'))), layout=Layout(justify_content='space-around'))"
      ]
     },
     "metadata": {},
     "output_type": "display_data"
    }
   ],
   "source": [
    "startParams = StartParamContainer()\n",
    "protocole = ProtocoleContainer()\n",
    "\n",
    "upload.add_observer(startParams)\n",
    "upload.add_observer(protocole)\n",
    "\n",
    "startParams.add_observer(protocole.protocole)\n",
    "\n",
    "display(startParams, protocole)"
   ]
  },
  {
   "cell_type": "code",
   "execution_count": 5,
   "metadata": {
    "scrolled": false
   },
   "outputs": [
    {
     "data": {
      "application/vnd.jupyter.widget-view+json": {
       "model_id": "b8cb37c1a53545b8b718eb07aa21d0df",
       "version_major": 2,
       "version_minor": 0
      },
      "text/html": [
       "<p>Failed to display Jupyter Widget of type <code>IntensityPanel</code>.</p>\n",
       "<p>\n",
       "  If you're reading this message in the Jupyter Notebook or JupyterLab Notebook, it may mean\n",
       "  that the widgets JavaScript is still loading. If this message persists, it\n",
       "  likely means that the widgets JavaScript library is either not installed or\n",
       "  not enabled. See the <a href=\"https://ipywidgets.readthedocs.io/en/stable/user_install.html\">Jupyter\n",
       "  Widgets Documentation</a> for setup instructions.\n",
       "</p>\n",
       "<p>\n",
       "  If you're reading this message in another frontend (for example, a static\n",
       "  rendering on GitHub or <a href=\"https://nbviewer.jupyter.org/\">NBViewer</a>),\n",
       "  it may mean that your frontend doesn't currently support widgets.\n",
       "</p>\n"
      ],
      "text/plain": [
       "IntensityPanel(children=(VBox(children=(Label(value='Chemical shift intensities', _dom_classes=('panel-header-title',)),), _dom_classes=('panel-heading',)), VBox(children=(IntensityPlot(children=(IntSlider(value=10, description='Step', layout=Layout(height='95%', padding='30px 0px 30px 0px'), max=10, min=1, orientation='vertical'), CutoffSlider(value=0.1, description='Cut-off', layout=Layout(height='95%', padding='30px 0px 30px 0px'), max=1.7487105999564347, orientation='vertical', step=0.01), IntensityBarPlot(axes=[Axis(grid_lines='none', label='Residues', num_ticks=11, scale=OrdinalScale()), Axis(grid_color='#D1D0CE', grid_lines='dashed', orientation='vertical', scale=LinearScale(max=1.7487105999564347, min=0.0), tick_format='0.2f')], fig_margin={'bottom': 60, 'right': 60, 'left': 60, 'top': 60}, layout=Layout(height='95%', width='100%'), marks=[Bars(colors=['#38ACEC'], interactions={'click': 'select', 'hover': 'tooltip', 'legend_hover': 'highlight_axes'}, scales={'x': OrdinalScale(), 'y': LinearScale(max=1.7487105999564347, min=0.0)}, scales_metadata={'x': {'dimension': 'x', 'orientation': 'horizontal'}, 'color': {'dimension': 'color'}, 'y': {'dimension': 'y', 'orientation': 'vertical'}}, selected=[0, 1, 2, 3, 4, 7, 8, 39, 41, 67, 68, 70, 73, 74, 75, 76, 80, 82, 85, 87, 91, 92, 94, 95, 99, 100], selected_style={'fill': 'orange', 'stroke': 'white'}, stroke='#FFFFFF', tooltip=Tooltip(fields=['x', 'y'], formats=['', '.2f'], labels=['Residue', 'Intensity']), tooltip_style={'opacity': 0.9}, x=array([166, 167, 168, 169, 170, 171, 172, 173, 174, 175, 176, 177, 178,\n",
       "       179, 180, 181, 182, 183, 184, 185, 186, 187, 188, 189, 190, 191,\n",
       "       192, 193, 194, 195, 196, 197, 198, 199, 201, 202, 203, 204, 205,\n",
       "       206, 207, 208, 209, 210, 211, 212, 213, 214, 215, 216, 217, 218,\n",
       "       219, 220, 221, 222, 223, 224, 225, 226, 227, 228, 229, 230, 231,\n",
       "       232, 233, 234, 235, 236, 237, 238, 239, 240, 241, 242, 243, 244,\n",
       "       245, 246, 247, 248, 249, 250, 251, 253, 254, 255, 256, 257, 258,\n",
       "       260, 261, 262, 263, 264, 265, 266, 267, 268, 269, 270, 271, 272]), y=array([  3.96001263e-01,   1.34078335e-01,   2.06011747e-01,\n",
       "         4.51144057e-01,   1.04000769e-01,   2.90006896e-02,\n",
       "         6.79411510e-03,   1.07026913e-01,   1.04000769e-01,\n",
       "         5.00399840e-03,   4.40549657e-02,   5.01022954e-02,\n",
       "         6.86466314e-02,   4.40549657e-02,   5.01597448e-03,\n",
       "         1.90168346e-02,   0.00000000e+00,   0.00000000e+00,\n",
       "         0.00000000e+00,   0.00000000e+00,   1.14017543e-02,\n",
       "         0.00000000e+00,   1.14017543e-02,   2.00000000e-03,\n",
       "         1.50119952e-02,   2.40000000e-02,   5.00399840e-03,\n",
       "         1.00000000e-03,   6.01331855e-03,   2.90006896e-02,\n",
       "         3.40052937e-02,   2.03960781e-03,   4.30074412e-02,\n",
       "         2.40000000e-02,   5.03587132e-03,   3.02654919e-03,\n",
       "         2.90006896e-02,   2.60007692e-02,   1.50119952e-02,\n",
       "         2.40024082e-01,   1.50119952e-02,   1.79069819e-01,\n",
       "         7.85875308e-03,   0.00000000e+00,   3.40052937e-02,\n",
       "         9.10562464e-02,   1.70011764e-02,   0.00000000e+00,\n",
       "         6.80073525e-02,   2.03960781e-03,   0.00000000e+00,\n",
       "         0.00000000e+00,   7.50095994e-02,   9.00888450e-03,\n",
       "         8.00249961e-03,   4.50111097e-02,   0.00000000e+00,\n",
       "         0.00000000e+00,   2.40000000e-02,   3.60005556e-02,\n",
       "         2.40008333e-02,   5.80675469e-02,   1.14017543e-02,\n",
       "         6.10209800e-02,   5.70014035e-02,   2.23606798e-02,\n",
       "         9.90202000e-02,   5.08566613e-01,   4.90467084e-01,\n",
       "         3.70345784e-02,   5.12516692e-01,   8.21671467e-02,\n",
       "         5.15270803e-02,   1.58579083e+00,   1.95473783e-01,\n",
       "         3.26675925e-01,   3.61354397e-01,   7.62758153e-02,\n",
       "         9.70000000e-02,   2.44131112e-03,   1.29000155e-01,\n",
       "         4.35343543e-02,   1.12171476e-01,   6.50249183e-02,\n",
       "         5.50058179e-02,   1.17008376e-01,   6.00962561e-02,\n",
       "         1.33005413e-01,   8.59883713e-02,   4.61406545e-02,\n",
       "         9.10711810e-02,   1.13553688e-01,   1.14092769e-01,\n",
       "         1.14017543e-02,   1.39792131e-01,   1.26061731e-01,\n",
       "         6.00962561e-02,   5.70014035e-02,   2.60622332e-02,\n",
       "         1.21535838e-01,   3.16000063e-01,   1.50053324e-02,\n",
       "         1.80000000e-02,   2.40532742e-02])), Lines(colors=['red'], interactions={'hover': 'tooltip'}, line_style='dashed', opacities=[0.7], scales={'x': OrdinalScale(), 'y': LinearScale(max=1.7487105999564347, min=0.0)}, scales_metadata={'x': {'dimension': 'x', 'orientation': 'horizontal'}, 'color': {'dimension': 'color'}, 'y': {'dimension': 'y', 'orientation': 'vertical'}}, stroke_width=1.5, tooltip_style={'opacity': 0.9}, x=array([166, 272]), y=array([ 0.1,  0.1]))], scale_x=LinearScale(allow_padding=False, max=1.0, min=0.0), scale_y=LinearScale(allow_padding=False, max=1.0, min=0.0), title='Chemical shift intensity per residue')), layout=Layout(height='700px')), Toolbar(figure=IntensityBarPlot(axes=[Axis(grid_lines='none', label='Residues', num_ticks=11, scale=OrdinalScale()), Axis(grid_color='#D1D0CE', grid_lines='dashed', orientation='vertical', scale=LinearScale(max=1.7487105999564347, min=0.0), tick_format='0.2f')], fig_margin={'bottom': 60, 'right': 60, 'left': 60, 'top': 60}, layout=Layout(height='95%', width='100%'), marks=[Bars(colors=['#38ACEC'], interactions={'click': 'select', 'hover': 'tooltip', 'legend_hover': 'highlight_axes'}, scales={'x': OrdinalScale(), 'y': LinearScale(max=1.7487105999564347, min=0.0)}, scales_metadata={'x': {'dimension': 'x', 'orientation': 'horizontal'}, 'color': {'dimension': 'color'}, 'y': {'dimension': 'y', 'orientation': 'vertical'}}, selected=[0, 1, 2, 3, 4, 7, 8, 39, 41, 67, 68, 70, 73, 74, 75, 76, 80, 82, 85, 87, 91, 92, 94, 95, 99, 100], selected_style={'fill': 'orange', 'stroke': 'white'}, stroke='#FFFFFF', tooltip=Tooltip(fields=['x', 'y'], formats=['', '.2f'], labels=['Residue', 'Intensity']), tooltip_style={'opacity': 0.9}, x=array([166, 167, 168, 169, 170, 171, 172, 173, 174, 175, 176, 177, 178,\n",
       "       179, 180, 181, 182, 183, 184, 185, 186, 187, 188, 189, 190, 191,\n",
       "       192, 193, 194, 195, 196, 197, 198, 199, 201, 202, 203, 204, 205,\n",
       "       206, 207, 208, 209, 210, 211, 212, 213, 214, 215, 216, 217, 218,\n",
       "       219, 220, 221, 222, 223, 224, 225, 226, 227, 228, 229, 230, 231,\n",
       "       232, 233, 234, 235, 236, 237, 238, 239, 240, 241, 242, 243, 244,\n",
       "       245, 246, 247, 248, 249, 250, 251, 253, 254, 255, 256, 257, 258,\n",
       "       260, 261, 262, 263, 264, 265, 266, 267, 268, 269, 270, 271, 272]), y=array([  3.96001263e-01,   1.34078335e-01,   2.06011747e-01,\n",
       "         4.51144057e-01,   1.04000769e-01,   2.90006896e-02,\n",
       "         6.79411510e-03,   1.07026913e-01,   1.04000769e-01,\n",
       "         5.00399840e-03,   4.40549657e-02,   5.01022954e-02,\n",
       "         6.86466314e-02,   4.40549657e-02,   5.01597448e-03,\n",
       "         1.90168346e-02,   0.00000000e+00,   0.00000000e+00,\n",
       "         0.00000000e+00,   0.00000000e+00,   1.14017543e-02,\n",
       "         0.00000000e+00,   1.14017543e-02,   2.00000000e-03,\n",
       "         1.50119952e-02,   2.40000000e-02,   5.00399840e-03,\n",
       "         1.00000000e-03,   6.01331855e-03,   2.90006896e-02,\n",
       "         3.40052937e-02,   2.03960781e-03,   4.30074412e-02,\n",
       "         2.40000000e-02,   5.03587132e-03,   3.02654919e-03,\n",
       "         2.90006896e-02,   2.60007692e-02,   1.50119952e-02,\n",
       "         2.40024082e-01,   1.50119952e-02,   1.79069819e-01,\n",
       "         7.85875308e-03,   0.00000000e+00,   3.40052937e-02,\n",
       "         9.10562464e-02,   1.70011764e-02,   0.00000000e+00,\n",
       "         6.80073525e-02,   2.03960781e-03,   0.00000000e+00,\n",
       "         0.00000000e+00,   7.50095994e-02,   9.00888450e-03,\n",
       "         8.00249961e-03,   4.50111097e-02,   0.00000000e+00,\n",
       "         0.00000000e+00,   2.40000000e-02,   3.60005556e-02,\n",
       "         2.40008333e-02,   5.80675469e-02,   1.14017543e-02,\n",
       "         6.10209800e-02,   5.70014035e-02,   2.23606798e-02,\n",
       "         9.90202000e-02,   5.08566613e-01,   4.90467084e-01,\n",
       "         3.70345784e-02,   5.12516692e-01,   8.21671467e-02,\n",
       "         5.15270803e-02,   1.58579083e+00,   1.95473783e-01,\n",
       "         3.26675925e-01,   3.61354397e-01,   7.62758153e-02,\n",
       "         9.70000000e-02,   2.44131112e-03,   1.29000155e-01,\n",
       "         4.35343543e-02,   1.12171476e-01,   6.50249183e-02,\n",
       "         5.50058179e-02,   1.17008376e-01,   6.00962561e-02,\n",
       "         1.33005413e-01,   8.59883713e-02,   4.61406545e-02,\n",
       "         9.10711810e-02,   1.13553688e-01,   1.14092769e-01,\n",
       "         1.14017543e-02,   1.39792131e-01,   1.26061731e-01,\n",
       "         6.00962561e-02,   5.70014035e-02,   2.60622332e-02,\n",
       "         1.21535838e-01,   3.16000063e-01,   1.50053324e-02,\n",
       "         1.80000000e-02,   2.40532742e-02])), Lines(colors=['red'], interactions={'hover': 'tooltip'}, line_style='dashed', opacities=[0.7], scales={'x': OrdinalScale(), 'y': LinearScale(max=1.7487105999564347, min=0.0)}, scales_metadata={'x': {'dimension': 'x', 'orientation': 'horizontal'}, 'color': {'dimension': 'color'}, 'y': {'dimension': 'y', 'orientation': 'vertical'}}, stroke_width=1.5, tooltip_style={'opacity': 0.9}, x=array([166, 272]), y=array([ 0.1,  0.1]))], scale_x=LinearScale(allow_padding=False, max=1.0, min=0.0), scale_y=LinearScale(allow_padding=False, max=1.0, min=0.0), title='Chemical shift intensity per residue'), _dom_classes=('barplot-toolbar',))), _dom_classes=('panel-body',))), _dom_classes=('panel', 'panel-default', 'intensity-panel'))"
      ]
     },
     "metadata": {},
     "output_type": "display_data"
    }
   ],
   "source": [
    "import bqplot\n",
    "import math \n",
    "from itertools import chain\n",
    "from ipywidgets import FloatSlider, IntSlider, ToggleButton\n",
    "import classes\n",
    "import importlib\n",
    "\n",
    "importlib.reload(classes)\n",
    "from classes.bqplotwidgets import IntensityPlot\n",
    "#HBox([CutoffSlider(),IntensityBarPlot()])\n",
    "\n",
    "class IntensityPanel(TitrationWidget, PanelContainer):\n",
    "    def __init__(self, *args, **kwargs):\n",
    "        PanelContainer.__init__(self, *args, **kwargs)\n",
    "\n",
    "        #self.heading=HBox()\n",
    "        #self.heading.add_class(\"panel-heading\")\n",
    "\n",
    "        self.add_class('intensity-panel')\n",
    "\n",
    "        self.label = Label(\"Chemical shift intensities\")\n",
    "        self.label.add_class('panel-header-title')\n",
    "\n",
    "        self.plot_widgets = IntensityPlot()\n",
    "\n",
    "        self.toolbar = bqplot.Toolbar(figure= self.plot_widgets.plot)\n",
    "        self.toolbar.add_class('barplot-toolbar')\n",
    "\n",
    "        self.set_heading([self.label])\n",
    "\n",
    "        self.set_content([self.plot_widgets, self.toolbar])\n",
    "        self.children = (self.heading, self.content)\n",
    "        \n",
    "plotc = IntensityPanel()\n",
    "display(plotc)\n",
    "plotc.plot_widgets.plot.save_png('./akanr.png')"
   ]
  },
  {
   "cell_type": "code",
   "execution_count": 6,
   "metadata": {
    "scrolled": false
   },
   "outputs": [
    {
     "data": {
      "application/vnd.jupyter.widget-view+json": {
       "model_id": "c8e4e9c804d14b639af84408faffbe0a",
       "version_major": 2,
       "version_minor": 0
      },
      "text/html": [
       "<p>Failed to display Jupyter Widget of type <code>ShiftMap</code>.</p>\n",
       "<p>\n",
       "  If you're reading this message in the Jupyter Notebook or JupyterLab Notebook, it may mean\n",
       "  that the widgets JavaScript is still loading. If this message persists, it\n",
       "  likely means that the widgets JavaScript library is either not installed or\n",
       "  not enabled. See the <a href=\"https://ipywidgets.readthedocs.io/en/stable/user_install.html\">Jupyter\n",
       "  Widgets Documentation</a> for setup instructions.\n",
       "</p>\n",
       "<p>\n",
       "  If you're reading this message in another frontend (for example, a static\n",
       "  rendering on GitHub or <a href=\"https://nbviewer.jupyter.org/\">NBViewer</a>),\n",
       "  it may mean that your frontend doesn't currently support widgets.\n",
       "</p>\n"
      ],
      "text/plain": [
       "ShiftMap(axes=[Axis(grid_color='#D1D0CE', grid_lines='dashed', label='Proton chemical shifts', num_ticks=10, scale=LinearScale(max=130.77682, min=110.51568), tick_format='0.2f'), Axis(grid_color='#D1D0CE', grid_lines='dashed', label='Azote chemical shifts', num_ticks=10, orientation='vertical', scale=LinearScale(max=9.68694, min=6.80022), tick_format='0.2f'), ColorAxis(label='Step', offset={'value': 0, 'scale': LinearScale(max=130.77682, min=110.51568)}, orientation='vertical', scale=ColorScale(scheme='Purples'), side='right')], fig_margin={'bottom': 60, 'right': 60, 'left': 60, 'top': 60}, layout=Layout(height='width', width='100%'), marks=[Scatter(color=array([ 0,  1,  2,  3,  4,  5,  6,  7,  8,  9, 10,  0,  1,  2,  3,  4,  5,\n",
       "        6,  7,  8,  9, 10,  0,  1,  2,  3,  4,  5,  6,  7,  8,  9, 10,  0,\n",
       "        1,  2,  3,  4,  5,  6,  7,  8,  9, 10,  0,  1,  2,  3,  4,  5,  6,\n",
       "        7,  8,  9, 10,  0,  1,  2,  3,  4,  5,  6,  7,  8,  9, 10,  0,  1,\n",
       "        2,  3,  4,  5,  6,  7,  8,  9, 10,  0,  1,  2,  3,  4,  5,  6,  7,\n",
       "        8,  9, 10,  0,  1,  2,  3,  4,  5,  6,  7,  8,  9, 10,  0,  1,  2,\n",
       "        3,  4,  5,  6,  7,  8,  9, 10,  0,  1,  2,  3,  4,  5,  6,  7,  8,\n",
       "        9, 10,  0,  1,  2,  3,  4,  5,  6,  7,  8,  9, 10,  0,  1,  2,  3,\n",
       "        4,  5,  6,  7,  8,  9, 10,  0,  1,  2,  3,  4,  5,  6,  7,  8,  9,\n",
       "       10,  0,  1,  2,  3,  4,  5,  6,  7,  8,  9, 10,  0,  1,  2,  3,  4,\n",
       "        5,  6,  7,  8,  9, 10,  0,  1,  2,  3,  4,  5,  6,  7,  8,  9, 10,\n",
       "        0,  1,  2,  3,  4,  5,  6,  7,  8,  9, 10,  0,  1,  2,  3,  4,  5,\n",
       "        6,  7,  8,  9, 10,  0,  1,  2,  3,  4,  5,  6,  7,  8,  9, 10,  0,\n",
       "        1,  2,  3,  4,  5,  6,  7,  8,  9, 10,  0,  1,  2,  3,  4,  5,  6,\n",
       "        7,  8,  9, 10,  0,  1,  2,  3,  4,  5,  6,  7,  8,  9, 10,  0,  1,\n",
       "        2,  3,  4,  5,  6,  7,  8,  9, 10,  0,  1,  2,  3,  4,  5,  6,  7,\n",
       "        8,  9, 10,  0,  1,  2,  3,  4,  5,  6,  7,  8,  9, 10]), colors=['DeepSkyBlue'], display_names=False, interactions={'click': 'select', 'hover': 'tooltip', 'legend_hover': 'highlight_axes'}, names=array(['256', '256', '256', '256', '256', '256', '256', '256', '256',\n",
       "       '256', '256', '257', '257', '257', '257', '257', '257', '257',\n",
       "       '257', '257', '257', '257', '258', '258', '258', '258', '258',\n",
       "       '258', '258', '258', '258', '258', '258', '260', '260', '260',\n",
       "       '260', '260', '260', '260', '260', '260', '260', '260', '261',\n",
       "       '261', '261', '261', '261', '261', '261', '261', '261', '261',\n",
       "       '261', '264', '264', '264', '264', '264', '264', '264', '264',\n",
       "       '264', '264', '264', '265', '265', '265', '265', '265', '265',\n",
       "       '265', '265', '265', '265', '265', '218', '218', '218', '218',\n",
       "       '218', '218', '218', '218', '218', '218', '218', '219', '219',\n",
       "       '219', '219', '219', '219', '219', '219', '219', '219', '219',\n",
       "       '221', '221', '221', '221', '221', '221', '221', '221', '221',\n",
       "       '221', '221', '224', '224', '224', '224', '224', '224', '224',\n",
       "       '224', '224', '224', '224', '225', '225', '225', '225', '225',\n",
       "       '225', '225', '225', '225', '225', '225', '226', '226', '226',\n",
       "       '226', '226', '226', '226', '226', '226', '226', '226', '227',\n",
       "       '227', '227', '227', '227', '227', '227', '227', '227', '227',\n",
       "       '227', '231', '231', '231', '231', '231', '231', '231', '231',\n",
       "       '231', '231', '231', '233', '233', '233', '233', '233', '233',\n",
       "       '233', '233', '233', '233', '233', '236', '236', '236', '236',\n",
       "       '236', '236', '236', '236', '236', '236', '236', '238', '238',\n",
       "       '238', '238', '238', '238', '238', '238', '238', '238', '238',\n",
       "       '242', '242', '242', '242', '242', '242', '242', '242', '242',\n",
       "       '242', '242', '243', '243', '243', '243', '243', '243', '243',\n",
       "       '243', '243', '243', '243', '245', '245', '245', '245', '245',\n",
       "       '245', '245', '245', '245', '245', '245', '246', '246', '246',\n",
       "       '246', '246', '246', '246', '246', '246', '246', '246', '250',\n",
       "       '250', '250', '250', '250', '250', '250', '250', '250', '250',\n",
       "       '250', '251', '251', '251', '251', '251', '251', '251', '251',\n",
       "       '251', '251', '251', '189', '189', '189', '189', '189', '189',\n",
       "       '189', '189', '189', '189', '189', '191', '191', '191', '191',\n",
       "       '191', '191', '191', '191', '191', '191', '191'],\n",
       "      dtype='<U3'), names_unique=False, scales={'x': LinearScale(max=130.77682, min=110.51568), 'color': ColorScale(scheme='Purples'), 'y': LinearScale(max=9.68694, min=6.80022)}, scales_metadata={'x': {'dimension': 'x', 'orientation': 'horizontal'}, 'rotation': {'dimension': 'rotation'}, 'opacity': {'dimension': 'opacity'}, 'color': {'dimension': 'color'}, 'y': {'dimension': 'y', 'orientation': 'vertical'}, 'skew': {'dimension': 'skew'}, 'size': {'dimension': 'size'}}, selected_style={'fill': 'orange', 'stroke': 'white'}, stroke='#FFFFFF', stroke_width=0.0, tooltip=Tooltip(fields=['name', 'x', 'y', 'color'], formats=['', '.2f', '.2f', ''], labels=['Residue', 'H', 'N', 'Step']), tooltip_style={'opacity': 0.9}, x=array([ 112.069,  112.035,  111.903,  111.867,  111.705,  111.676,\n",
       "        111.709,  111.692,  111.632,  111.645,  111.673,  120.767,\n",
       "        120.768,  120.768,  120.748,  120.663,  120.681,  120.63 ,\n",
       "        120.652,  120.638,  120.629,  120.643,  116.138,  116.137,\n",
       "        116.193,  116.222,  116.3  ,  116.302,  116.284,  116.27 ,\n",
       "        116.319,  116.328,  116.344,  121.784,  121.765,  121.709,\n",
       "        121.689,  121.368,  121.386,  121.372,  121.331,  121.321,\n",
       "        121.311,  121.333,  116.119,  116.112,  116.162,  116.145,\n",
       "        116.199,  116.221,  116.211,  116.229,  116.198,  116.254,\n",
       "        116.223,  112.369,  112.377,  112.337,  112.34 ,  112.258,\n",
       "        112.258,  112.25 ,  112.251,  112.247,  112.236,  112.262,\n",
       "        116.119,  116.112,  116.162,  116.145,  116.199,  116.199,\n",
       "        116.211,  116.229,  116.198,  116.254,  116.223,  113.731,\n",
       "        113.698,  113.41 ,  113.318,  113.287,  113.253,  113.246,\n",
       "        113.226,  113.223,  113.214,  113.223,  118.099,  118.102,\n",
       "        118.279,  118.34 ,  118.505,  118.511,  118.515,  118.547,\n",
       "        118.586,  118.566,  118.589,  127.624,  127.589,  127.345,\n",
       "        127.356,  127.188,  127.165,  127.133,  127.123,  127.117,\n",
       "        127.106,  127.113,  119.205,  119.209,  119.209,  119.209,\n",
       "        117.82 ,  117.808,  117.734,  117.65 ,  117.626,  117.622,\n",
       "        117.626,  120.046,  120.029,  120.009,  119.72 ,  119.833,\n",
       "        119.828,  119.808,  119.81 ,  119.831,  119.815,  119.853,\n",
       "        113.846,  113.815,  113.634,  113.623,  113.585,  113.561,\n",
       "        113.539,  113.53 ,  113.527,  113.54 ,  113.527,  119.715,\n",
       "        119.691,  119.596,  119.563,  119.393,  119.391,  119.368,\n",
       "        119.351,  119.351,  119.355,  119.354,  118.872,  118.889,\n",
       "        118.929,  118.942,  118.993,  118.997,  118.997,  119.003,\n",
       "        119.007,  119.001,  119.001,  112.209,  112.23 ,  112.257,\n",
       "        112.249,  112.345,  112.355,  112.34 ,  112.353,  112.335,\n",
       "        112.315,  112.321,  129.363,  129.339,  129.37 ,  129.394,\n",
       "        129.461,  129.458,  129.461,  129.443,  129.482,  129.462,\n",
       "        129.48 ,  127.876,  127.885,  127.904,  127.925,  127.99 ,\n",
       "        127.991,  128.003,  127.993,  128.009,  128.016,  128.009,\n",
       "        115.248,  115.253,  115.262,  115.307,  115.33 ,  115.331,\n",
       "        115.343,  115.36 ,  115.344,  115.362,  115.361,  124.634,\n",
       "        124.644,  124.614,  124.606,  124.569,  124.558,  124.575,\n",
       "        124.561,  124.566,  124.544,  124.52 ,  113.381,  113.378,\n",
       "        113.287,  113.367,  113.267,  113.255,  113.247,  113.25 ,\n",
       "        113.247,  113.241,  113.244,  123.43 ,  123.43 ,  123.446,\n",
       "        123.443,  123.494,  123.5  ,  123.515,  123.56 ,  123.507,\n",
       "        123.519,  123.549,  118.617,  118.628,  118.656,  118.662,\n",
       "        118.721,  118.727,  118.732,  118.739,  118.728,  118.731,\n",
       "        118.738,  122.831,  122.833,  122.727,  122.705,  122.576,\n",
       "        122.565,  122.578,  122.527,  122.531,  122.505,  122.515,\n",
       "        121.33 ,  121.054,  121.055,  121.067,  121.085,  121.07 ,\n",
       "        121.079,  121.078,  121.076,  121.09 ,  121.09 ,  120.642,\n",
       "        120.642,  120.642,  120.642,  120.475,  120.463,  120.462,\n",
       "        120.452,  120.475,  120.466,  120.463]), y=array([ 8.999,  8.999,  9.   ,  9.   ,  9.003,  9.002,  9.004,  9.005,\n",
       "        9.003,  9.004,  9.004,  9.24 ,  9.251,  9.251,  9.359,  9.456,\n",
       "        9.468,  9.48 ,  9.485,  9.49 ,  9.497,  9.495,  9.19 ,  9.19 ,\n",
       "        9.196,  9.197,  9.199,  9.199,  9.202,  9.202,  9.198,  9.198,\n",
       "        9.201,  7.747,  7.749,  7.757,  7.757,  7.798,  7.799,  7.801,\n",
       "        7.802,  7.804,  7.803,  7.804,  8.245,  8.246,  8.247,  8.248,\n",
       "        8.249,  8.249,  8.247,  8.248,  8.248,  8.246,  8.247,  8.77 ,\n",
       "        8.769,  8.769,  8.763,  8.763,  8.763,  8.76 ,  8.761,  8.763,\n",
       "        8.762,  8.758,  8.245,  8.246,  8.247,  8.248,  8.249,  8.249,\n",
       "        8.247,  8.248,  8.248,  8.246,  8.247,  6.992,  7.   ,  7.057,\n",
       "        7.076,  7.096,  7.101,  7.107,  7.111,  7.113,  7.113,  7.112,\n",
       "        8.435,  8.438,  8.474,  8.475,  8.527,  8.531,  8.535,  8.54 ,\n",
       "        8.544,  8.545,  8.542,  7.586,  7.581,  7.486,  7.482,  7.418,\n",
       "        7.413,  7.399,  7.394,  7.39 ,  7.388,  7.389,  7.672,  7.662,\n",
       "        7.662,  7.662,  7.031,  7.016,  6.981,  6.961,  6.948,  6.941,\n",
       "        6.939,  8.736,  8.73 ,  8.689,  8.638,  8.606,  8.603,  8.594,\n",
       "        8.59 ,  8.584,  8.583,  8.581,  7.95 ,  7.947,  7.843,  7.842,\n",
       "        7.65 ,  7.64 ,  7.621,  7.611,  7.604,  7.6  ,  7.598,  7.495,\n",
       "        7.498,  7.519,  7.533,  7.57 ,  7.569,  7.574,  7.577,  7.577,\n",
       "        7.576,  7.575,  8.191,  8.191,  8.191,  8.19 ,  8.189,  8.188,\n",
       "        8.194,  8.192,  8.197,  8.194,  8.192,  8.681,  8.679,  8.668,\n",
       "        8.665,  8.646,  8.646,  8.647,  8.647,  8.648,  8.649,  8.65 ,\n",
       "        8.811,  8.813,  8.818,  8.819,  8.82 ,  8.821,  8.821,  8.817,\n",
       "        8.817,  8.819,  8.818,  9.092,  9.092,  9.087,  9.085,  9.09 ,\n",
       "        9.086,  9.091,  9.088,  9.088,  9.092,  9.086,  8.187,  8.189,\n",
       "        8.207,  8.211,  8.237,  8.238,  8.241,  8.244,  8.244,  8.245,\n",
       "        8.243,  8.551,  8.549,  8.542,  8.543,  8.532,  8.534,  8.529,\n",
       "        8.53 ,  8.531,  8.531,  8.528,  8.454,  8.463,  8.521,  8.477,\n",
       "        8.577,  8.58 ,  8.586,  8.592,  8.593,  8.593,  8.593,  8.729,\n",
       "        8.736,  8.827,  8.827,  8.907,  8.914,  8.925,  8.934,  8.934,\n",
       "        8.94 ,  8.937,  9.108,  9.109,  9.129,  9.125,  9.158,  9.167,\n",
       "        9.166,  9.163,  9.164,  9.163,  9.165,  9.077,  9.078,  9.078,\n",
       "        9.077,  9.08 ,  9.078,  9.078,  9.08 ,  9.078,  9.08 ,  9.076,\n",
       "        8.122,  8.141,  8.141,  8.141,  8.139,  8.14 ,  8.14 ,  8.139,\n",
       "        8.138,  8.139,  8.139,  8.389,  8.389,  8.389,  8.389,  8.424,\n",
       "        8.421,  8.421,  8.414,  8.413,  8.41 ,  8.414]))], scale_x=LinearScale(allow_padding=False, max=1.0, min=0.0), scale_y=LinearScale(allow_padding=False, max=1.0, min=0.0), title='Chemical shifts')"
      ]
     },
     "metadata": {},
     "output_type": "display_data"
    }
   ],
   "source": [
    "from classes.bqplotwidgets import ShiftMap\n",
    "        \n",
    "fig = ShiftMap()\n",
    "display(fig)"
   ]
  },
  {
   "cell_type": "code",
   "execution_count": 17,
   "metadata": {},
   "outputs": [
    {
     "name": "stdout",
     "output_type": "stream",
     "text": [
      "{256: (256, [112.069, 112.035, 111.903, 111.867, 111.705, 111.676, 111.709, 111.692, 111.632, 111.645, 111.673], [8.999, 8.999, 9.0, 9.0, 9.003, 9.002, 9.004, 9.005, 9.003, 9.004, 9.004]), 257: (257, [120.767, 120.768, 120.768, 120.748, 120.663, 120.681, 120.63, 120.652, 120.638, 120.629, 120.643], [9.24, 9.251, 9.251, 9.359, 9.456, 9.468, 9.48, 9.485, 9.49, 9.497, 9.495]), 258: (258, [116.138, 116.137, 116.193, 116.222, 116.3, 116.302, 116.284, 116.27, 116.319, 116.328, 116.344], [9.19, 9.19, 9.196, 9.197, 9.199, 9.199, 9.202, 9.202, 9.198, 9.198, 9.201]), 260: (260, [121.784, 121.765, 121.709, 121.689, 121.368, 121.386, 121.372, 121.331, 121.321, 121.311, 121.333], [7.747, 7.749, 7.757, 7.757, 7.798, 7.799, 7.801, 7.802, 7.804, 7.803, 7.804]), 261: (261, [116.119, 116.112, 116.162, 116.145, 116.199, 116.221, 116.211, 116.229, 116.198, 116.254, 116.223], [8.245, 8.246, 8.247, 8.248, 8.249, 8.249, 8.247, 8.248, 8.248, 8.246, 8.247]), 264: (264, [112.369, 112.377, 112.337, 112.34, 112.258, 112.258, 112.25, 112.251, 112.247, 112.236, 112.262], [8.77, 8.769, 8.769, 8.763, 8.763, 8.763, 8.76, 8.761, 8.763, 8.762, 8.758]), 265: (265, [116.119, 116.112, 116.162, 116.145, 116.199, 116.199, 116.211, 116.229, 116.198, 116.254, 116.223], [8.245, 8.246, 8.247, 8.248, 8.249, 8.249, 8.247, 8.248, 8.248, 8.246, 8.247]), 218: (218, [113.731, 113.698, 113.41, 113.318, 113.287, 113.253, 113.246, 113.226, 113.223, 113.214, 113.223], [6.992, 7.0, 7.057, 7.076, 7.096, 7.101, 7.107, 7.111, 7.113, 7.113, 7.112]), 219: (219, [118.099, 118.102, 118.279, 118.34, 118.505, 118.511, 118.515, 118.547, 118.586, 118.566, 118.589], [8.435, 8.438, 8.474, 8.475, 8.527, 8.531, 8.535, 8.54, 8.544, 8.545, 8.542]), 221: (221, [127.624, 127.589, 127.345, 127.356, 127.188, 127.165, 127.133, 127.123, 127.117, 127.106, 127.113], [7.586, 7.581, 7.486, 7.482, 7.418, 7.413, 7.399, 7.394, 7.39, 7.388, 7.389]), 224: (224, [119.205, 119.209, 119.209, 119.209, 117.82, 117.808, 117.734, 117.65, 117.626, 117.622, 117.626], [7.672, 7.662, 7.662, 7.662, 7.031, 7.016, 6.981, 6.961, 6.948, 6.941, 6.939]), 225: (225, [120.046, 120.029, 120.009, 119.72, 119.833, 119.828, 119.808, 119.81, 119.831, 119.815, 119.853], [8.736, 8.73, 8.689, 8.638, 8.606, 8.603, 8.594, 8.59, 8.584, 8.583, 8.581]), 226: (226, [113.846, 113.815, 113.634, 113.623, 113.585, 113.561, 113.539, 113.53, 113.527, 113.54, 113.527], [7.95, 7.947, 7.843, 7.842, 7.65, 7.64, 7.621, 7.611, 7.604, 7.6, 7.598]), 227: (227, [119.715, 119.691, 119.596, 119.563, 119.393, 119.391, 119.368, 119.351, 119.351, 119.355, 119.354], [7.495, 7.498, 7.519, 7.533, 7.57, 7.569, 7.574, 7.577, 7.577, 7.576, 7.575]), 231: (231, [118.872, 118.889, 118.929, 118.942, 118.993, 118.997, 118.997, 119.003, 119.007, 119.001, 119.001], [8.191, 8.191, 8.191, 8.19, 8.189, 8.188, 8.194, 8.192, 8.197, 8.194, 8.192]), 233: (233, [112.209, 112.23, 112.257, 112.249, 112.345, 112.355, 112.34, 112.353, 112.335, 112.315, 112.321], [8.681, 8.679, 8.668, 8.665, 8.646, 8.646, 8.647, 8.647, 8.648, 8.649, 8.65]), 236: (236, [129.363, 129.339, 129.37, 129.394, 129.461, 129.458, 129.461, 129.443, 129.482, 129.462, 129.48], [8.811, 8.813, 8.818, 8.819, 8.82, 8.821, 8.821, 8.817, 8.817, 8.819, 8.818]), 238: (238, [127.876, 127.885, 127.904, 127.925, 127.99, 127.991, 128.003, 127.993, 128.009, 128.016, 128.009], [9.092, 9.092, 9.087, 9.085, 9.09, 9.086, 9.091, 9.088, 9.088, 9.092, 9.086]), 242: (242, [115.248, 115.253, 115.262, 115.307, 115.33, 115.331, 115.343, 115.36, 115.344, 115.362, 115.361], [8.187, 8.189, 8.207, 8.211, 8.237, 8.238, 8.241, 8.244, 8.244, 8.245, 8.243]), 243: (243, [124.634, 124.644, 124.614, 124.606, 124.569, 124.558, 124.575, 124.561, 124.566, 124.544, 124.52], [8.551, 8.549, 8.542, 8.543, 8.532, 8.534, 8.529, 8.53, 8.531, 8.531, 8.528]), 245: (245, [113.381, 113.378, 113.287, 113.367, 113.267, 113.255, 113.247, 113.25, 113.247, 113.241, 113.244], [8.454, 8.463, 8.521, 8.477, 8.577, 8.58, 8.586, 8.592, 8.593, 8.593, 8.593]), 246: (246, [123.43, 123.43, 123.446, 123.443, 123.494, 123.5, 123.515, 123.56, 123.507, 123.519, 123.549], [8.729, 8.736, 8.827, 8.827, 8.907, 8.914, 8.925, 8.934, 8.934, 8.94, 8.937]), 250: (250, [118.617, 118.628, 118.656, 118.662, 118.721, 118.727, 118.732, 118.739, 118.728, 118.731, 118.738], [9.108, 9.109, 9.129, 9.125, 9.158, 9.167, 9.166, 9.163, 9.164, 9.163, 9.165]), 251: (251, [122.831, 122.833, 122.727, 122.705, 122.576, 122.565, 122.578, 122.527, 122.531, 122.505, 122.515], [9.077, 9.078, 9.078, 9.077, 9.08, 9.078, 9.078, 9.08, 9.078, 9.08, 9.076]), 189: (189, [121.33, 121.054, 121.055, 121.067, 121.085, 121.07, 121.079, 121.078, 121.076, 121.09, 121.09], [8.122, 8.141, 8.141, 8.141, 8.139, 8.14, 8.14, 8.139, 8.138, 8.139, 8.139]), 191: (191, [120.642, 120.642, 120.642, 120.642, 120.475, 120.463, 120.462, 120.452, 120.475, 120.466, 120.463], [8.389, 8.389, 8.389, 8.389, 8.424, 8.421, 8.421, 8.414, 8.413, 8.41, 8.414])}\n"
     ]
    }
   ],
   "source": [
    "print(TitrationWidget.titration.filtered)"
   ]
  },
  {
   "cell_type": "code",
   "execution_count": null,
   "metadata": {},
   "outputs": [],
   "source": []
  },
  {
   "cell_type": "code",
   "execution_count": null,
   "metadata": {},
   "outputs": [],
   "source": []
  },
  {
   "cell_type": "code",
   "execution_count": null,
   "metadata": {},
   "outputs": [],
   "source": []
  }
 ],
 "metadata": {
  "kernelspec": {
   "display_name": "ipywidgets",
   "language": "python",
   "name": "ipywidgets"
  },
  "language_info": {
   "codemirror_mode": {
    "name": "ipython",
    "version": 3
   },
   "file_extension": ".py",
   "mimetype": "text/x-python",
   "name": "python",
   "nbconvert_exporter": "python",
   "pygments_lexer": "ipython3",
   "version": "3.5.2"
  }
 },
 "nbformat": 4,
 "nbformat_minor": 2
}
