{
 "cells": [
  {
   "cell_type": "code",
   "execution_count": 1,
   "metadata": {},
   "outputs": [],
   "source": [
    "from classes.ipywidgets import *\n",
    "from classes.Titration import Titration, TitrationCLI\n",
    "from ipyfileupload.widgets import DirectoryUploadWidget\n",
    "\n",
    "TitrationWidget.titration = Titration()"
   ]
  },
  {
   "cell_type": "code",
   "execution_count": 2,
   "metadata": {
    "scrolled": false
   },
   "outputs": [
    {
     "data": {
      "application/vnd.jupyter.widget-view+json": {
       "model_id": "8c56e4cbc3e2483a8aefab7b45eca0f5",
       "version_major": 2,
       "version_minor": 0
      },
      "text/html": [
       "<p>Failed to display Jupyter Widget of type <code>TitrationFilesView</code>.</p>\n",
       "<p>\n",
       "  If you're reading this message in the Jupyter Notebook or JupyterLab Notebook, it may mean\n",
       "  that the widgets JavaScript is still loading. If this message persists, it\n",
       "  likely means that the widgets JavaScript library is either not installed or\n",
       "  not enabled. See the <a href=\"https://ipywidgets.readthedocs.io/en/stable/user_install.html\">Jupyter\n",
       "  Widgets Documentation</a> for setup instructions.\n",
       "</p>\n",
       "<p>\n",
       "  If you're reading this message in another frontend (for example, a static\n",
       "  rendering on GitHub or <a href=\"https://nbviewer.jupyter.org/\">NBViewer</a>),\n",
       "  it may mean that your frontend doesn't currently support widgets.\n",
       "</p>\n"
      ],
      "text/plain": [
       "TitrationFilesView(children=(VBox(children=(Label(value='Data files', _dom_classes=('panel-header-title',)),), _dom_classes=('panel-heading',)), VBox(_dom_classes=('panel-body',)), VBox(children=(TitrationDirUploader(label='Upload titration directory...', _dom_classes=('widget_item', 'btn-group', 'file-uploader')),), _dom_classes=('panel-footer',))), layout=Layout(width='250px'), _dom_classes=('panel', 'panel-default', 'data-files-view'))"
      ]
     },
     "metadata": {},
     "output_type": "display_data"
    }
   ],
   "source": [
    "\n",
    "\n",
    "view = TitrationFilesView()\n",
    "display(view)"
   ]
  },
  {
   "cell_type": "code",
   "execution_count": 3,
   "metadata": {
    "scrolled": true
   },
   "outputs": [
    {
     "data": {
      "application/vnd.jupyter.widget-view+json": {
       "model_id": "b4f5d9156b5b4a539b75e0d35ba0be48",
       "version_major": 2,
       "version_minor": 0
      },
      "text/html": [
       "<p>Failed to display Jupyter Widget of type <code>StartParamContainer</code>.</p>\n",
       "<p>\n",
       "  If you're reading this message in the Jupyter Notebook or JupyterLab Notebook, it may mean\n",
       "  that the widgets JavaScript is still loading. If this message persists, it\n",
       "  likely means that the widgets JavaScript library is either not installed or\n",
       "  not enabled. See the <a href=\"https://ipywidgets.readthedocs.io/en/stable/user_install.html\">Jupyter\n",
       "  Widgets Documentation</a> for setup instructions.\n",
       "</p>\n",
       "<p>\n",
       "  If you're reading this message in another frontend (for example, a static\n",
       "  rendering on GitHub or <a href=\"https://nbviewer.jupyter.org/\">NBViewer</a>),\n",
       "  it may mean that your frontend doesn't currently support widgets.\n",
       "</p>\n"
      ],
      "text/plain": [
       "StartParamContainer(children=(VBox(children=(NameWidget(value='Unnamed Titration', description='Experiment name:', layout=Layout(width='335px'), style=DescriptionStyle(description_width='130px'), _dom_classes=('panel-header-title',)),), _dom_classes=('panel-heading',)), VBox(children=(MoleculesContainer(children=(SingleMolContainer(children=(Label(value='Analyte', layout=Layout(left='150px')), MoleculeNameWidget(value='analyte', description='Name:', layout=Layout(width='230px'), style=DescriptionStyle(description_width='130px')), ConcentrationWidget(value=0.0, description='Concentration (µM):', layout=Layout(width='230px'), max=100000.0, style=DescriptionStyle(description_width='130px')))), SingleMolContainer(children=(Label(value='Titrant'), MoleculeNameWidget(value='titrant', layout=Layout(width='100px')), ConcentrationWidget(value=0.0, layout=Layout(width='100px'), max=100000.0))))), FloatControlWidget(value=0.0, description='Analyte volume (µL):', layout=Layout(width='230px'), max=100000.0, style=DescriptionStyle(description_width='130px')), FloatControlWidget(value=0.0, description='Total volume (µL):', layout=Layout(width='230px'), max=100000.0, style=DescriptionStyle(description_width='130px'))), _dom_classes=('panel-body',))), layout=Layout(width='400px'), _dom_classes=('panel', 'panel-default'))"
      ]
     },
     "metadata": {},
     "output_type": "display_data"
    },
    {
     "data": {
      "application/vnd.jupyter.widget-view+json": {
       "model_id": "71513ee1f7d1459593c8e482e67c1957",
       "version_major": 2,
       "version_minor": 0
      },
      "text/html": [
       "<p>Failed to display Jupyter Widget of type <code>ProtocoleContainer</code>.</p>\n",
       "<p>\n",
       "  If you're reading this message in the Jupyter Notebook or JupyterLab Notebook, it may mean\n",
       "  that the widgets JavaScript is still loading. If this message persists, it\n",
       "  likely means that the widgets JavaScript library is either not installed or\n",
       "  not enabled. See the <a href=\"https://ipywidgets.readthedocs.io/en/stable/user_install.html\">Jupyter\n",
       "  Widgets Documentation</a> for setup instructions.\n",
       "</p>\n",
       "<p>\n",
       "  If you're reading this message in another frontend (for example, a static\n",
       "  rendering on GitHub or <a href=\"https://nbviewer.jupyter.org/\">NBViewer</a>),\n",
       "  it may mean that your frontend doesn't currently support widgets.\n",
       "</p>\n"
      ],
      "text/plain": [
       "ProtocoleContainer(children=(VolumePanel(children=(VBox(children=(Label(value='Added titrant volumes', _dom_classes=('panel-header-title',)), HBox(children=(Button(button_style='primary', description='Add', icon='plus-circle', layout=Layout(width='50%'), style=ButtonStyle()), Button(button_style='warning', description='Remove', disabled=True, icon='minus-circle', layout=Layout(width='50%'), style=ButtonStyle())), layout=Layout(padding='5px 5px 5px 5px'))), _dom_classes=('panel-heading',)), VBox(children=(VBox(children=(VolumeWidget(value=0.0, description='Step 0', disabled=True, layout=Layout(height='28px', width='100%'), max=100000.0, style=DescriptionStyle(description_width='50%')),), layout=Layout(display='flex', flex_flow='column', padding='5px 5px 5px 5px')),), _dom_classes=('panel-body',)), VBox(children=(Button(button_style='success', description='Validate', icon='check', layout=Layout(width='100%'), style=ButtonStyle()),), _dom_classes=('panel-footer',))), layout=Layout(height='auto', width='250px'), _dom_classes=('panel', 'panel-default', 'volumes-container')), ProtocolePanel(children=(VBox(children=(Label(value='Protocole', _dom_classes=('panel-header-title',)),), _dom_classes=('panel-heading',)), VBox(children=(HTML(value='<table border=\"1\" class=\"dataframe\">\\n  <thead>\\n    <tr style=\"text-align: right;\">\\n      <th>Step</th>\\n      <th>Added titrant (µL)</th>\\n      <th>Total titrant (µL)</th>\\n      <th>Total volume (µL)</th>\\n      <th>[titrant] (µM)</th>\\n      <th>[analyte] (µM)</th>\\n      <th>[titrant]/[analyte]</th>\\n    </tr>\\n  </thead>\\n  <tbody>\\n    <tr>\\n      <td>0</td>\\n      <td>0</td>\\n      <td>0</td>\\n      <td>0</td>\\n      <td>NaN</td>\\n      <td>NaN</td>\\n      <td>NaN</td>\\n    </tr>\\n  </tbody>\\n</table>', _dom_classes=('rendered_html', 'protocole-table')),), _dom_classes=('panel-body',))), _dom_classes=('panel', 'panel-default'))), layout=Layout(justify_content='space-around'))"
      ]
     },
     "metadata": {},
     "output_type": "display_data"
    }
   ],
   "source": [
    "startParams = StartParamContainer()\n",
    "protocole = ProtocoleContainer()\n",
    "\n",
    "view.uploader.add_observer(startParams)\n",
    "view.uploader.add_observer(protocole)\n",
    "\n",
    "startParams.add_observer(protocole.protocole)\n",
    "\n",
    "display(startParams, protocole)"
   ]
  },
  {
   "cell_type": "code",
   "execution_count": 4,
   "metadata": {},
   "outputs": [
    {
     "data": {
      "application/vnd.jupyter.widget-view+json": {
       "model_id": "96365239aa4c4102a3bc27e3e413c850",
       "version_major": 2,
       "version_minor": 0
      },
      "text/html": [
       "<p>Failed to display Jupyter Widget of type <code>ChemshiftPanel</code>.</p>\n",
       "<p>\n",
       "  If you're reading this message in the Jupyter Notebook or JupyterLab Notebook, it may mean\n",
       "  that the widgets JavaScript is still loading. If this message persists, it\n",
       "  likely means that the widgets JavaScript library is either not installed or\n",
       "  not enabled. See the <a href=\"https://ipywidgets.readthedocs.io/en/stable/user_install.html\">Jupyter\n",
       "  Widgets Documentation</a> for setup instructions.\n",
       "</p>\n",
       "<p>\n",
       "  If you're reading this message in another frontend (for example, a static\n",
       "  rendering on GitHub or <a href=\"https://nbviewer.jupyter.org/\">NBViewer</a>),\n",
       "  it may mean that your frontend doesn't currently support widgets.\n",
       "</p>\n"
      ],
      "text/plain": [
       "ChemshiftPanel(children=(VBox(children=(Label(value='Data visualization', _dom_classes=('panel-header-title',)),), _dom_classes=('panel-heading',)), VBox(children=(VBox(children=(HTML(value='<h2>Titration files are not loaded.</h2><p>No data to display.</p>'), TitrationDirUploader(label='Upload titration directory...', _dom_classes=('widget_item', 'btn-group', 'file-uploader'))), _dom_classes=('well', 'plot-placeholder')),), _dom_classes=('panel-body',))), _dom_classes=('panel', 'panel-default', 'intensity-panel'))"
      ]
     },
     "metadata": {},
     "output_type": "display_data"
    }
   ],
   "source": [
    "from classes.bqplotwidgets import ChemshiftPanel\n",
    "chemshifts = ChemshiftPanel(view.uploader)\n",
    "display(chemshifts)"
   ]
  },
  {
   "cell_type": "code",
   "execution_count": null,
   "metadata": {},
   "outputs": [],
   "source": []
  }
 ],
 "metadata": {
  "kernelspec": {
   "display_name": "plot",
   "language": "python",
   "name": "plot"
  },
  "language_info": {
   "codemirror_mode": {
    "name": "ipython",
    "version": 3
   },
   "file_extension": ".py",
   "mimetype": "text/x-python",
   "name": "python",
   "nbconvert_exporter": "python",
   "pygments_lexer": "ipython3",
   "version": "3.5.2"
  }
 },
 "nbformat": 4,
 "nbformat_minor": 2
}
