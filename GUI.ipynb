{
 "cells": [
  {
   "cell_type": "code",
   "execution_count": 1,
   "metadata": {},
   "outputs": [],
   "source": [
    "from classes.ipywidgets import *\n",
    "from classes.Titration import Titration\n",
    "from ipyfileupload.widgets import DirectoryUploadWidget\n",
    "\n",
    "TitrationWidget.titration = Titration()"
   ]
  },
  {
   "cell_type": "code",
   "execution_count": 2,
   "metadata": {
    "scrolled": false
   },
   "outputs": [
    {
     "data": {
      "application/vnd.jupyter.widget-view+json": {
       "model_id": "35f10fbf1581469e9c5060060403a9a2",
       "version_major": 2,
       "version_minor": 0
      },
      "text/html": [
       "<p>Failed to display Jupyter Widget of type <code>HBox</code>.</p>\n",
       "<p>\n",
       "  If you're reading this message in the Jupyter Notebook or JupyterLab Notebook, it may mean\n",
       "  that the widgets JavaScript is still loading. If this message persists, it\n",
       "  likely means that the widgets JavaScript library is either not installed or\n",
       "  not enabled. See the <a href=\"https://ipywidgets.readthedocs.io/en/stable/user_install.html\">Jupyter\n",
       "  Widgets Documentation</a> for setup instructions.\n",
       "</p>\n",
       "<p>\n",
       "  If you're reading this message in another frontend (for example, a static\n",
       "  rendering on GitHub or <a href=\"https://nbviewer.jupyter.org/\">NBViewer</a>),\n",
       "  it may mean that your frontend doesn't currently support widgets.\n",
       "</p>\n"
      ],
      "text/plain": [
       "HBox(children=(TitrationFilesView(children=(VBox(children=(Label(value='Data files', _dom_classes=('panel-header-title',)),), _dom_classes=('panel-heading',)), VBox(children=(Label(value='No files yet.'),), layout=Layout(display='inline-block', height='200px', max_height='200px', overflow_x='scroll', overflow_y='scroll'), _dom_classes=('panel-body',)), VBox(children=(TitrationDirUploader(label='Upload titration directory', _dom_classes=('widget_item', 'btn-group', 'upload-directory-btn', 'file-uploader')),), _dom_classes=('panel-footer',))), layout=Layout(width='30%'), _dom_classes=('panel', 'panel-default', 'panel-shift2me', 'data-files-view')), StartParamContainer(children=(VBox(children=(Label(value='Protocole parameters', _dom_classes=('panel-header-title',)),), _dom_classes=('panel-heading',)), VBox(children=(NameWidget(value='Unnamed Titration', description='Experiment name:', layout=Layout(margin='auto'), style=DescriptionStyle(description_width='130px'), _dom_classes=('bold-label',)), HBox(children=(MoleculesContainer(children=(SingleMolContainer(children=(Label(value='Analyte', layout=Layout(width='100px'), _dom_classes=('form-head-label',)), MoleculeNameWidget(value='analyte', description='Name:', layout=Layout(width='160px'), style=DescriptionStyle(description_width='60px')), ConcentrationWidget(value=0.0, description='[µM]:', layout=Layout(width='160px'), max=100000.0, style=DescriptionStyle(description_width='60px'))), _dom_classes=('align-right',)), SingleMolContainer(children=(Label(value='Titrant', layout=Layout(width='100px'), _dom_classes=('form-head-label',)), MoleculeNameWidget(value='titrant', layout=Layout(width='100px')), ConcentrationWidget(value=0.0, layout=Layout(width='100px'), max=100000.0)), _dom_classes=('align-right',)))), VBox(children=(Label(value='Initial volumes', layout=Layout(width='100px'), _dom_classes=('form-head-label',)), FloatControlWidget(value=0.0, description='Analyte (µL):', layout=Layout(width='200px'), max=100000.0, style=DescriptionStyle(description_width='100px')), FloatControlWidget(value=0.0, description='Total (µL):', layout=Layout(width='200px'), max=100000.0, style=DescriptionStyle(description_width='100px'))), _dom_classes=('align-right',))), layout=Layout(justify_content='space-around'))), _dom_classes=('panel-body',))), layout=Layout(min_width='350px', width='68%'), _dom_classes=('panel', 'panel-default', 'panel-shift2me'))), layout=Layout(justify_content='space-around'))"
      ]
     },
     "metadata": {},
     "output_type": "display_data"
    },
    {
     "data": {
      "application/vnd.jupyter.widget-view+json": {
       "model_id": "bf09d4c9fe944ac59aa4de888f0747e5",
       "version_major": 2,
       "version_minor": 0
      },
      "text/html": [
       "<p>Failed to display Jupyter Widget of type <code>ProtocoleContainer</code>.</p>\n",
       "<p>\n",
       "  If you're reading this message in the Jupyter Notebook or JupyterLab Notebook, it may mean\n",
       "  that the widgets JavaScript is still loading. If this message persists, it\n",
       "  likely means that the widgets JavaScript library is either not installed or\n",
       "  not enabled. See the <a href=\"https://ipywidgets.readthedocs.io/en/stable/user_install.html\">Jupyter\n",
       "  Widgets Documentation</a> for setup instructions.\n",
       "</p>\n",
       "<p>\n",
       "  If you're reading this message in another frontend (for example, a static\n",
       "  rendering on GitHub or <a href=\"https://nbviewer.jupyter.org/\">NBViewer</a>),\n",
       "  it may mean that your frontend doesn't currently support widgets.\n",
       "</p>\n"
      ],
      "text/plain": [
       "ProtocoleContainer(children=(VolumePanel(children=(VBox(children=(Label(value='Added titrant volumes', _dom_classes=('panel-header-title',)), HBox(children=(Button(button_style='primary', description='Add', icon='plus-circle', layout=Layout(width='50%'), style=ButtonStyle()), Button(button_style='warning', description='Remove', disabled=True, icon='minus-circle', layout=Layout(width='50%'), style=ButtonStyle())), layout=Layout(padding='5px 5px 5px 5px'))), _dom_classes=('panel-heading',)), VBox(children=(VBox(children=(VolumeWidget(value=0.0, description='Step 0', disabled=True, layout=Layout(height='28px', width='100%'), max=100000.0, style=DescriptionStyle(description_width='50%'), _dom_classes=('volume-input-widget',)),), layout=Layout(display='flex', flex_flow='column', padding='5px 5px 5px 5px')),), _dom_classes=('panel-body',)), VBox(children=(Button(button_style='success', description='Validate', icon='check', layout=Layout(width='100%'), style=ButtonStyle()),), _dom_classes=('panel-footer',))), layout=Layout(height='auto', width='30%'), _dom_classes=('panel', 'panel-default', 'panel-shift2me', 'volumes-container')), ProtocolePanel(children=(VBox(children=(Label(value='Protocole', _dom_classes=('panel-header-title',)),), _dom_classes=('panel-heading',)), VBox(children=(HTML(value='<table border=\"1\" class=\"dataframe\">\\n  <thead>\\n    <tr style=\"text-align: right;\">\\n      <th>Step</th>\\n      <th>Added titrant (µL)</th>\\n      <th>Total titrant (µL)</th>\\n      <th>Total volume (µL)</th>\\n      <th>[titrant] (µM)</th>\\n      <th>[analyte] (µM)</th>\\n      <th>[titrant]/[analyte]</th>\\n    </tr>\\n  </thead>\\n  <tbody>\\n    <tr>\\n      <td>0</td>\\n      <td>0</td>\\n      <td>0</td>\\n      <td>0</td>\\n      <td>NaN</td>\\n      <td>NaN</td>\\n      <td>NaN</td>\\n    </tr>\\n  </tbody>\\n</table>', _dom_classes=('rendered_html', 'protocole-table')),), _dom_classes=('panel-body',))), layout=Layout(height='auto', width='68%'), _dom_classes=('panel', 'panel-default', 'panel-shift2me'))), layout=Layout(justify_content='space-around'))"
      ]
     },
     "metadata": {},
     "output_type": "display_data"
    },
    {
     "data": {
      "application/vnd.jupyter.widget-view+json": {
       "model_id": "0e6d8d9968454e45b07876e0e0ab86f4",
       "version_major": 2,
       "version_minor": 0
      },
      "text/html": [
       "<p>Failed to display Jupyter Widget of type <code>ChemshiftPanel</code>.</p>\n",
       "<p>\n",
       "  If you're reading this message in the Jupyter Notebook or JupyterLab Notebook, it may mean\n",
       "  that the widgets JavaScript is still loading. If this message persists, it\n",
       "  likely means that the widgets JavaScript library is either not installed or\n",
       "  not enabled. See the <a href=\"https://ipywidgets.readthedocs.io/en/stable/user_install.html\">Jupyter\n",
       "  Widgets Documentation</a> for setup instructions.\n",
       "</p>\n",
       "<p>\n",
       "  If you're reading this message in another frontend (for example, a static\n",
       "  rendering on GitHub or <a href=\"https://nbviewer.jupyter.org/\">NBViewer</a>),\n",
       "  it may mean that your frontend doesn't currently support widgets.\n",
       "</p>\n"
      ],
      "text/plain": [
       "ChemshiftPanel(children=(VBox(children=(Label(value='Data visualization', _dom_classes=('panel-header-title',)),), _dom_classes=('panel-heading',)), VBox(children=(VBox(children=(HTML(value='<h2>Titration files are not loaded.</h2><p>No data to display.</p>'), TitrationDirUploader(label='Upload titration directory', _dom_classes=('widget_item', 'btn-group', 'upload-directory-btn', 'file-uploader'))), _dom_classes=('well', 'plot-placeholder')),), _dom_classes=('panel-body',))), _dom_classes=('panel', 'panel-default', 'panel-shift2me', 'intensity-panel'))"
      ]
     },
     "metadata": {},
     "output_type": "display_data"
    }
   ],
   "source": [
    "from classes.bqplotwidgets import ChemshiftPanel\n",
    "\n",
    "view = TitrationFilesView()\n",
    "\n",
    "\n",
    "chemshifts = ChemshiftPanel(view.uploader)\n",
    "startParams = StartParamContainer()\n",
    "protocole = ProtocoleContainer()\n",
    "\n",
    "view.uploader.add_observer(startParams.update)\n",
    "view.uploader.add_observer(protocole.update)\n",
    "startParams.add_observer(protocole.protocole.update)\n",
    "startParams.add_observer(chemshifts.update_curves)\n",
    "protocole.volumes.validate_button.on_click(chemshifts.update_curves)\n",
    "\n",
    "display(\n",
    "    HBox([view,startParams], layout=Layout(justify_content='space-around')), \n",
    "    protocole,\n",
    "    chemshifts\n",
    ")"
   ]
  },
  {
   "cell_type": "code",
   "execution_count": null,
   "metadata": {},
   "outputs": [],
   "source": []
  }
 ],
 "metadata": {
  "kernelspec": {
   "display_name": "plot",
   "language": "python",
   "name": "plot"
  },
  "language_info": {
   "codemirror_mode": {
    "name": "ipython",
    "version": 3
   },
   "file_extension": ".py",
   "mimetype": "text/x-python",
   "name": "python",
   "nbconvert_exporter": "python",
   "pygments_lexer": "ipython3",
   "version": "3.5.2"
  }
 },
 "nbformat": 4,
 "nbformat_minor": 2
}
